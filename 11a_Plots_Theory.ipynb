{
 "cells": [
  {
   "cell_type": "markdown",
   "metadata": {},
   "source": [
    "<img src=\"data/Lernfortschritt13.PNG\" width=\"1000\">\n",
    "\n",
    "&nbsp;&nbsp;&nbsp;&nbsp;&nbsp;&nbsp;&nbsp;&nbsp;&nbsp;&nbsp;&nbsp;&nbsp;&nbsp;&nbsp;&nbsp;&nbsp;&nbsp;&nbsp;&nbsp;&nbsp;&nbsp;&nbsp;&nbsp;&nbsp;&nbsp;&nbsp;&nbsp;&nbsp;&nbsp;&nbsp;&nbsp;&nbsp;&nbsp;&nbsp;&nbsp;&nbsp;&nbsp;&nbsp;&nbsp;&nbsp;&nbsp;&nbsp;&nbsp;&nbsp;&nbsp;&nbsp;&nbsp;&nbsp;&nbsp;&nbsp;&nbsp;&nbsp;&nbsp;&nbsp;&nbsp;&nbsp;&nbsp;&nbsp;&nbsp;&nbsp;&nbsp;&nbsp;&nbsp;&nbsp;&nbsp;&nbsp;&nbsp;&nbsp;&nbsp;&nbsp;&nbsp;&nbsp;&nbsp;&nbsp;&nbsp;&nbsp;&nbsp;&nbsp;&nbsp;&nbsp;&nbsp;&nbsp;&nbsp;&nbsp;&nbsp;&nbsp;&nbsp;&nbsp;&nbsp;&nbsp;&nbsp;&nbsp;&nbsp;&nbsp;&nbsp;&nbsp;&nbsp;&nbsp;&nbsp;&nbsp;&nbsp;&nbsp;&nbsp;&nbsp;&nbsp;&nbsp;&nbsp;&nbsp;&nbsp;&nbsp;&nbsp;&nbsp;&nbsp;&nbsp;&nbsp;&nbsp;&nbsp;&nbsp;&nbsp;&nbsp;&nbsp;&nbsp;&nbsp;&nbsp;&nbsp;&nbsp;&nbsp;&nbsp;&nbsp;&nbsp;&nbsp;&nbsp;&nbsp;&nbsp;&nbsp;&nbsp;&nbsp;&nbsp;&nbsp;&nbsp;&nbsp;&nbsp;&nbsp;&nbsp;&nbsp;&nbsp;&nbsp;&nbsp;&nbsp;&nbsp;&nbsp;&nbsp;&nbsp;&nbsp;&nbsp;&nbsp;&nbsp;&nbsp;&nbsp;&nbsp;&nbsp;&nbsp;&nbsp;&nbsp;&nbsp;&nbsp;&nbsp;&nbsp;&nbsp;&nbsp;&nbsp;&nbsp;&nbsp;&nbsp;&nbsp;&nbsp;&nbsp;&nbsp;&nbsp;&nbsp;&nbsp;&nbsp;&nbsp;&nbsp;&nbsp;&nbsp;&nbsp;&nbsp;&nbsp;&nbsp;&nbsp;&nbsp;&nbsp;&nbsp;&nbsp; [10. Numpy Arrays](10a_NumPy_Theory.ipynb) &nbsp;&nbsp;&nbsp;&nbsp;  11. Plots   &nbsp;&nbsp;&nbsp;&nbsp;  [12. Outlook: Curve Fitting with SciPy](12_SciPy.ipynb)\n",
    "\n",
    "[JuPy: Table of Contents](00_Introduction.ipynb#TOC)"
   ]
  },
  {
   "cell_type": "markdown",
   "metadata": {},
   "source": [
    "# 11. Plots"
   ]
  },
  {
   "cell_type": "markdown",
   "metadata": {},
   "source": [
    "In this chapter basics of data visualization using line and scatter plots in Python are introduced. We use the library `matplotlib`. This library offers numerous possibilities to easily create a large variety of plots such as line plots, scatter plots, histograms, bar plots, etc.  \n",
    "\n",
    "We present functions of the submodule `pyplot` that have Matlab like syntax. \n",
    "\n",
    "---\n",
    "## Simple Line Diagrams\n",
    "\n",
    "First we import the library and assign the identifier `plt`:\n",
    "```python\n",
    "import matplotlib.pyplot as plt\n",
    "```\n",
    "Functions of the module can now be accessed using `plt.identifier()`. \n",
    "\n",
    "Line diagrams can be created with the ```plot()``` function. "
   ]
  },
  {
   "cell_type": "markdown",
   "metadata": {
    "tags": []
   },
   "source": [
    "---\n",
    "### Example 1\n",
    "\n",
    "The `plot()` function receives a list of values. These values are interpreted as $y$ values while the list indices are interpreted as the corresponding $x$ values.   \n",
    "Depending on the settings it might be required to call `plt.show()` to display the plot.\n",
    "\n",
    "The first plot depicts a list of arbirary numbers as a line diagram.  "
   ]
  },
  {
   "cell_type": "code",
   "execution_count": null,
   "metadata": {},
   "outputs": [],
   "source": [
    "import matplotlib.pyplot as plt\n",
    "y = [1, 4, -3, 17, 10, 33, 29]\n",
    "plt.plot(y)\n",
    "plt.show()"
   ]
  },
  {
   "cell_type": "markdown",
   "metadata": {},
   "source": [
    "In order to eqially specify $x$ values we need a second list with the $x$ values and pass it as first parameter to the  ```plot()``` function."
   ]
  },
  {
   "cell_type": "code",
   "execution_count": null,
   "metadata": {},
   "outputs": [],
   "source": [
    "import matplotlib.pyplot as plt\n",
    "x = [1, 2, 3, 4]\n",
    "y = [1, 4, 9, 16]\n",
    "plt.plot(x,y)\n",
    "plt.show()"
   ]
  },
  {
   "cell_type": "markdown",
   "metadata": {},
   "source": [
    "Please compare above plot with the following plot when we call `plot()` only with the $y$ values."
   ]
  },
  {
   "cell_type": "code",
   "execution_count": null,
   "metadata": {},
   "outputs": [],
   "source": [
    "import matplotlib.pyplot as plt\n",
    "x = [1, 2, 3, 4]\n",
    "y = [1, 4, 9, 16]\n",
    "plt.plot(y) # only y values are passed to the function\n",
    "plt.show()"
   ]
  },
  {
   "cell_type": "markdown",
   "metadata": {},
   "source": [
    "It is therefore **recommended** to always specify $x$ and $y$ values."
   ]
  },
  {
   "cell_type": "markdown",
   "metadata": {},
   "source": [
    "---\n",
    "## Formatting the Appearance of the Plot"
   ]
  },
  {
   "cell_type": "markdown",
   "metadata": {},
   "source": [
    "By default a plot is displayed as a blue continuous line. The axes are equally scaled automatically. This can be configured using parameters.  "
   ]
  },
  {
   "cell_type": "markdown",
   "metadata": {},
   "source": [
    "A style parameter in the ```plot()``` function allows for defining the color, line styles and markers for the data points. After the $x$ and $y$ values the style is defined as one string parameter.  "
   ]
  },
  {
   "cell_type": "markdown",
   "metadata": {},
   "source": [
    "To plot red circles at the data points instead of a blue line, the following code is used: \n",
    "```python\n",
    "plt.plot(x,y,'ro')\n",
    "```\n"
   ]
  },
  {
   "cell_type": "markdown",
   "metadata": {},
   "source": [
    "The style parameter consists of maximum one specification each for color, markers and style lines.<br>\n",
    "\n",
    "The supported **color** abbreviations:<br>\n",
    "\n",
    "|character|description|\n",
    "|------|------|\n",
    "|`b` |blue|\n",
    "|`c` |cyan|\n",
    "|`g` |green|\n",
    "|`m` |magenta|\n",
    "|`r` |red|\n",
    "|`y` |yellow|\n",
    "|`k` |black|\n",
    "|`w` |white|\n"
   ]
  },
  {
   "cell_type": "markdown",
   "metadata": {},
   "source": [
    "\n",
    "The different **line styles**:<br>\n",
    "\n",
    "|character|description|\n",
    "|------|------|\n",
    "|`-` | solid line|\n",
    "|`--` | dashed line|\n",
    "|`-.` | dash-dot line|\n",
    "|`:` | dotted line|\n",
    "\n",
    "\n",
    "\n",
    "Examples for different  **markers**:<br>\n",
    "\n",
    "|character|description|\n",
    "|------|------|\n",
    "|`o` | circle marker|\n",
    "|`s` | square marker|\n",
    "|`^` | triangle_up marker|\n",
    "|`*` | star marker|\n",
    "\n",
    "In the documentation you find the complete list of marker styles  (https://matplotlib.org/stable/api/_as_gen/matplotlib.pyplot.plot.html#matplotlib.pyplot.plot)."
   ]
  },
  {
   "cell_type": "markdown",
   "metadata": {},
   "source": [
    "The parameter ```linewidth=``` and ```markersize=``` expect flloating point values and allow for the specification of the line width and the size of the markers.  "
   ]
  },
  {
   "cell_type": "markdown",
   "metadata": {},
   "source": [
    "## A Figure with Several Plots"
   ]
  },
  {
   "cell_type": "markdown",
   "metadata": {},
   "source": [
    "To plot several plots in the same figure the function `plt.plot()` simply needs to be called several times with the respective values. Depending on the settings the figure will be finalized and displayed after calling ```plt.show()```."
   ]
  },
  {
   "cell_type": "markdown",
   "metadata": {},
   "source": [
    "---\n",
    "### Example 2"
   ]
  },
  {
   "cell_type": "markdown",
   "metadata": {},
   "source": [
    "The following code plots the points $(x,x)$ using a dashed red line with width of 3 and $(x,x^2)$ as black squares with a marker size of 2. "
   ]
  },
  {
   "cell_type": "code",
   "execution_count": null,
   "metadata": {},
   "outputs": [],
   "source": [
    "import matplotlib.pyplot as plt\n",
    "import numpy as np\n",
    "\n",
    "x = np.arange(0., 5., 0.2)\n",
    "x2 = [i**2 for i in x]\n",
    "\n",
    "\n",
    "plt.plot(x, x, 'r--', linewidth=3)\n",
    "plt.plot(x, x2,'ks', markersize=2)\n",
    "\n",
    "plt.show()\n",
    "\n"
   ]
  },
  {
   "cell_type": "markdown",
   "metadata": {},
   "source": [
    "## Adding Title, Label and Legend\n",
    "To specify the axis labels the functions  ```xlabel()``` and ```ylabel()``` are used. Both expect the label as a parameter of type string. <br>\n",
    "The function ```title()``` allows for the specification of the figure title which is passed in form of a string parameter. \n",
    "\n",
    "To add a legend the function `legend()` is used. When called without parameters, the elements to be added to the legend are automatically determinded. By setting the parameter `label` in the call of the `plot()` function, a plot is labeled as part of the legend and the label to be displayed is set. The position of the legend is determined automatically, but can be modified using the `loc` parameter. \n",
    "\n",
    "---\n",
    "### Example 3"
   ]
  },
  {
   "cell_type": "code",
   "execution_count": null,
   "metadata": {},
   "outputs": [],
   "source": [
    "import numpy as np\n",
    "import matplotlib.pyplot as plt\n",
    "\n",
    "X = np.linspace(0, 2 * np.pi, 200)\n",
    "F1 = 3 * np.cos(X)\n",
    "F2 = np.sin(2*X)\n",
    "\n",
    "plt.plot(X, F1, 'b-', linewidth=2.5, label='3*cosine')\n",
    "plt.plot(X, F2, 'r--', linewidth=1.5, label='compressed sine')\n",
    "plt.xlabel('X-Values')\n",
    "plt.ylabel('Y-Values')\n",
    "plt.legend(loc='lower left')\n",
    "\n",
    "plt.title(\"Trigonometric Functions\")\n",
    "\n",
    "plt.show()"
   ]
  },
  {
   "cell_type": "markdown",
   "metadata": {},
   "source": [
    "## Definition of the Range and the Scale of the Axes"
   ]
  },
  {
   "cell_type": "markdown",
   "metadata": {},
   "source": [
    "The displayed range of the $x$ and $y$ axes is automatically determined. It can be modified using the  ```axis()``` function with the following syntax:<br>\n",
    "\n",
    "```python\n",
    "plt.axis([xmin,xmax,ymin,ymax])\n",
    "```\n",
    "\n",
    "To modify the location of the axis ticks the functions    ```xticks()```  and ```yticks()``` can be used. They receive an array like (array, list or similar) parameter with the tick locations.\n",
    " \n",
    "---\n",
    "### Example 4\n",
    "The following code modifies example 3 by changing the range of the axis and displaying the ticks with distance 0.5: "
   ]
  },
  {
   "cell_type": "code",
   "execution_count": null,
   "metadata": {},
   "outputs": [],
   "source": [
    "import numpy as np\n",
    "import matplotlib.pyplot as plt\n",
    "\n",
    "X = np.linspace(0, 2 * np.pi, 200)\n",
    "F1 = 3 * np.cos(X)\n",
    "F2 = np.sin(2*X)\n",
    "\n",
    "plt.plot(X, F1, 'b-', linewidth=2.5, label='3*cosine')\n",
    "plt.plot(X, F2, 'r--', linewidth=1.5, label='compressed sine')\n",
    "plt.axis([0, 7, -3.5, 3.5])\n",
    "plt.xticks(np.linspace(0,7,15, endpoint=True))\n",
    "plt.xlabel('X-Values')\n",
    "plt.ylabel('Y-Values')\n",
    "plt.legend(loc='lower left')\n",
    "\n",
    "plt.show()"
   ]
  },
  {
   "cell_type": "markdown",
   "metadata": {},
   "source": [
    "Usually the ticks in graphs of trigonometric functions are labled using multiples $\\pi$. A second parameter in the `xticks()` function is used to specify the labels for the ticks:"
   ]
  },
  {
   "cell_type": "code",
   "execution_count": null,
   "metadata": {},
   "outputs": [],
   "source": [
    "import numpy as np\n",
    "import matplotlib.pyplot as plt\n",
    "\n",
    "X = np.linspace(0, 2 * np.pi, 200)\n",
    "F1 = 3 * np.cos(X)\n",
    "F2 = np.sin(2*X)\n",
    "\n",
    "plt.plot(X, F1, 'b-', linewidth=2.5, label='3*cosine')\n",
    "plt.plot(X, F2, 'r--', linewidth=1.5, label='compressed sine')\n",
    "plt.axis([0, 7, -3.5, 3.5])\n",
    "plt.xticks( [0, np.pi/2, np.pi, np.pi*3/2, np.pi*2],\n",
    "            [r'$0$', r'$+\\pi/2$', r'$+\\pi$', r'$+3\\pi/2$', r'$+2\\pi$']) #we use LaTeX style for tick labeling\n",
    "plt.xlabel('X-Values')\n",
    "plt.ylabel('Y-Values')\n",
    "plt.legend(loc='lower left')\n",
    "\n",
    "plt.show()"
   ]
  },
  {
   "cell_type": "markdown",
   "metadata": {},
   "source": [
    "## Subplots"
   ]
  },
  {
   "cell_type": "markdown",
   "metadata": {},
   "source": [
    "The `subplot()` function allows to create several subplots inside the same figure:\n",
    "```python\n",
    "plt.subplot(nbOfRows, nbOfColumns, plotNumber)\n",
    "```\n",
    "To indicate that a plot is drawn in the lower left corner of a 3x3 plots graphics, ```plt.subplot(3, 3, 7)``` is called.\n",
    "\n"
   ]
  },
  {
   "cell_type": "markdown",
   "metadata": {},
   "source": [
    "---\n",
    "### Example 5"
   ]
  },
  {
   "cell_type": "markdown",
   "metadata": {},
   "source": [
    "To illustrate the use of `subplot()` the two plots of the previous example are now displayed in two subplots."
   ]
  },
  {
   "cell_type": "code",
   "execution_count": null,
   "metadata": {},
   "outputs": [],
   "source": [
    "import numpy as np\n",
    "import matplotlib.pyplot as plt\n",
    "\n",
    "X = np.linspace(0, 2 * np.pi, 200)\n",
    "F1 = 3 * np.cos(X)\n",
    "F2 = np.sin(2*X)\n",
    "\n",
    "plt.subplot(2,1,1) # the following code defines the upper subplot\n",
    "plt.plot(X, F1, 'b-', linewidth=2.5, label='3*cosine')\n",
    "plt.axis([0, 7, -3.5, 3.5])\n",
    "plt.xticks( [0, np.pi/2, np.pi, np.pi*3/2, np.pi*2],\n",
    "            [r'$0$', r'$+\\pi/2$', r'$+\\pi$', r'$+3\\pi/2$', r'$+2\\pi$']) #we use LaTeX style for tick labeling\n",
    "plt.xlabel('X-Values')\n",
    "plt.ylabel('Y-Values')\n",
    "plt.legend(loc='lower left')\n",
    "\n",
    "plt.subplot(2,1,2) # the following code defines the lower subplot\n",
    "plt.plot(X, F2, 'r--', linewidth=1.5, label='compressed sine')\n",
    "plt.axis([0, 7, -3.5, 3.5])\n",
    "plt.xticks( [0, np.pi/2, np.pi, np.pi*3/2, np.pi*2],\n",
    "            [r'$0$', r'$+\\pi/2$', r'$+\\pi$', r'$+3\\pi/2$', r'$+2\\pi$']) #we use LaTeX style for tick labeling\n",
    "plt.xlabel('X-Values')\n",
    "plt.ylabel('Y-Values')\n",
    "plt.legend(loc='lower left')\n",
    "\n",
    "plt.show()"
   ]
  },
  {
   "cell_type": "markdown",
   "metadata": {},
   "source": [
    "---\n",
    "## Self Test\n",
    "\n",
    "- The following questions aim at testing your knowledge of the chapter.\n",
    "- Please run the following cell and select the appropriate answer.\n",
    "- Assume that `matplotlib.pyplot` was imported using: \n",
    "```python\n",
    "import matplotlib.pyplot as plt\n",
    "```\n",
    "- After correctly answering the questions you may continue with the exercises or the next topic. \n"
   ]
  },
  {
   "cell_type": "code",
   "execution_count": 1,
   "metadata": {},
   "outputs": [
    {
     "data": {
      "application/vnd.jupyter.widget-view+json": {
       "model_id": "500800de24034bd2a0c8ad4b265aa41d",
       "version_major": 2,
       "version_minor": 0
      },
      "text/plain": [
       "VBox(children=(Output(), RadioButtons(options=(('plt.label()', 0), ('plt.xlabel()', 1), ('plt.labelx()', 2), (…"
      ]
     },
     "metadata": {},
     "output_type": "display_data"
    },
    {
     "data": {
      "application/vnd.jupyter.widget-view+json": {
       "model_id": "aa68e0c1ca5c4419a1514b4dcb410af2",
       "version_major": 2,
       "version_minor": 0
      },
      "text/plain": [
       "VBox(children=(Output(), RadioButtons(options=(('black-', 0), ('k--', 1), ('key--', 2), ('b--', 3)), value=0),…"
      ]
     },
     "metadata": {},
     "output_type": "display_data"
    },
    {
     "data": {
      "application/vnd.jupyter.widget-view+json": {
       "model_id": "2e0712a3e21d4c2f896c5c2467c5e8b9",
       "version_major": 2,
       "version_minor": 0
      },
      "text/plain": [
       "VBox(children=(Output(), RadioButtons(options=(('(1,3,2)', 0), ('(3,1,2)', 1), ('(2,3,1)', 2), ('(3,2,1)', 3),…"
      ]
     },
     "metadata": {},
     "output_type": "display_data"
    },
    {
     "data": {
      "application/vnd.jupyter.widget-view+json": {
       "model_id": "b7d389e3dac5403eb85f4692a0a4c237",
       "version_major": 2,
       "version_minor": 0
      },
      "text/plain": [
       "VBox(children=(Output(), RadioButtons(options=(('plt.achse([-2,2])', 0), ('plt.axis(-2,2)', 1), ('plt.axis([-2…"
      ]
     },
     "metadata": {},
     "output_type": "display_data"
    }
   ],
   "source": [
    "%run data/11_SelfTest.ipynb"
   ]
  },
  {
   "cell_type": "markdown",
   "metadata": {},
   "source": [
    "\n",
    "---\n",
    "**Congratulations!**  You finished this chapter.\n",
    "\n",
    "Link to the exercises of chapter 11: [A 11. Plots: Exercises](11b_Plots_Exercises.ipynb)"
   ]
  },
  {
   "cell_type": "markdown",
   "metadata": {
    "deletable": false,
    "editable": false,
    "tags": []
   },
   "source": [
    "<a rel=\"license\" href=\"http://creativecommons.org/licenses/by-nc-nd/4.0/\"><img alt=\"Creative Commons License\" style=\"border-width:0\" src=\"https://i.creativecommons.org/l/by-nc-nd/4.0/88x31.png\" /></a><br /><span xmlns:dct=\"http://purl.org/dc/terms/\" property=\"dct:title\">JuPy Python Course</span> by <span xmlns:cc=\"http://creativecommons.org/ns#\" property=\"cc:attributionName\">EAH Jena</span> is licensed under a <a rel=\"license\" href=\"http://creativecommons.org/licenses/by-nc-nd/4.0/\">Creative Commons Attribution-NonCommercial-NoDerivatives 4.0 International License</a>."
   ]
  }
 ],
 "metadata": {
  "kernelspec": {
   "display_name": "Python 3 (ipykernel)",
   "language": "python",
   "name": "python3"
  },
  "language_info": {
   "codemirror_mode": {
    "name": "ipython",
    "version": 3
   },
   "file_extension": ".py",
   "mimetype": "text/x-python",
   "name": "python",
   "nbconvert_exporter": "python",
   "pygments_lexer": "ipython3",
   "version": "3.10.13"
  }
 },
 "nbformat": 4,
 "nbformat_minor": 4
}
