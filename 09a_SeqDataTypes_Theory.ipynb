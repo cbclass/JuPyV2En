{
 "cells": [
  {
   "cell_type": "markdown",
   "metadata": {},
   "source": [
    "<img src=\"./data/Lernfortschritt09.PNG\" width=\"1000\">\n",
    "\n",
    "&nbsp;&nbsp;&nbsp;&nbsp;&nbsp;&nbsp;&nbsp;&nbsp;&nbsp;&nbsp;&nbsp;&nbsp;&nbsp;&nbsp;&nbsp;&nbsp;&nbsp;&nbsp;&nbsp;&nbsp;&nbsp;&nbsp;&nbsp;&nbsp;&nbsp;&nbsp;&nbsp;&nbsp;&nbsp;&nbsp;&nbsp;&nbsp;&nbsp;&nbsp;&nbsp;&nbsp;&nbsp;&nbsp;&nbsp;&nbsp;&nbsp;&nbsp;&nbsp;&nbsp;&nbsp;&nbsp;&nbsp;&nbsp;&nbsp;&nbsp;&nbsp;&nbsp;&nbsp;&nbsp;&nbsp;&nbsp;&nbsp;&nbsp;&nbsp;&nbsp;&nbsp;&nbsp;&nbsp;&nbsp;&nbsp;&nbsp;&nbsp;&nbsp;&nbsp;&nbsp;&nbsp;&nbsp;&nbsp;&nbsp;&nbsp;&nbsp;&nbsp;&nbsp;&nbsp;&nbsp;&nbsp;&nbsp;&nbsp;&nbsp;&nbsp;&nbsp;&nbsp;&nbsp;&nbsp;&nbsp;&nbsp;&nbsp;&nbsp;&nbsp;&nbsp;&nbsp;&nbsp;&nbsp;&nbsp;&nbsp;[8. Functions](./08a_Functions_Theory.ipynb) &nbsp;&nbsp;&nbsp;&nbsp;  9. Sequential Data Types   &nbsp;&nbsp;&nbsp;&nbsp;  [10. NumPy Arrays](./10a_NumPy_Theory.ipynb)\n",
    "\n",
    "[JuPy: Table of Contents](00_Introduction.ipynb#TOC)"
   ]
  },
  {
   "cell_type": "markdown",
   "metadata": {},
   "source": [
    "# 9. Sequential Data Types"
   ]
  },
  {
   "cell_type": "markdown",
   "metadata": {},
   "source": [
    "The following non scalar data types belong to the **sequential data types** (The term \"scalar\" refers to a mathematical identity that is characterized by a numerical value): \n",
    "* `str`: the type for **strings**, e.g. `myString = \"Snowboard\"`\n",
    "* `list`: the type for **lists**, e.g. `myList = [95, 61 ,12, 45, 23]`\n",
    "* `tuple`: the type for **tuple**, e.g. `myTuple = (\"Johann\", \"Lea\", \"Paula\", \"Pia\")`\n",
    "\n",
    "Individual elements of sequential data types are accessed using an **index**. The first element has the index 0. \n"
   ]
  },
  {
   "cell_type": "markdown",
   "metadata": {},
   "source": [
    "<a id='list'></a>\n",
    "## Lists\n",
    "\n",
    "In lists values of the same or different data types can be stored sequentially. A list ist defined using the square brackets `[` and `]`. Individual list elements are separated using a `,`: "
   ]
  },
  {
   "cell_type": "code",
   "execution_count": null,
   "metadata": {
    "tags": []
   },
   "outputs": [],
   "source": [
    "# Definition of lists\n",
    "emptyList=[]\n",
    "listWithOneElement=[1]\n",
    "listWithMultipleElements=[1,1,2,3]\n",
    "print(emptyList)\n",
    "print(listWithOneElement)\n",
    "print(listWithMultipleElements)"
   ]
  },
  {
   "cell_type": "markdown",
   "metadata": {},
   "source": [
    "The following list stores measured temperature values."
   ]
  },
  {
   "cell_type": "code",
   "execution_count": null,
   "metadata": {},
   "outputs": [],
   "source": [
    "temp = [3.3, 5.6, 6.7, 7.4, 7.3, 5.2]"
   ]
  },
  {
   "cell_type": "markdown",
   "metadata": {},
   "source": [
    "As mentioned above the index is used to access individual list elements. The index starts with `0` and increases by 1 from left to right. The first element in above example, the `3.3` has thus the index `0` while the last element, the `5.2` has index `5`. \n",
    "\n",
    "In above example all elements are numbers. **Elements** of lists can be of **any type** and in one list elements of different data types can be stored: "
   ]
  },
  {
   "cell_type": "code",
   "execution_count": null,
   "metadata": {},
   "outputs": [],
   "source": [
    "mixedList=[True,1.3,23,'Hallo']\n",
    "print(mixedList)"
   ]
  },
  {
   "cell_type": "markdown",
   "metadata": {},
   "source": [
    "The following examples illustrate how list information and elements can be accessed."
   ]
  },
  {
   "cell_type": "markdown",
   "metadata": {},
   "source": [
    "---\n",
    "### Example 1: Testing the Existence of Specific Values in the List"
   ]
  },
  {
   "cell_type": "markdown",
   "metadata": {},
   "source": [
    "The operators `in` and `not in` check the existence of a specific value in the list and return a Boolean value (`True` or `False`). "
   ]
  },
  {
   "cell_type": "code",
   "execution_count": null,
   "metadata": {},
   "outputs": [],
   "source": [
    "theList = [3.3, 5.6, 6.7, 7.4, 7.3, 5.2]\n",
    "print(3.3 in theList)         # => True as 3.3 is in the list\n",
    "print(0.2 in theList)         # => False as 0.2 is not in the list\n",
    "print(3.3 not in theList)     # => False as it is not correct that \n",
    "                              #    3.3 is not in the list \n",
    "print(0.2 not in theList)     # => True as 0.2 is not in the list"
   ]
  },
  {
   "cell_type": "markdown",
   "metadata": {},
   "source": [
    "---\n",
    "### Example 2: Length of the List"
   ]
  },
  {
   "cell_type": "markdown",
   "metadata": {},
   "source": [
    "The function `len()` determines the length of the list, i.e. the number of elements in the list."
   ]
  },
  {
   "cell_type": "code",
   "execution_count": null,
   "metadata": {},
   "outputs": [],
   "source": [
    "theList = [3.3, 5.6, 6.7, 7.4, 7.3, 5.2]\n",
    "print(len(theList))"
   ]
  },
  {
   "cell_type": "markdown",
   "metadata": {},
   "source": [
    "---\n",
    "### Example 3: Accessing Individual Elements of the List\n",
    "\n",
    "Induvidual elements of the list are accessed using the `[]` operator and the index of the element. "
   ]
  },
  {
   "cell_type": "code",
   "execution_count": null,
   "metadata": {},
   "outputs": [],
   "source": [
    "theList = [3.3, 5.6, 6.7, 7.4, 7.3, 5.2]\n",
    "print('First Element:',theList[0]) # Index 0\n",
    "print('Third Element:',theList[2]) # Index 2"
   ]
  },
  {
   "cell_type": "markdown",
   "metadata": {},
   "source": [
    "---\n",
    "### Example 4: Accessing the last Element of the List\n",
    "\n",
    "To access the last element of the list we can use `len()`. "
   ]
  },
  {
   "cell_type": "code",
   "execution_count": null,
   "metadata": {},
   "outputs": [],
   "source": [
    "theList = [3.3, 5.6, 6.7, 7.4, 7.3, 5.2]\n",
    "print(theList[len(theList)-1]) # remember, the first index is 0"
   ]
  },
  {
   "cell_type": "markdown",
   "metadata": {},
   "source": [
    "The last element can also be accessed using the index `-1`:"
   ]
  },
  {
   "cell_type": "code",
   "execution_count": null,
   "metadata": {},
   "outputs": [],
   "source": [
    "theList = [3.3, 5.6, 6.7, 7.4, 7.3, 5.2]\n",
    "print(theList[-1])"
   ]
  },
  {
   "cell_type": "markdown",
   "metadata": {},
   "source": [
    "<a id='slicing'></a>\n",
    "---\n",
    "### Example 5: Slicing: Accessing a \"Range\" of Elements\n",
    "\n",
    "With **slicing** we can access a range of elements. The range is defined by up to 3 values, separated by `:`. The first value denotes the first index of the range (inclusive), the second value the last index of the range (exclusive) and the third value the step size. The first and the second value can remain empty and will be replaced by \"end values\" (`0` and `len()` in case of positive step size). If the third value remains empty step size is set to 1. "
   ]
  },
  {
   "cell_type": "code",
   "execution_count": null,
   "metadata": {},
   "outputs": [],
   "source": [
    "theList = [3.3, 5.6, 6.7, 7.4, 7.3, 5.2]\n",
    "print(theList[1:4])       # from index 1 to index 3"
   ]
  },
  {
   "cell_type": "code",
   "execution_count": null,
   "metadata": {},
   "outputs": [],
   "source": [
    "theList = [3.3, 5.6, 6.7, 7.4, 7.3, 5.2]\n",
    "print(theList[0:-1:2])     # every second element from the first to the last element"
   ]
  },
  {
   "cell_type": "code",
   "execution_count": null,
   "metadata": {},
   "outputs": [],
   "source": [
    "theList = [3.3, 5.6, 6.7, 7.4, 7.3, 5.2]\n",
    "print(theList[::2])        # every second element from the first to the last element"
   ]
  },
  {
   "cell_type": "markdown",
   "metadata": {},
   "source": [
    "--- \n",
    "### Example 6: Concatination\n",
    "\n",
    "Lists can be **concatinated** using the `+` operator. "
   ]
  },
  {
   "cell_type": "code",
   "execution_count": null,
   "metadata": {},
   "outputs": [],
   "source": [
    "list1=[1,2,3]\n",
    "list2=[10,11,12]\n",
    "list3=list1+list2\n",
    "print(list3)"
   ]
  },
  {
   "cell_type": "markdown",
   "metadata": {},
   "source": [
    "The in example 1 to 6 mentioned operations and access methods equally can be applied for strings and tuples.\n",
    "\n",
    "Contrary to strings and tuples lists are mutable data types, i.e. their values may be changed.\n",
    "\n",
    "\n",
    "### List Methods:\n",
    "\n",
    "The following list depicts selected list methods.  `list1` and `list2` are lists, `a` a list element and `i` a valid list index."
   ]
  },
  {
   "cell_type": "markdown",
   "metadata": {},
   "source": [
    "```python\n",
    "list1.append(a)        # appends a to list1\n",
    "list1.sort()           # sorts the list elements\n",
    "list1.reverse()        # reverses the list\n",
    "list1.remove(a)        # removes the first element with value a\n",
    "list1.insert(i,a)      # inserts a at index i \n",
    "list1.pop(i)           # retrieves and removes element at index i\n",
    "list1.extend(list2)   # extends list1 with the elements of list1 \n",
    "```"
   ]
  },
  {
   "cell_type": "markdown",
   "metadata": {},
   "source": [
    "List elements can equally be modified (overwritten) by using the index: "
   ]
  },
  {
   "cell_type": "code",
   "execution_count": null,
   "metadata": {},
   "outputs": [],
   "source": [
    "theList=[1,2,3,4]\n",
    "print(theList)\n",
    "theList[0]=12\n",
    "theList[-1]=13\n",
    "print(theList)"
   ]
  },
  {
   "cell_type": "markdown",
   "metadata": {
    "tags": []
   },
   "source": [
    "<a id='tuple'></a>\n",
    "## Tuple\n",
    "\n",
    "Tuple are an immutable sequential data type. While square brackets `[` and `]` are used to define lists, parenthesis are used to define tuples `(` and `)`. \n",
    "To distingish a single value in praenthesis from a tuple with one element only, a comma `,` is used after the element in the tuple definition.  "
   ]
  },
  {
   "cell_type": "code",
   "execution_count": null,
   "metadata": {},
   "outputs": [],
   "source": [
    "# Definition of tuples\n",
    "emptyTuple=()\n",
    "tupleWithOneElement=(1,)\n",
    "tupleWithOneElementWrong=(1)\n",
    "tupleWithMultipleElements=(1,2,3)\n",
    "print(emptyTuple)\n",
    "print(tupleWithOneElement,'is a', type(tupleWithOneElement))\n",
    "print(tupleWithOneElementWrong,'is a', type(tupleWithOneElementWrong))\n",
    "print(tupleWithMultipleElements)"
   ]
  },
  {
   "cell_type": "markdown",
   "metadata": {},
   "source": [
    "Tuple elements can be accessed like list elements, see examples 1 to 5.\n",
    "\n",
    "Once defined a tuple cannot be modified, it is immutable."
   ]
  },
  {
   "cell_type": "markdown",
   "metadata": {},
   "source": [
    "---\n",
    "### Example 7: Concatenation of Tuples\n",
    "\n",
    "Tuples can be concatenated. The result is a new tuple."
   ]
  },
  {
   "cell_type": "code",
   "execution_count": null,
   "metadata": {},
   "outputs": [],
   "source": [
    "myTuple = (\"Johann\", \"Lea\", \"Paula\", \"Pia\")\n",
    "myTuple = myTuple + (\"Christina\", \"Christopher\") # here a new tuple is defined!\n",
    "print(myTuple)"
   ]
  },
  {
   "cell_type": "markdown",
   "metadata": {},
   "source": [
    "## Strings\n",
    "\n",
    "Strings were introduced in chapter 1 [Variables](01_Variables_Theory.ipynb#strings)  and have already been used in this tutorial. Strings are sometimes named character string or character sequence, indicating that only charcacters can be stored in a string. Digits and special characters in a string will be treated as characters.  \n",
    "\n",
    "String elements, i.e. the characters,  can be accessed like list elements, see examples 1 to 5. Strings are, like tuples, immutable.\n",
    "\n",
    "---\n",
    "### Example 8: String Concatenation\n",
    "\n",
    "Strings can be equally concatenated."
   ]
  },
  {
   "cell_type": "code",
   "execution_count": null,
   "metadata": {},
   "outputs": [],
   "source": [
    "string = \"Hello\"+\"World\"\n",
    "print(string)"
   ]
  },
  {
   "cell_type": "code",
   "execution_count": null,
   "metadata": {},
   "outputs": [],
   "source": [
    "a = \"Hello\"\n",
    "b = \"World\"\n",
    "c = a + ' '+b\n",
    "print(c)"
   ]
  },
  {
   "cell_type": "markdown",
   "metadata": {},
   "source": [
    "Python offers numerous **string methods** that create new strings based on an existing string. As strings are immutable these methods do not modify the string. \n",
    "\n",
    "### Some String Methods:"
   ]
  },
  {
   "cell_type": "markdown",
   "metadata": {},
   "source": [
    "```python\n",
    "# returns a copy of the string\n",
    "a.lower()           # ...with all characters converted to lowercase\n",
    "a.upper()           # ...with all characters converted to uppercase\n",
    "a.replace(b,n)      # ...with all occurences of b replaced by n\n",
    "# returns \n",
    "a.split(a2)         # ...a list of the words in the string, using a2 as the delimiter string.,  \n",
    "                    # ......all occurences of a2 are removed\n",
    "a.count(a2)         # ...number of occurences of a2 in a\n",
    "a.find(a2)          # ...index of the first occurence of a2 in a \n",
    "a.rfind(a2)         # ...index of the last occurence of a2 in a \n",
    "```"
   ]
  },
  {
   "cell_type": "markdown",
   "metadata": {},
   "source": [
    "---\n",
    "### Example 9: String Methods\n",
    "\n",
    "The following example illustrates that string methods do not change the string. Please execute the following cells and compare the code and results. "
   ]
  },
  {
   "cell_type": "code",
   "execution_count": null,
   "metadata": {},
   "outputs": [],
   "source": [
    "a = \"Chocolate\"\n",
    "print(a.upper())"
   ]
  },
  {
   "cell_type": "code",
   "execution_count": null,
   "metadata": {},
   "outputs": [],
   "source": [
    "a = \"Chocolate\"\n",
    "a.upper()\n",
    "print(a)"
   ]
  },
  {
   "cell_type": "code",
   "execution_count": null,
   "metadata": {},
   "outputs": [],
   "source": [
    "a = \"Chocolate\"\n",
    "a = a.upper()\n",
    "print(a)"
   ]
  },
  {
   "cell_type": "code",
   "execution_count": null,
   "metadata": {},
   "outputs": [],
   "source": [
    "a = \"Chocolate\"\n",
    "b = a.upper()\n",
    "print(a)\n",
    "print(b)"
   ]
  },
  {
   "cell_type": "markdown",
   "metadata": {
    "tags": []
   },
   "source": [
    "---\n",
    "## Printing Sequential Data Types\n",
    "\n",
    "In the outlook at the end of chapter [6. `for` loop](06a_ForLoop_Theory.ipynb#forlist) a `for` loop was used to print individual list elements. This can be applied to all sequential data types as the following examples illustrate."
   ]
  },
  {
   "cell_type": "code",
   "execution_count": null,
   "metadata": {},
   "outputs": [],
   "source": [
    "theList=[1,2,3,4,5]\n",
    "for el in theList:\n",
    "    print(el)"
   ]
  },
  {
   "cell_type": "code",
   "execution_count": null,
   "metadata": {},
   "outputs": [],
   "source": [
    "theTuple=(1,2,3)\n",
    "for el in theTuple:\n",
    "    print(el)"
   ]
  },
  {
   "cell_type": "code",
   "execution_count": null,
   "metadata": {},
   "outputs": [],
   "source": [
    "theString=\"Hello\"\n",
    "for c in theString:\n",
    "    print(c)"
   ]
  },
  {
   "cell_type": "markdown",
   "metadata": {},
   "source": [
    "---\n",
    "## Self Test\n",
    "\n",
    "- The following questions aim at testing your knowledge of the chapter.\n",
    "- Please run the following cell and select the appropriate answer.\n",
    "- After correctly answering the questions you may continue with the exercises or the next topic. \n",
    "\n",
    "\n",
    "\n",
    "Given is the following variable:\n",
    "```python\n",
    "myList = [1,2,3,4,5]\n",
    "```\n",
    "\n",
    "Please answer the following questions:"
   ]
  },
  {
   "cell_type": "code",
   "execution_count": 1,
   "metadata": {},
   "outputs": [
    {
     "data": {
      "application/vnd.jupyter.widget-view+json": {
       "model_id": "bf8e618ed87c435b98978998debbab64",
       "version_major": 2,
       "version_minor": 0
      },
      "text/plain": [
       "VBox(children=(Output(), RadioButtons(options=(('0', 0), ('1', 1), ('2', 2), ('3', 3), ('4', 4), ('5', 5), ('E…"
      ]
     },
     "metadata": {},
     "output_type": "display_data"
    },
    {
     "data": {
      "application/vnd.jupyter.widget-view+json": {
       "model_id": "9e0ed6536690451eac601fa579c59f38",
       "version_major": 2,
       "version_minor": 0
      },
      "text/plain": [
       "VBox(children=(Output(), IntText(value=0, description='Value:'), Button(description='check', style=ButtonStyle…"
      ]
     },
     "metadata": {},
     "output_type": "display_data"
    },
    {
     "data": {
      "application/vnd.jupyter.widget-view+json": {
       "model_id": "d65932ef21ba4702987ea1146deb0f6e",
       "version_major": 2,
       "version_minor": 0
      },
      "text/plain": [
       "VBox(children=(Output(), IntText(value=0, description='Value:'), Button(description='check', style=ButtonStyle…"
      ]
     },
     "metadata": {},
     "output_type": "display_data"
    },
    {
     "data": {
      "application/vnd.jupyter.widget-view+json": {
       "model_id": "a32e33085e0b40fcbca351247b4254b3",
       "version_major": 2,
       "version_minor": 0
      },
      "text/plain": [
       "VBox(children=(Output(), RadioButtons(options=(('0', 0), ('1', 1), ('2', 2), ('3', 3), ('4', 4), ('5', 5), ('E…"
      ]
     },
     "metadata": {},
     "output_type": "display_data"
    }
   ],
   "source": [
    "%run data/09_SelfTest.ipynb"
   ]
  },
  {
   "cell_type": "markdown",
   "metadata": {},
   "source": [
    "\n",
    "---\n",
    "**Congratulations!**  You finished this chapter.\n",
    "\n",
    "Link to the Exercises of chapter 9:\n",
    "[A 9. Sequential Data Types: Exercises](09b_SeqDataTypes_Exercises.ipynb)"
   ]
  },
  {
   "cell_type": "markdown",
   "metadata": {
    "deletable": false,
    "editable": false,
    "tags": []
   },
   "source": [
    "<a rel=\"license\" href=\"http://creativecommons.org/licenses/by-nc-nd/4.0/\"><img alt=\"Creative Commons License\" style=\"border-width:0\" src=\"https://i.creativecommons.org/l/by-nc-nd/4.0/88x31.png\" /></a><br /><span xmlns:dct=\"http://purl.org/dc/terms/\" property=\"dct:title\">JuPy Python Course</span> by <span xmlns:cc=\"http://creativecommons.org/ns#\" property=\"cc:attributionName\">EAH Jena</span> is licensed under a <a rel=\"license\" href=\"http://creativecommons.org/licenses/by-nc-nd/4.0/\">Creative Commons Attribution-NonCommercial-NoDerivatives 4.0 International License</a>."
   ]
  }
 ],
 "metadata": {
  "kernelspec": {
   "display_name": "Python 3 (ipykernel)",
   "language": "python",
   "name": "python3"
  },
  "language_info": {
   "codemirror_mode": {
    "name": "ipython",
    "version": 3
   },
   "file_extension": ".py",
   "mimetype": "text/x-python",
   "name": "python",
   "nbconvert_exporter": "python",
   "pygments_lexer": "ipython3",
   "version": "3.10.13"
  }
 },
 "nbformat": 4,
 "nbformat_minor": 4
}
