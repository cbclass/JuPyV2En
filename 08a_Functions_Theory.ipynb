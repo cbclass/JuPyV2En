{
 "cells": [
  {
   "cell_type": "markdown",
   "metadata": {},
   "source": [
    "<img src=\"./data/Lernfortschritt08.PNG\" width=\"1000\">\n",
    "\n",
    "&nbsp;&nbsp;&nbsp;&nbsp;&nbsp;&nbsp;&nbsp;&nbsp;&nbsp;&nbsp;&nbsp;&nbsp;&nbsp;&nbsp;&nbsp;&nbsp;&nbsp;&nbsp;&nbsp;&nbsp;&nbsp;&nbsp;&nbsp;&nbsp;&nbsp;&nbsp;&nbsp;&nbsp;&nbsp;&nbsp;&nbsp;&nbsp;&nbsp;&nbsp;&nbsp;&nbsp;&nbsp;&nbsp;&nbsp;&nbsp;&nbsp;&nbsp;&nbsp;&nbsp;&nbsp;&nbsp;&nbsp;&nbsp;&nbsp;&nbsp;&nbsp;&nbsp;&nbsp;&nbsp;&nbsp;&nbsp;&nbsp;&nbsp;&nbsp;&nbsp;&nbsp;&nbsp;&nbsp;&nbsp;&nbsp;&nbsp;&nbsp;&nbsp;&nbsp;&nbsp;&nbsp;&nbsp;&nbsp;&nbsp;&nbsp;[7. Iteration: `while` Loop](./07a_WhileLoop_Theory.ipynb) &nbsp;&nbsp;&nbsp;&nbsp;  8. Functions   &nbsp;&nbsp;&nbsp;&nbsp;  [9. Sequential Data Types](./09a_SeqDataTypes_Theory.ipynb)\n",
    "\n",
    "[JuPy: Table of Contents](00_Introduction.ipynb#TOC)"
   ]
  },
  {
   "cell_type": "markdown",
   "metadata": {},
   "source": [
    "# 8. Functions"
   ]
  },
  {
   "cell_type": "markdown",
   "metadata": {},
   "source": [
    "In this chapter functions and function calls are introduced. First, simple functions and function calls are presented in  [8.1 Simple Functions](#einfacheFunktionen). In [8.2 Parameters](#Parameter) are introduced before discussing [8.3 Return Values](#Rückgabewerte). The call of existing functions is discussed in the section [8.4 Using the Module `math`](#math). This chapter concludes with a short discussion of the [8.5 Scope of Variables](#scope)."
   ]
  },
  {
   "cell_type": "markdown",
   "metadata": {},
   "source": [
    "<a id='einfacheFunktionen'></a>\n",
    "## 8.1 Simple Functions\n",
    "\n",
    "In a function program code is *defined*. When the code of a function is executed, its code is made known to Python but not yet run. The statements of the function themselves are only executed  when the function is *called*. Therefore, we must distinguish between the **function definition** and the **function call**. \n",
    "\n",
    "They belong together: the function call causes the code of the function definition to be executed. \n",
    "\n",
    "Generally functions should be defined at the beginning of a Python file and called in the second half of the file. \n",
    "\n",
    "The simple function is defined as follows:  \n",
    "\n",
    "```python\n",
    "def functionname():\n",
    "    statements\n",
    "```"
   ]
  },
  {
   "cell_type": "markdown",
   "metadata": {},
   "source": [
    "The function definition starts with the key word `def` followed by the **function name**. Function names are  subject to the [Rules for Variable Names](01_Variables_Theory.ipynb#variableNames). The function name is followed by `()` indicating that a function is defined.\n",
    "\n",
    "All statements of a function are indented like the statements of `if`, `elif`, `else`,  `while` and `for`.\n",
    "\n",
    "Inside a function all code elements introduced so far can be used. You may, e.g. use loops or define variables. <a id='localVariable'></a>Variables defined inside of a function are called **local variables**. They can only be accessed within the function and only exist as long as the code of this specific function call is executed. \n"
   ]
  },
  {
   "cell_type": "markdown",
   "metadata": {},
   "source": [
    "---\n",
    "### Example 1: Function Definition\n",
    "The following code defines a function that prints some text:"
   ]
  },
  {
   "cell_type": "code",
   "execution_count": null,
   "metadata": {},
   "outputs": [],
   "source": [
    "def myFunction1():\n",
    "    print('This is a sample function.')"
   ]
  },
  {
   "cell_type": "markdown",
   "metadata": {},
   "source": [
    "If you run above cell you will not observe any output. Instead, the execution of the cell made the function `myFunction1()` known to Python.\n",
    "\n",
    "---\n",
    "### Example 2: Type of a Function"
   ]
  },
  {
   "cell_type": "code",
   "execution_count": null,
   "metadata": {},
   "outputs": [],
   "source": [
    "type(myFunction1)"
   ]
  },
  {
   "cell_type": "markdown",
   "metadata": {},
   "source": [
    "The type (`type`) of the identifier `myFunction1` is `function`.\n",
    "\n",
    "---\n",
    "### Example 3: Function Call\n",
    "A function call is required to effectively execute the code of a function. A function is called by its name followed by `()`: \n",
    "```python\n",
    "functionname()\n",
    "```"
   ]
  },
  {
   "cell_type": "code",
   "execution_count": null,
   "metadata": {},
   "outputs": [],
   "source": [
    "myFunction1()"
   ]
  },
  {
   "cell_type": "markdown",
   "metadata": {},
   "source": [
    "**Hint:**  Especially at the beginning it is a common error that one defines a function, runs the code  and wonders why \"nothing happens\". Often one forgets that calling the function is a separate step.\n",
    "\n",
    "**Hint:** Once defined a function can be called as often as needed.\n"
   ]
  },
  {
   "cell_type": "code",
   "execution_count": null,
   "metadata": {},
   "outputs": [],
   "source": [
    "myFunction1()\n",
    "print(\"This is other Text\")\n",
    "myFunction1()\n",
    "myFunction1()"
   ]
  },
  {
   "cell_type": "markdown",
   "metadata": {},
   "source": [
    "**Hint:** The parenthesis `()` are an integral part of the function call. Using the function name alone, without the paranthesis, information about the function is given but the function is **not** called. "
   ]
  },
  {
   "cell_type": "code",
   "execution_count": null,
   "metadata": {},
   "outputs": [],
   "source": [
    "myFunction1"
   ]
  },
  {
   "cell_type": "markdown",
   "metadata": {},
   "source": [
    "---\n",
    "### Example 4: Local Variables\n",
    "\n",
    "**Local variables** are defined inside a function definition. A function may have numerous local variables: "
   ]
  },
  {
   "cell_type": "code",
   "execution_count": null,
   "metadata": {},
   "outputs": [],
   "source": [
    "def localVariables():\n",
    "    a=3\n",
    "    b=1.2\n",
    "    c=a+b\n",
    "    print(a,'+',b,'=',c)"
   ]
  },
  {
   "cell_type": "markdown",
   "metadata": {},
   "source": [
    "When calling a function no knowledge of local variables is required: "
   ]
  },
  {
   "cell_type": "code",
   "execution_count": null,
   "metadata": {},
   "outputs": [],
   "source": [
    "localVariables()"
   ]
  },
  {
   "cell_type": "markdown",
   "metadata": {},
   "source": [
    "<a id='Parameter'></a>\n",
    "## 8.2 Parameters\n",
    "**Parameters** or **arguments** allow to pass information from the caller to the function. Functions with parameters are defined as follows:  \n",
    "\n",
    "``` python\n",
    "def functionname(parameterlist):\n",
    "   statements\n",
    "```\n",
    "\n",
    "A function may have zero, one or more parameters. \n",
    "\n",
    "The parameter list contains all **parameter names**. These are separated using the comme `,`. \n"
   ]
  },
  {
   "cell_type": "markdown",
   "metadata": {},
   "source": [
    "---\n",
    "### Example 5: Definition of a Function With a Parameter\n",
    "\n",
    "The following function has one parameter:"
   ]
  },
  {
   "cell_type": "code",
   "execution_count": null,
   "metadata": {},
   "outputs": [],
   "source": [
    "def myFunction2(a):\n",
    "    print('The parameter has the value',a)"
   ]
  },
  {
   "cell_type": "markdown",
   "metadata": {},
   "source": [
    "The parameters that are defined in the function defintion are named **formal parameters**, as they formally define the number and names of the function's parameters. "
   ]
  },
  {
   "cell_type": "markdown",
   "metadata": {},
   "source": [
    "---\n",
    "### Example 6: Function Call (Parameters) \n",
    "\n",
    "If a function has a paramater, a value for this parameter, the **actual parameter** must be passed in the function call: "
   ]
  },
  {
   "cell_type": "code",
   "execution_count": null,
   "metadata": {},
   "outputs": [],
   "source": [
    "myFunction2(12)"
   ]
  },
  {
   "cell_type": "markdown",
   "metadata": {},
   "source": [
    "An actual paramater can be passed as a specific value, a literal, or using a variable: "
   ]
  },
  {
   "cell_type": "code",
   "execution_count": null,
   "metadata": {},
   "outputs": [],
   "source": [
    "value=13\n",
    "myFunction2(value)"
   ]
  },
  {
   "cell_type": "markdown",
   "metadata": {},
   "source": [
    "---\n",
    "### Example 7: Function Call (Error)\n",
    "If a function is called without passing a value for its parameter, an error occurs. It is helpful to note the detailed error message of the last line for the future. "
   ]
  },
  {
   "cell_type": "code",
   "execution_count": null,
   "metadata": {},
   "outputs": [],
   "source": [
    "myFunction2()"
   ]
  },
  {
   "cell_type": "markdown",
   "metadata": {},
   "source": [
    "---\n",
    "### Example 8: Defining a Function With Multiple Parameters\n",
    "The following code defines a function with multiple formal parameters. Run the following cell to make the function known to Python. "
   ]
  },
  {
   "cell_type": "code",
   "execution_count": null,
   "metadata": {},
   "outputs": [],
   "source": [
    "def myFunction3(a,b,c):\n",
    "    print('The three parameters are:',a,b,c)"
   ]
  },
  {
   "cell_type": "markdown",
   "metadata": {},
   "source": [
    "\n",
    "---\n",
    "### Example 9: Calling a Function With Multiple Parameters\n",
    "\n",
    "`myFunction3()` has three formal parameters. Therefore, three actual parameters must be passed in the function call. "
   ]
  },
  {
   "cell_type": "code",
   "execution_count": null,
   "metadata": {},
   "outputs": [],
   "source": [
    "myFunction3(1,2,3)"
   ]
  },
  {
   "cell_type": "markdown",
   "metadata": {},
   "source": [
    "The same holds if all three actual parameters have the same value: "
   ]
  },
  {
   "cell_type": "code",
   "execution_count": null,
   "metadata": {},
   "outputs": [],
   "source": [
    "myFunction3(1,1,1)"
   ]
  },
  {
   "cell_type": "markdown",
   "metadata": {},
   "source": [
    "---\n",
    "### Example 10: Calling a Function With Multiple Parameters (Erroneous)\n",
    "If you pass less actual parameters than formal parameters an error occurs: "
   ]
  },
  {
   "cell_type": "code",
   "execution_count": null,
   "metadata": {},
   "outputs": [],
   "source": [
    "myFunction3(1)"
   ]
  },
  {
   "cell_type": "markdown",
   "metadata": {},
   "source": [
    "The same holds if you pass more actual parameters: "
   ]
  },
  {
   "cell_type": "code",
   "execution_count": null,
   "metadata": {},
   "outputs": [],
   "source": [
    "myFunction3(1,1,1,1)"
   ]
  },
  {
   "cell_type": "markdown",
   "metadata": {},
   "source": [
    "## 8.2.1 Positional and Keyword Arguments (Parameters) "
   ]
  },
  {
   "cell_type": "markdown",
   "metadata": {},
   "source": [
    "Actual parameters that are only passed using the value (or variable name) are named **positional arguments**.\n",
    "\n",
    "It is possible to specify the value for the formal parameter by using the parameter name followed by `=` and the value. Actual parameters that are specified in this way are **keyword arguments**.\n",
    "\n",
    "Whether an actual parameter is a positional or a keyword argument depends on the function call. This is illustrated in the following examples.\n",
    "\n",
    "---\n",
    "### Example 11: Function Call Using Positional Arguments\n",
    "\n",
    "Given is the following function with three parameters:"
   ]
  },
  {
   "cell_type": "code",
   "execution_count": null,
   "metadata": {},
   "outputs": [],
   "source": [
    "def myFunction4(a,b,c):\n",
    "    print('a=',a,'b=',b,'c=',c)"
   ]
  },
  {
   "cell_type": "markdown",
   "metadata": {},
   "source": [
    "as well as the following function call:"
   ]
  },
  {
   "cell_type": "code",
   "execution_count": null,
   "metadata": {},
   "outputs": [],
   "source": [
    "myFunction4(1,2,3)"
   ]
  },
  {
   "cell_type": "markdown",
   "metadata": {},
   "source": [
    "As can be observed the values of the actual parameters are assigned to the formal parameters sequentially. Whether 2 is assigned to the parameter `a`, `b` or `c` depends on the position of 2 in the list of actual parameters in the function call. As 2 is the second value, it is assigned to `b`. If 2 was the third value, if would be assigned to `c`: "
   ]
  },
  {
   "cell_type": "code",
   "execution_count": null,
   "metadata": {},
   "outputs": [],
   "source": [
    "myFunction4(1,1,2)"
   ]
  },
  {
   "cell_type": "markdown",
   "metadata": {},
   "source": [
    "Therefore, parameters that are only passed using the value are named positional arguments. "
   ]
  },
  {
   "cell_type": "markdown",
   "metadata": {},
   "source": [
    "---\n",
    "### Example 12:  Function Call Using Keyword Arguments\n",
    "In the following code it is explicitly specified to which parameter the values are assigned to:"
   ]
  },
  {
   "cell_type": "code",
   "execution_count": null,
   "metadata": {},
   "outputs": [],
   "source": [
    "myFunction4(a=1,b=2,c=3)"
   ]
  },
  {
   "cell_type": "markdown",
   "metadata": {},
   "source": [
    "These actual parameters are named keyword arguments as defined above. "
   ]
  },
  {
   "cell_type": "markdown",
   "metadata": {},
   "source": [
    "If you pass keyword arguments, the assignment of values to the parameters yields from the specified mapping not from the position of the actual paramter. Therefore, the order of the parameters can be modified: "
   ]
  },
  {
   "cell_type": "code",
   "execution_count": null,
   "metadata": {},
   "outputs": [],
   "source": [
    "myFunction4(c=3,b=2,a=1)"
   ]
  },
  {
   "cell_type": "markdown",
   "metadata": {},
   "source": [
    "compared to"
   ]
  },
  {
   "cell_type": "code",
   "execution_count": null,
   "metadata": {},
   "outputs": [],
   "source": [
    "myFunction4(3,2,1)"
   ]
  },
  {
   "cell_type": "markdown",
   "metadata": {},
   "source": [
    "---\n",
    "### Example 13:  Function Call Using Positional and Keyword Arguments\n",
    "It is possible to use both, positional as well as keyword arguments inside one function call. "
   ]
  },
  {
   "cell_type": "code",
   "execution_count": null,
   "metadata": {},
   "outputs": [],
   "source": [
    "myFunction4(1,b=2,c=3)"
   ]
  },
  {
   "cell_type": "markdown",
   "metadata": {},
   "source": [
    "Is is not allowed to specify a positional arguments after a keyword argument has been specified. Please take a look at the following error message. "
   ]
  },
  {
   "cell_type": "code",
   "execution_count": null,
   "metadata": {},
   "outputs": [],
   "source": [
    "myFunction4(1,b=2,3)"
   ]
  },
  {
   "cell_type": "markdown",
   "metadata": {},
   "source": [
    "Please make sure to pass exactly one value for each parameter. Take a look at the following error message."
   ]
  },
  {
   "cell_type": "code",
   "execution_count": null,
   "metadata": {},
   "outputs": [],
   "source": [
    "beispiel4(1,b=2,a=3)"
   ]
  },
  {
   "cell_type": "markdown",
   "metadata": {},
   "source": [
    "## 8.2.2 Parameter With Default Values"
   ]
  },
  {
   "cell_type": "markdown",
   "metadata": {},
   "source": [
    "From our observations we can derive the following **rule:** In the function call the same number of actual parameters must be passed as formal parameters have been defined."
   ]
  },
  {
   "cell_type": "markdown",
   "metadata": {},
   "source": [
    "This rule is not utterly precise as Python offers the possibility to speficy **default values** for parameters. Those are values that are assigned to parameters in case no actual paramater values are passed in the function call. Default values are defined after the parameter name using `=`.  "
   ]
  },
  {
   "cell_type": "markdown",
   "metadata": {},
   "source": [
    "---\n",
    "### Example 14: Default Value (Function Definition) \n",
    "The following function has one parameter with a default value:"
   ]
  },
  {
   "cell_type": "code",
   "execution_count": null,
   "metadata": {},
   "outputs": [],
   "source": [
    "def myFunction5(a=1):\n",
    "    print('a=',a)"
   ]
  },
  {
   "cell_type": "markdown",
   "metadata": {},
   "source": [
    "---\n",
    "### Example 15:  Function Calls (Default Values)\n",
    "When calling `myFunction5()` without passing an actual parameter value for `a`, the default value 1 is assigned to `a`: "
   ]
  },
  {
   "cell_type": "code",
   "execution_count": null,
   "metadata": {},
   "outputs": [],
   "source": [
    "myFunction5()"
   ]
  },
  {
   "cell_type": "markdown",
   "metadata": {},
   "source": [
    "If an actual paramater values is passed when calling `myFunction5()`  this value is assigned to `a`: "
   ]
  },
  {
   "cell_type": "code",
   "execution_count": null,
   "metadata": {},
   "outputs": [],
   "source": [
    "myFunction5(3)"
   ]
  },
  {
   "cell_type": "markdown",
   "metadata": {},
   "source": [
    "---\n",
    "### Example 16: Function Definition (Parameters With and Without Default Values)\n",
    "Of course a function can have parameters without as well as parameters with default values. In the parameter list in the function defition all parameters without default values must be specified **before** the paramaters with default values."
   ]
  },
  {
   "cell_type": "code",
   "execution_count": null,
   "metadata": {},
   "outputs": [],
   "source": [
    "def myFunction6(a,b,c='c',d='d'):\n",
    "    print('The values are:',a,b,c,d)"
   ]
  },
  {
   "cell_type": "markdown",
   "metadata": {},
   "source": [
    "---\n",
    "### Example 17:  Function Call (Parameters With and Without Default Values)\n",
    "The following function calls are valid:"
   ]
  },
  {
   "cell_type": "code",
   "execution_count": null,
   "metadata": {},
   "outputs": [],
   "source": [
    "myFunction6(1,2)\n",
    "myFunction6(1,2,3)\n",
    "myFunction6(1,2,3,4)"
   ]
  },
  {
   "cell_type": "markdown",
   "metadata": {},
   "source": [
    "In combination with keyword arguments it is possible to selectively specify values for only some of the default parameters: "
   ]
  },
  {
   "cell_type": "code",
   "execution_count": null,
   "metadata": {},
   "outputs": [],
   "source": [
    "def myFunction7(a='a',b='b',c='c',d='d'):\n",
    "    print('a=',a,'b=',b,'c=',c,'d=',d)"
   ]
  },
  {
   "cell_type": "markdown",
   "metadata": {},
   "source": [
    "Examples:"
   ]
  },
  {
   "cell_type": "code",
   "execution_count": null,
   "metadata": {},
   "outputs": [],
   "source": [
    "myFunction7(a=10)\n",
    "myFunction7(b=10)\n",
    "myFunction7(a=10,c=10)\n",
    "myFunction7(10,20,d=30)"
   ]
  },
  {
   "cell_type": "markdown",
   "metadata": {},
   "source": [
    "We can, thus, reformulate our **rule**: \n",
    "\n",
    "In the function call one actual paramater value must be passed at least for each parameter without a default value. "
   ]
  },
  {
   "cell_type": "markdown",
   "metadata": {},
   "source": [
    "---\n",
    "### Example 18: Function Definition (Parameters With and Without Default Values)\n",
    "It was stated above that all parameters without default values must be specified before the paramaters with default values."
   ]
  },
  {
   "cell_type": "markdown",
   "metadata": {},
   "source": [
    "Please run the following cell and take a look at the error message:"
   ]
  },
  {
   "cell_type": "code",
   "execution_count": null,
   "metadata": {},
   "outputs": [],
   "source": [
    "def myFunction8(a,b,c='c',d):\n",
    "    print('The values are:',a,b,c,d)"
   ]
  },
  {
   "cell_type": "markdown",
   "metadata": {},
   "source": [
    "<a id='Rückgabewerte'></a>\n",
    "##  8.3 Return Values"
   ]
  },
  {
   "cell_type": "markdown",
   "metadata": {},
   "source": [
    "A **return value** allows the function to pass (return) information to the caller. The calling code determines whether or not this information is used (e.g. printed or stored in a variable). "
   ]
  },
  {
   "cell_type": "markdown",
   "metadata": {},
   "source": [
    "The value is returned using the `return` statement. "
   ]
  },
  {
   "cell_type": "markdown",
   "metadata": {},
   "source": [
    "The function definition line (starting with `def`) does not indicate whether or not the function returns one or more values. In order to determine whether a function returns values, the function code must be examined. \n",
    "\n",
    "**Hint:** The statement `return` ends the execution of the function. Statements that are written after the `return` statement will not be executed. "
   ]
  },
  {
   "cell_type": "markdown",
   "metadata": {},
   "source": [
    "## 8.3.1 One Return Value"
   ]
  },
  {
   "cell_type": "markdown",
   "metadata": {},
   "source": [
    "---\n",
    "### Example 19: Function With One Return Value\n",
    "Example for a function with one return value:"
   ]
  },
  {
   "cell_type": "code",
   "execution_count": null,
   "metadata": {},
   "outputs": [],
   "source": [
    "def myFunction9(a):\n",
    "    return 2*a"
   ]
  },
  {
   "cell_type": "markdown",
   "metadata": {},
   "source": [
    "Function call:"
   ]
  },
  {
   "cell_type": "code",
   "execution_count": null,
   "metadata": {},
   "outputs": [],
   "source": [
    "myFunction9(12)"
   ]
  },
  {
   "cell_type": "markdown",
   "metadata": {},
   "source": [
    "The Jupyter Notebook bases on IPython / the Python console that is equally used, e.g. in Spyder. If you call a function having a retun value in the IPython Console without saving the value, the return value is displayed in a line starting with `Out[]`. If the function call is written inside a Python script in the editor the return value is not displayed and simply \"lost\". \n",
    "\n",
    "You can observe the same when writing `3+4` in the IPython Console (the line starting with `Out[]` displays the result) or the editor (you would not see anything).\n",
    "\n",
    "Please be aware of this when writing and running Python skripts outside notebooks.\n"
   ]
  },
  {
   "cell_type": "markdown",
   "metadata": {},
   "source": [
    "---\n",
    "### Example 20: Output and Storage of Return Values\n",
    "Of course it is possible to directly print the return value:"
   ]
  },
  {
   "cell_type": "code",
   "execution_count": null,
   "metadata": {},
   "outputs": [],
   "source": [
    "print(myFunction9(12))"
   ]
  },
  {
   "cell_type": "markdown",
   "metadata": {},
   "source": [
    "or to store it in a variable for later use:"
   ]
  },
  {
   "cell_type": "code",
   "execution_count": null,
   "metadata": {},
   "outputs": [],
   "source": [
    "result=myFunction9(12)\n",
    "print('The return value was:',result)"
   ]
  },
  {
   "cell_type": "markdown",
   "metadata": {},
   "source": [
    "## 8.3.2 Multiple Return Values"
   ]
  },
  {
   "cell_type": "markdown",
   "metadata": {},
   "source": [
    "A function may have more than one return value. All return values are specified, separated by commas `,` in **one `return` statement**. \n",
    "\n",
    "---\n",
    "### Example 21: Definition of a Function With Multiple Return Values"
   ]
  },
  {
   "cell_type": "code",
   "execution_count": null,
   "metadata": {},
   "outputs": [],
   "source": [
    "def myFunction10(a):\n",
    "    powerOf2=a**2\n",
    "    powerOf3=a**3\n",
    "    return powerOf2,powerOf3"
   ]
  },
  {
   "cell_type": "markdown",
   "metadata": {},
   "source": [
    "---\n",
    "### Example 22: Calling a Function With Multiple Return Values\n",
    "It is, of course, possible to ignore multiple return values when calling a function:"
   ]
  },
  {
   "cell_type": "code",
   "execution_count": null,
   "metadata": {},
   "outputs": [],
   "source": [
    "myFunction10(2)"
   ]
  },
  {
   "cell_type": "markdown",
   "metadata": {},
   "source": [
    "As you can observe in the output line, the two return values are returned in parenthesis `(4,8)`. \n",
    "The two values are returned as one value of type `tuple`. This type is introduced in the  [following chapter](09a_SeqDataTypes_Theory.ipynb#tuple). Please use, for the time being, one variable for each return value. \n",
    "\n",
    "---\n",
    "### Example 23: Saving the Return Values\n",
    "\n",
    "The return values are saved as follows:"
   ]
  },
  {
   "cell_type": "code",
   "execution_count": null,
   "metadata": {},
   "outputs": [],
   "source": [
    "result1,result2=myFunction10(2)\n",
    "print('result1=',result1,'result2=',result2)"
   ]
  },
  {
   "cell_type": "markdown",
   "metadata": {},
   "source": [
    "---\n",
    "### Example 24: Saving the Return Values (Erroneous)\n",
    "Specifying more or fewer variables than return values will result in an eror. \n",
    "\n",
    "Given is the following function with three return values: "
   ]
  },
  {
   "cell_type": "code",
   "execution_count": null,
   "metadata": {},
   "outputs": [],
   "source": [
    "def myFunction11(a):\n",
    "    return a,a**2,a**3"
   ]
  },
  {
   "cell_type": "markdown",
   "metadata": {},
   "source": [
    "- specification of one variable: the three return values are stored in a `tuple` (see [next chapter](09a_SeqDataTypes_Theory.ipynb#tuple))"
   ]
  },
  {
   "cell_type": "code",
   "execution_count": null,
   "metadata": {},
   "outputs": [],
   "source": [
    "result=myFunction11(2)\n",
    "print(result)"
   ]
  },
  {
   "cell_type": "markdown",
   "metadata": {},
   "source": [
    "- specification of three variables for the three return values: "
   ]
  },
  {
   "cell_type": "code",
   "execution_count": null,
   "metadata": {},
   "outputs": [],
   "source": [
    "a,b,c=myFunction11(2)\n",
    "print(a,b,c)"
   ]
  },
  {
   "cell_type": "markdown",
   "metadata": {},
   "source": [
    "- specification of too few variables. Please note the error message. "
   ]
  },
  {
   "cell_type": "code",
   "execution_count": null,
   "metadata": {},
   "outputs": [],
   "source": [
    "a,b=myFunction11(2)"
   ]
  },
  {
   "cell_type": "markdown",
   "metadata": {},
   "source": [
    "- specification of too many variables. Please note the error message. "
   ]
  },
  {
   "cell_type": "code",
   "execution_count": null,
   "metadata": {},
   "outputs": [],
   "source": [
    "a,b,c,d=myFunction11(2)"
   ]
  },
  {
   "cell_type": "markdown",
   "metadata": {},
   "source": [
    "<a id='math'></a>\n",
    "## 8.4 Using the Module `math`"
   ]
  },
  {
   "cell_type": "markdown",
   "metadata": {},
   "source": [
    "The module / library `math` provides mathematical functions like the sine function and constants like pi ($\\pi$). In order to call and use functions and constants from this module of the Python standard library it must be imported using an **`import` statement**. \n",
    "\n",
    "`import` statements are generally placed at the beginning of a file. Please execute the following cell to import the `math` module. "
   ]
  },
  {
   "cell_type": "code",
   "execution_count": null,
   "metadata": {},
   "outputs": [],
   "source": [
    "import math"
   ]
  },
  {
   "cell_type": "markdown",
   "metadata": {},
   "source": [
    "With `math.identifier` the constants and functions of the module can be accessed. The **Python documentation** describes all available functions and constants:  \n",
    "https://docs.python.org/3/library/math.html\n",
    "\n",
    "Please take a look at the following examples to understand how the constants and functions of the module can be used. Take a look at the documentation to understand details of the functions and practice reading documentation. "
   ]
  },
  {
   "cell_type": "markdown",
   "metadata": {},
   "source": [
    "### Example 25: Accessing Constants Defined in `math` \n",
    "In order to access any constant we use `math.identifier`. In the following example you see the access to the constant  `pi` ($\\pi$) in `math`. "
   ]
  },
  {
   "cell_type": "code",
   "execution_count": null,
   "metadata": {},
   "outputs": [],
   "source": [
    "print(math.pi)"
   ]
  },
  {
   "cell_type": "markdown",
   "metadata": {},
   "source": [
    "<a id='callingmath'></a>\n",
    "### Example 26: Calling Functions Defined in  `math`\n",
    "\n",
    "In order to call functions defined in `math` we use `math.identifier()`. The number of parameters as well as the return value(s) depend on the specific function and can be looked up in the documentation.\n",
    "\n",
    "The function `fabs()` returns the absolute value of its parameter. "
   ]
  },
  {
   "cell_type": "code",
   "execution_count": null,
   "metadata": {},
   "outputs": [],
   "source": [
    "print(math.fabs(-2))"
   ]
  },
  {
   "cell_type": "markdown",
   "metadata": {},
   "source": [
    "The function `cos()` equally expects one parameter."
   ]
  },
  {
   "cell_type": "code",
   "execution_count": null,
   "metadata": {},
   "outputs": [],
   "source": [
    "print(math.cos(0))\n",
    "print(math.cos(-1.0))\n",
    "print(math.cos(math.pi))\n",
    "x = 2*math.pi\n",
    "print(math.cos(x))"
   ]
  },
  {
   "cell_type": "markdown",
   "metadata": {},
   "source": [
    "The function `fsum()` calculates the sum of *list values*. Please note that the parameter must be of type `list`. Lists are introduced in the [following chapter](09a_SeqDataTypes_Theory.ipynb#list)."
   ]
  },
  {
   "cell_type": "code",
   "execution_count": null,
   "metadata": {},
   "outputs": [],
   "source": [
    "print(math.fsum([1,2,3,4,5]))"
   ]
  },
  {
   "cell_type": "markdown",
   "metadata": {},
   "source": [
    "Passing a single value as parameter will raise an error."
   ]
  },
  {
   "cell_type": "code",
   "execution_count": null,
   "metadata": {},
   "outputs": [],
   "source": [
    "print(math.fsum(1.5))"
   ]
  },
  {
   "cell_type": "markdown",
   "metadata": {},
   "source": [
    "<a id='scope'></a>\n",
    "## 8.5 Scope of Variables\n",
    "\n",
    "In this chapter we shortly introduce terms related to the scope of variable. The scope of variable is not fully covered here.  \n",
    "\n",
    "A **local variable** has already been defined [at the beginning of this chapter](#localVariable). Local variables are defined inside a function and cannot be accessed from outside.\n",
    "**Global variables** are different. In the context of notebooks a global variable is defined  outside a function. It can be accessed from within the cell or from other cells. A function has reading access to such a global variable. \n",
    "\n",
    "### Example 27: Local and Global Variables\n",
    "The following example illustrates reading access to a global variable. "
   ]
  },
  {
   "cell_type": "code",
   "execution_count": null,
   "metadata": {},
   "outputs": [],
   "source": [
    "def myFunction12():\n",
    "    localVar = 2\n",
    "    print(\"Value of the local variable: \", localVar) \n",
    "    print(\"Value of the global variable (reading access): \", globalVar)\n",
    "    \n",
    "globalVar = 3\n",
    "myFunction12()"
   ]
  },
  {
   "cell_type": "markdown",
   "metadata": {},
   "source": [
    "### Example 28: Global Variable (Writing Access)\n",
    "\n",
    "It is not possible to have writing access to global variable without further ado. Please note the error message."
   ]
  },
  {
   "cell_type": "code",
   "execution_count": null,
   "metadata": {},
   "outputs": [],
   "source": [
    "def myFunction13():\n",
    "    d=2*d\n",
    "    print(\"myFunction13(): d=\",d)\n",
    "    \n",
    "d=3\n",
    "myFunction13()"
   ]
  },
  {
   "cell_type": "markdown",
   "metadata": {},
   "source": [
    "In order to get writing access to a global variable the variable must be declared using `global` prior to its first use.  "
   ]
  },
  {
   "cell_type": "code",
   "execution_count": null,
   "metadata": {},
   "outputs": [],
   "source": [
    "def myFunction14():\n",
    "    global d\n",
    "    d=2*d\n",
    "    print(\"myFunction14(): d=\",d)\n",
    "    \n",
    "d=3\n",
    "myFunction14()"
   ]
  },
  {
   "cell_type": "markdown",
   "metadata": {},
   "source": [
    "<a id='lernkontrolle'></a>\n",
    "---\n",
    "## Self Test\n",
    "\n",
    "- The following questions aim at testing your knowlegde of the chapter.\n",
    "- Please run the following cell and select the appropriate answer.\n",
    "- After correctly answering the questions you may continue with the exercises or the next topic. \n"
   ]
  },
  {
   "cell_type": "markdown",
   "metadata": {},
   "source": [
    "---\n",
    "Given is the following code segment.\n",
    "\n",
    "```python\n",
    "def oneFunction():\n",
    "    print(\"don't procrastinate!\")\n",
    "print('open YouTube')\n",
    "oneFunction()\n",
    "```\n",
    " \n",
    "Please answer the questions with reference to above code:"
   ]
  },
  {
   "cell_type": "code",
   "execution_count": 1,
   "metadata": {},
   "outputs": [
    {
     "data": {
      "application/vnd.jupyter.widget-view+json": {
       "model_id": "b595725a74c644ce8503ea4676cd2c19",
       "version_major": 2,
       "version_minor": 0
      },
      "text/plain": [
       "VBox(children=(Output(), RadioButtons(options=(('oneFunction', 0), ('one Function', 1), ('onefunction', 2), ('…"
      ]
     },
     "metadata": {},
     "output_type": "display_data"
    },
    {
     "data": {
      "application/vnd.jupyter.widget-view+json": {
       "model_id": "5cdc653acc5e4e19bd0e6754209c197d",
       "version_major": 2,
       "version_minor": 0
      },
      "text/plain": [
       "VBox(children=(Output(), RadioButtons(options=(('0', 0), ('1', 1), ('2', 2), ('3', 3)), value=0), Button(descr…"
      ]
     },
     "metadata": {},
     "output_type": "display_data"
    },
    {
     "data": {
      "application/vnd.jupyter.widget-view+json": {
       "model_id": "b304e2d7c6e9435aa9e24514ef5779d4",
       "version_major": 2,
       "version_minor": 0
      },
      "text/plain": [
       "VBox(children=(Output(), RadioButtons(options=(('oneFunction()', 0), ('one Function()', 1), ('oneFunction', 2)…"
      ]
     },
     "metadata": {},
     "output_type": "display_data"
    },
    {
     "data": {
      "application/vnd.jupyter.widget-view+json": {
       "model_id": "f24276916a9f4c75812b20c0976473fc",
       "version_major": 2,
       "version_minor": 0
      },
      "text/plain": [
       "VBox(children=(Output(), RadioButtons(options=((\"1. don't procrastinate!  2. open YouTube\", 0), (\"1. open YouT…"
      ]
     },
     "metadata": {},
     "output_type": "display_data"
    }
   ],
   "source": [
    "%run data/08a_SelfTest1.ipynb"
   ]
  },
  {
   "cell_type": "markdown",
   "metadata": {},
   "source": [
    "---\n",
    "Given is the following code segment:\n",
    "\n",
    "```python\n",
    "def theFunction(a,b,c=1):\n",
    "    return(a*c)\n",
    "chicken = 0\n",
    "chicken = theFunction(2,3,3)\n",
    "```\n",
    " \n",
    "Please answer the following questions with reference to above code:."
   ]
  },
  {
   "cell_type": "code",
   "execution_count": 2,
   "metadata": {},
   "outputs": [
    {
     "data": {
      "application/vnd.jupyter.widget-view+json": {
       "model_id": "4bb7f5026eac4b37a41aca6069e1522d",
       "version_major": 2,
       "version_minor": 0
      },
      "text/plain": [
       "VBox(children=(Output(), RadioButtons(options=(('0', 0), ('1', 1), ('2', 2), ('3', 3), ('4', 4)), value=0), Bu…"
      ]
     },
     "metadata": {},
     "output_type": "display_data"
    },
    {
     "data": {
      "application/vnd.jupyter.widget-view+json": {
       "model_id": "df61d4b2dbd04a96957d0ff3f4bf2695",
       "version_major": 2,
       "version_minor": 0
      },
      "text/plain": [
       "VBox(children=(Output(), RadioButtons(options=(('0', 0), ('1', 1), ('2', 2), ('3', 3)), value=0), Button(descr…"
      ]
     },
     "metadata": {},
     "output_type": "display_data"
    },
    {
     "data": {
      "application/vnd.jupyter.widget-view+json": {
       "model_id": "2de8e80d248d4da9812b42b821c69486",
       "version_major": 2,
       "version_minor": 0
      },
      "text/plain": [
       "VBox(children=(Output(), RadioButtons(options=(('0', 0), ('1', 1), ('2', 2), ('3', 3)), value=0), Button(descr…"
      ]
     },
     "metadata": {},
     "output_type": "display_data"
    },
    {
     "data": {
      "application/vnd.jupyter.widget-view+json": {
       "model_id": "c08c3562b9394e559344ee78cfc68ab1",
       "version_major": 2,
       "version_minor": 0
      },
      "text/plain": [
       "VBox(children=(Output(), RadioButtons(options=(('0', 0), ('2', 1), ('3', 2), ('6', 3)), value=0), Button(descr…"
      ]
     },
     "metadata": {},
     "output_type": "display_data"
    }
   ],
   "source": [
    "%run data/08a_SelfTest2.ipynb"
   ]
  },
  {
   "cell_type": "markdown",
   "metadata": {},
   "source": [
    "\n",
    "---\n",
    "**Congratulations!**  You finished this chapter.\n",
    "\n",
    "Link to the exercises of chapter 8: [A 8. Functions: Exercises](08b_Functions_Exercises.ipynb)\n"
   ]
  },
  {
   "cell_type": "markdown",
   "metadata": {
    "deletable": false,
    "editzable": false,
    "tags": []
   },
   "source": [
    "<a rel=\"license\" href=\"http://creativecommons.org/licenses/by-nc-nd/4.0/\"><img alt=\"Creative Commons License\" style=\"border-width:0\" src=\"https://i.creativecommons.org/l/by-nc-nd/4.0/88x31.png\" /></a><br /><span xmlns:dct=\"http://purl.org/dc/terms/\" property=\"dct:title\">JuPy Python Course</span> by <span xmlns:cc=\"http://creativecommons.org/ns#\" property=\"cc:attributionName\">EAH Jena</span> is licensed under a <a rel=\"license\" href=\"http://creativecommons.org/licenses/by-nc-nd/4.0/\">Creative Commons Attribution-NonCommercial-NoDerivatives 4.0 International License</a>."
   ]
  }
 ],
 "metadata": {
  "kernelspec": {
   "display_name": "Python 3 (ipykernel)",
   "language": "python",
   "name": "python3"
  },
  "language_info": {
   "codemirror_mode": {
    "name": "ipython",
    "version": 3
   },
   "file_extension": ".py",
   "mimetype": "text/x-python",
   "name": "python",
   "nbconvert_exporter": "python",
   "pygments_lexer": "ipython3",
   "version": "3.10.8"
  }
 },
 "nbformat": 4,
 "nbformat_minor": 4
}
