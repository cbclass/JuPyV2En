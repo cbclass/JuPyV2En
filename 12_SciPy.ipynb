{
 "cells": [
  {
   "cell_type": "markdown",
   "metadata": {},
   "source": [
    "<img src=\"./data/Lernfortschritt13.PNG\" width=\"1000\">\n",
    "\n",
    "&nbsp;&nbsp;&nbsp;&nbsp;&nbsp;&nbsp;&nbsp;&nbsp;&nbsp;&nbsp;&nbsp;&nbsp;&nbsp;&nbsp;&nbsp;&nbsp;&nbsp;&nbsp;&nbsp;&nbsp;&nbsp;&nbsp;&nbsp;&nbsp;&nbsp;&nbsp;&nbsp;&nbsp;&nbsp;&nbsp;&nbsp;&nbsp;&nbsp;&nbsp;&nbsp;&nbsp;&nbsp;&nbsp;&nbsp;&nbsp;&nbsp;&nbsp;&nbsp;&nbsp;&nbsp;&nbsp;&nbsp;&nbsp;&nbsp;&nbsp;&nbsp;&nbsp;&nbsp;&nbsp;&nbsp;&nbsp;&nbsp;&nbsp;&nbsp;&nbsp;&nbsp;&nbsp;&nbsp;&nbsp;&nbsp;&nbsp;&nbsp;&nbsp;&nbsp;&nbsp;&nbsp;&nbsp;&nbsp;&nbsp;&nbsp;&nbsp;&nbsp;&nbsp;&nbsp;&nbsp;&nbsp;&nbsp;&nbsp;&nbsp;&nbsp;&nbsp;&nbsp;&nbsp;&nbsp;&nbsp;&nbsp;&nbsp;&nbsp;&nbsp;&nbsp;&nbsp;&nbsp;&nbsp;&nbsp;&nbsp;&nbsp;&nbsp;&nbsp;&nbsp;&nbsp;&nbsp;&nbsp;&nbsp;&nbsp;&nbsp;&nbsp;&nbsp;&nbsp;&nbsp;&nbsp;&nbsp;&nbsp;&nbsp;&nbsp;&nbsp;&nbsp;&nbsp;&nbsp;&nbsp;&nbsp;&nbsp;&nbsp;&nbsp;&nbsp;&nbsp;&nbsp;&nbsp;&nbsp;&nbsp;&nbsp;&nbsp;&nbsp;&nbsp;&nbsp;&nbsp;&nbsp;&nbsp;&nbsp;&nbsp;&nbsp;&nbsp;&nbsp;&nbsp;&nbsp;&nbsp;&nbsp;&nbsp;&nbsp;&nbsp;&nbsp;&nbsp;&nbsp;&nbsp;&nbsp;&nbsp;&nbsp;&nbsp;&nbsp;&nbsp;&nbsp;&nbsp;&nbsp;&nbsp;&nbsp;&nbsp;&nbsp;&nbsp;&nbsp;&nbsp;&nbsp;&nbsp;&nbsp;&nbsp;&nbsp;&nbsp;&nbsp;&nbsp;&nbsp;&nbsp;&nbsp;&nbsp;&nbsp;&nbsp;&nbsp;&nbsp;&nbsp;&nbsp;&nbsp;&nbsp;&nbsp;&nbsp;&nbsp;[11. Plots](./11a_Plots_Theory.ipynb) &nbsp;&nbsp;&nbsp;&nbsp;  12. Outlook: Curve Fitting with SciPy \n",
    "\n",
    "[JuPy: Table of Contents](00_Introduction.ipynb#TOC)\n",
    "\n",
    "# 12. Outlook: Curve Fitting With SciPy"
   ]
  },
  {
   "cell_type": "markdown",
   "metadata": {},
   "source": [
    "SciPy (`scipy`) provides numerous fundamental algorithms of numerical mathematics.  \n",
    "Scipy is organized into subpackages covering different scientific computing domains, such as:"
   ]
  },
  {
   "cell_type": "markdown",
   "metadata": {},
   "source": [
    "* `constants` - physical and mathematical constants\n",
    "* `fftpack` - Fast Fourier Transform routines\n",
    "* `optimize` - Optimization and root finding routine\n",
    "* `signal` - signal processing"
   ]
  },
  {
   "cell_type": "markdown",
   "metadata": {},
   "source": [
    "Curve fitting is an important tool for many scientific applications and is introduced to illustrate the use of `scipy`.  "
   ]
  },
  {
   "cell_type": "markdown",
   "metadata": {},
   "source": [
    "In the following example we create cosine values, add some noise and apply curve-fitting to this data."
   ]
  },
  {
   "cell_type": "markdown",
   "metadata": {},
   "source": [
    "---\n",
    "### 1. Importing the Required Modules\n",
    "The following code imports the required modules."
   ]
  },
  {
   "cell_type": "code",
   "execution_count": null,
   "metadata": {},
   "outputs": [],
   "source": [
    "import numpy as np\n",
    "import matplotlib.pyplot as plt\n",
    "import scipy.optimize as opt"
   ]
  },
  {
   "cell_type": "markdown",
   "metadata": {},
   "source": [
    "---\n",
    "### 2. Cosine Fit - Data Generation"
   ]
  },
  {
   "cell_type": "markdown",
   "metadata": {},
   "source": [
    "We want to apply curve fitting to a cosine function with noise. We generate therefore the noisy data first using pesudo random values. To produce the same sequence of random values when executing the code another time, we use `random.seed()` which initializes the random number generator. We generate an array of randomized values. \n",
    "The generate an array of $x$ values using the `numpy` function `linspace()` (see chapter [10. NumPy](10a_Numpy_Theory.ipynb#linspace)) and calculate the corresponding $y$ values before adding the randomized values as noise. The generated data is then plotted (see chapter [11. Plots](11a_Plots_Theory.ipynb))."
   ]
  },
  {
   "cell_type": "code",
   "execution_count": null,
   "metadata": {},
   "outputs": [],
   "source": [
    "np.random.seed(0) \n",
    "\n",
    "noise = np.random.normal(size=50) # normally distributed data\n",
    "x_data = np.linspace(-5, 5, num=50)\n",
    "y_data = 3 * np.cos(2 * x_data) + noise\n",
    "\n",
    "plt.plot(x_data, y_data, '.')\n"
   ]
  },
  {
   "cell_type": "markdown",
   "metadata": {},
   "source": [
    "---\n",
    "### 3. Consine Fit - Curve Fitting\n",
    "Now we take a look at **curve fitting**. The function `curve_fit()` receives a **model function** $f$ as well as $x$ and $y$ values of our data as parameters. It determines the **optimal parameters** for the function $f$ and the specifed data points using the method of non-linear least squares. "
   ]
  },
  {
   "cell_type": "code",
   "execution_count": null,
   "metadata": {},
   "outputs": [],
   "source": [
    "# Model function\n",
    "def cosfunc(x, a, b):\n",
    "    y = a * np.cos(b * x)\n",
    "    return y\n",
    "\n",
    "parameter, kovar = opt.curve_fit(cosfunc, x_data, y_data)\n",
    "                                               \n",
    "# optimal values for parameters and estimated covariance\n",
    "print(parameter)\n",
    "print(kovar)"
   ]
  },
  {
   "cell_type": "markdown",
   "metadata": {},
   "source": [
    "---\n",
    "\n",
    "### 4. Cosine Fit - Standard Deviation and Parameter Extraction\n",
    "The function `curve_fit()` returns an array of **optimized parameters** as well as the **covariance values** of the parameters as matrix, here a $2x2$ matrix as we have two parameters. In order to determine the **standard deviation** of the parameters we need to calculate the square root on the pricipal diagonal of the covariance matrix. \n"
   ]
  },
  {
   "cell_type": "code",
   "execution_count": null,
   "metadata": {},
   "outputs": [],
   "source": [
    "err = np.sqrt(np.diag(kovar))\n",
    "a = parameter[0]\n",
    "b = parameter[1]\n",
    "print('Value of a:             ',a)\n",
    "print('Standard deviation of b:', err[0])\n",
    "print('Value of b              ',b)\n",
    "print('Standard deviation of b:', err[1])"
   ]
  },
  {
   "cell_type": "markdown",
   "metadata": {},
   "source": [
    "---\n",
    "### 5. Cosine Fit - Plotting\n",
    "\n",
    "The extracted parameters can now be passed to the model function `cosfunc()` to calculate the fit for the $x$ values. The fit and the noisy data are then plotted. "
   ]
  },
  {
   "cell_type": "code",
   "execution_count": null,
   "metadata": {},
   "outputs": [],
   "source": [
    "plt.plot(x_data, y_data, '.', label='original')\n",
    "plt.plot(x_data, cosfunc(x_data, a, b), label='Fit')\n",
    "plt.xlabel('x - values')\n",
    "plt.ylabel('y - values')\n",
    "plt.legend()"
   ]
  },
  {
   "cell_type": "markdown",
   "metadata": {},
   "source": [
    "---\n",
    "### Try It Out Yourself!"
   ]
  },
  {
   "cell_type": "markdown",
   "metadata": {},
   "source": [
    "With the following example you can use curve fitting yourself. Create a polynomial function of 3rd degree, e.g.\n",
    "\n",
    "$y = x^3 + 0.5 x^2 - x + 2$ . \n",
    "\n",
    "Specify an interval for $x$ values, calculate the function values $y$ and add noise to the $y$ values. Plot the data.\n",
    "\n",
    "**Hint:** In order to achieve significan noise you might need to set parameter values in the call to `np.random.normal()`. Please check out the documentation (https://numpy.org/doc/stable/reference/random/generated/numpy.random.Generator.normal.html#numpy.random.Generator.normal).\n"
   ]
  },
  {
   "cell_type": "code",
   "execution_count": null,
   "metadata": {},
   "outputs": [],
   "source": []
  },
  {
   "cell_type": "markdown",
   "metadata": {},
   "source": [
    "Follow the example above to generate a fit. Start by defining a suitable model function that maps the form of the polynomial. Use `curve_fit()`  to determine the optimal parameters and print the parameters. "
   ]
  },
  {
   "cell_type": "code",
   "execution_count": null,
   "metadata": {},
   "outputs": [],
   "source": []
  },
  {
   "cell_type": "markdown",
   "metadata": {},
   "source": [
    "Compare the parameter values determined by `curve_fit()` with the original parameter values and calculate and print the standard deviation from the returned covariance matrix. "
   ]
  },
  {
   "cell_type": "code",
   "execution_count": null,
   "metadata": {},
   "outputs": [],
   "source": []
  },
  {
   "cell_type": "markdown",
   "metadata": {},
   "source": [
    "Create a plot of the original data and the polynomial fit. To do so you need to extract the parameter values and use the model function to calculate the fit. "
   ]
  },
  {
   "cell_type": "code",
   "execution_count": null,
   "metadata": {},
   "outputs": [],
   "source": []
  },
  {
   "cell_type": "markdown",
   "metadata": {},
   "source": [
    "---\n",
    "## Congratulations! You have successfully finished the **JyPy Python Tutorial**! "
   ]
  },
  {
   "cell_type": "markdown",
   "metadata": {
    "deletable": false,
    "editable": false,
    "tags": []
   },
   "source": [
    "<a rel=\"license\" href=\"http://creativecommons.org/licenses/by-nc-nd/4.0/\"><img alt=\"Creative Commons License\" style=\"border-width:0\" src=\"https://i.creativecommons.org/l/by-nc-nd/4.0/88x31.png\" /></a><br /><span xmlns:dct=\"http://purl.org/dc/terms/\" property=\"dct:title\">JuPy Python Course</span> by <span xmlns:cc=\"http://creativecommons.org/ns#\" property=\"cc:attributionName\">EAH Jena</span> is licensed under a <a rel=\"license\" href=\"http://creativecommons.org/licenses/by-nc-nd/4.0/\">Creative Commons Attribution-NonCommercial-NoDerivatives 4.0 International License</a>."
   ]
  }
 ],
 "metadata": {
  "kernelspec": {
   "display_name": "Python 3 (ipykernel)",
   "language": "python",
   "name": "python3"
  },
  "language_info": {
   "codemirror_mode": {
    "name": "ipython",
    "version": 3
   },
   "file_extension": ".py",
   "mimetype": "text/x-python",
   "name": "python",
   "nbconvert_exporter": "python",
   "pygments_lexer": "ipython3",
   "version": "3.10.8"
  }
 },
 "nbformat": 4,
 "nbformat_minor": 4
}
