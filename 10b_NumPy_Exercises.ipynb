{
 "cells": [
  {
   "cell_type": "markdown",
   "metadata": {},
   "source": [
    "[JuPy: Table of Contents](00_Introduction.ipynb#TOC)\n",
    "\n",
    "# A 10. NumPy: Exercises"
   ]
  },
  {
   "cell_type": "markdown",
   "metadata": {},
   "source": [
    "### Exercise 1: Creating a One-Dimensional Array\n",
    "\n",
    "Create a `numpy`  array with values from 0 to 9. Output the values in reverse order using slicing and a step size of -1. "
   ]
  },
  {
   "cell_type": "code",
   "execution_count": null,
   "metadata": {},
   "outputs": [],
   "source": [
    "import numpy as np\n",
    "\n",
    "# your solution\n",
    "\n",
    "\n",
    "# end of your solution"
   ]
  },
  {
   "cell_type": "markdown",
   "metadata": {},
   "source": [
    "---\n",
    "### Exercise 2: Calculations\n",
    "Multiply each element of the array of exercise 1 with 3 and print the result."
   ]
  },
  {
   "cell_type": "code",
   "execution_count": null,
   "metadata": {},
   "outputs": [],
   "source": [
    "# your solution\n",
    "\n",
    "\n",
    "# end of your solution"
   ]
  },
  {
   "cell_type": "markdown",
   "metadata": {},
   "source": [
    "---\n",
    "### Exercise 3: Temperature Conversion\n",
    "Create a `numpy` array `temparray1` with the values from the list `tempList` which contains temperature values in Kelvin (K). Create a second `ndarray` named `temparray2` with the temperatures in degeree Celsius (°C). Use the following formula for the concersion: <br>\n",
    "$T_C = T_K - 273.15$<br>\n",
    "Print the second array as well as the first value of the first and the last value of the second array.  "
   ]
  },
  {
   "cell_type": "code",
   "execution_count": null,
   "metadata": {},
   "outputs": [],
   "source": [
    "import numpy as np\n",
    "\n",
    "tempList = [270, 290, 295.5, 304.3, 310, 289.82]\n",
    "# your solution\n",
    "\n",
    "\n",
    "# end of your solution"
   ]
  },
  {
   "cell_type": "markdown",
   "metadata": {},
   "source": [
    "---\n",
    "### Exercise 4: Creating an Array With Support Points\n",
    "\n",
    "Create an array with 100 equidistant values from the interval $[0,50]$ as support points. "
   ]
  },
  {
   "cell_type": "code",
   "execution_count": null,
   "metadata": {},
   "outputs": [],
   "source": [
    "import numpy as np\n",
    "\n",
    "# your solution\n",
    "\n",
    "\n",
    "# end of your solution"
   ]
  },
  {
   "cell_type": "markdown",
   "metadata": {},
   "source": [
    "---\n",
    "### Exercise 5: Array With Zeros\n",
    "Create an array containing 20 zeros. Print the array. Replace every 5th 0 until the 11th element with a 4. Print the resulting array. "
   ]
  },
  {
   "cell_type": "code",
   "execution_count": null,
   "metadata": {},
   "outputs": [],
   "source": [
    "import numpy as np\n",
    "\n",
    "# your solution\n",
    "\n",
    "\n",
    "# end of your solution"
   ]
  },
  {
   "cell_type": "markdown",
   "metadata": {},
   "source": [
    "---\n",
    "### Exercise 6: Identity Matrix\n",
    "Create a $5 \\times 5$ identity matrix of type `int` and print the first 3 columns of the first 2 rows of the matrix. "
   ]
  },
  {
   "cell_type": "code",
   "execution_count": null,
   "metadata": {},
   "outputs": [],
   "source": [
    "import numpy as np\n",
    "\n",
    "# your solution\n",
    "\n",
    "\n",
    "# end of your solution"
   ]
  },
  {
   "cell_type": "markdown",
   "metadata": {},
   "source": [
    "---\n",
    "### Exercise 7: Adding a Matrix and a Vector\n",
    "- Create a vector of length 5 with integer values (e.g. $[1,2,3,4,5]$). Add it to the identity matrix created in Exercise 6 and print the result.\n",
    "- Modify your vector so that it contains `float` values. Execute the code anew and explain the result.\n",
    "- Modify the length of the vector and execute the code anew. What happens?"
   ]
  },
  {
   "cell_type": "code",
   "execution_count": null,
   "metadata": {},
   "outputs": [],
   "source": [
    "# your solution\n",
    "\n",
    "\n",
    "# end of your solution"
   ]
  },
  {
   "cell_type": "markdown",
   "metadata": {
    "tags": []
   },
   "source": [
    "---\n",
    "### Exercise 8: Adding a Matrix and a Vector  \n",
    "Which vector must added to the matrix of exercise 6 to produce the following matrix?\n",
    "\n",
    "$$\\begin{array}{ccccc}\n",
    "2 & 1 & 1 & 1 & 1\\\\\n",
    "2 & 3 & 2 & 2 & 2\\\\\n",
    "3 & 3 & 4 & 3 & 3\\\\\n",
    "4 & 4 & 4 & 5 & 4\\\\\n",
    "5 & 5 & 5 & 5 & 6\\\\\n",
    "\\end{array}$$\n"
   ]
  },
  {
   "cell_type": "code",
   "execution_count": null,
   "metadata": {},
   "outputs": [],
   "source": [
    "# your solution\n",
    "\n",
    "\n",
    "# end of your solution"
   ]
  },
  {
   "cell_type": "markdown",
   "metadata": {},
   "source": [
    "---\n",
    "### Exercise 9: Reshaping a Matrix\n",
    "Create an array `arr1` containing the values 0 to 19. Use `reshape()` to modify it into a $5\\times 4$ matrix and print the result. Test other shapes like  $4\\times 5$,  $2\\times 10$,  $3\\times 5$,... What rule can you derive regarding the use of `reshape()`?  "
   ]
  },
  {
   "cell_type": "code",
   "execution_count": null,
   "metadata": {},
   "outputs": [],
   "source": [
    "import numpy as np\n",
    "\n",
    "# your solution\n",
    "\n",
    "\n",
    "# end of your solution"
   ]
  },
  {
   "cell_type": "markdown",
   "metadata": {},
   "source": [
    "# NumPy: Supplementary Exercises"
   ]
  },
  {
   "cell_type": "markdown",
   "metadata": {},
   "source": [
    "---\n",
    "### Supplementary Exercise 1: Modifying a Matrix\n",
    "\n",
    "Create a $3\\times 3$ matrix with zeros. Read a value for a line number (1 to 3) from the user and modify the values in the line with the specified number to the corresponding values of a matrix containing values from 1 to 9. Print the result. "
   ]
  },
  {
   "cell_type": "markdown",
   "metadata": {},
   "source": [
    "The original matrix\n",
    "\n",
    "$$\\begin{array}{ccc}\n",
    "0 & 0 & 0\\\\\n",
    "0 & 0 & 0\\\\\n",
    "0 & 0 & 0\\\\\n",
    "\\end{array}\n",
    "$$\n",
    " \n",
    "is modified to the following matrix with a user input of `2`:\n",
    "\n",
    "\n",
    "$$\\begin{array}{ccc}\n",
    "0 & 0 & 0\\\\\n",
    "4 & 5 & 6\\\\\n",
    "0 & 0 & 0\\\\\n",
    "\\end{array}\n",
    "$$\n"
   ]
  },
  {
   "cell_type": "code",
   "execution_count": null,
   "metadata": {},
   "outputs": [],
   "source": [
    "import numpy as np\n",
    "\n",
    "# your solution\n",
    "\n",
    "\n",
    "# end of your solution"
   ]
  },
  {
   "cell_type": "markdown",
   "metadata": {},
   "source": [
    "---\n",
    "### Supplementary Exercise 2: Using the `while` Loop\n",
    "Extend your solution to allow the user to re-enter a line number, modify the matrix accordingly and print it. The loop shall finish when the matrix contains the values from 1 to 9 and looks as follows:\n"
   ]
  },
  {
   "cell_type": "markdown",
   "metadata": {},
   "source": [
    "$$\\begin{array}{ccc}\n",
    "1 & 2 & 3\\\\\n",
    "4 & 5 & 6\\\\\n",
    "7 & 8 & 9\\\\\n",
    "\\end{array}\n",
    "$$"
   ]
  },
  {
   "cell_type": "markdown",
   "metadata": {},
   "source": [
    "**Hints:** \n",
    "- Use a `while` loop with `True` and  `break`  (see chapter [7 `while` loop](07a_WhileLoop_Theory.ipynb#break)).\n",
    "- To check the result of the comparison of two matrices with `==` you may use the method `all()`. Please check out the documentation. \n",
    " (https://numpy.org/doc/stable/reference/generated/numpy.all.html#numpy.all)"
   ]
  },
  {
   "cell_type": "code",
   "execution_count": null,
   "metadata": {},
   "outputs": [],
   "source": [
    "import numpy as np\n",
    "\n",
    "# your solution\n",
    "\n",
    "\n",
    "# end of your solution"
   ]
  },
  {
   "cell_type": "markdown",
   "metadata": {},
   "source": [
    "\n",
    "---\n",
    "**Congratulations!**  You finished this chapter.\n",
    "\n",
    "Link to the next chapter: [11. Plots](11a_Plots_Theory.ipynb)"
   ]
  },
  {
   "cell_type": "markdown",
   "metadata": {
    "deletable": false,
    "editable": false,
    "tags": []
   },
   "source": [
    "<a rel=\"license\" href=\"http://creativecommons.org/licenses/by-nc-nd/4.0/\"><img alt=\"Creative Commons License\" style=\"border-width:0\" src=\"https://i.creativecommons.org/l/by-nc-nd/4.0/88x31.png\" /></a><br /><span xmlns:dct=\"http://purl.org/dc/terms/\" property=\"dct:title\">JuPy Python Course</span> by <span xmlns:cc=\"http://creativecommons.org/ns#\" property=\"cc:attributionName\">EAH Jena</span> is licensed under a <a rel=\"license\" href=\"http://creativecommons.org/licenses/by-nc-nd/4.0/\">Creative Commons Attribution-NonCommercial-NoDerivatives 4.0 International License</a>."
   ]
  }
 ],
 "metadata": {
  "kernelspec": {
   "display_name": "Python 3 (ipykernel)",
   "language": "python",
   "name": "python3"
  },
  "language_info": {
   "codemirror_mode": {
    "name": "ipython",
    "version": 3
   },
   "file_extension": ".py",
   "mimetype": "text/x-python",
   "name": "python",
   "nbconvert_exporter": "python",
   "pygments_lexer": "ipython3",
   "version": "3.10.8"
  }
 },
 "nbformat": 4,
 "nbformat_minor": 4
}
