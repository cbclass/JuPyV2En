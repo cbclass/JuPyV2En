{
 "cells": [
  {
   "cell_type": "code",
   "execution_count": 2,
   "metadata": {},
   "outputs": [
    {
     "data": {
      "application/vnd.jupyter.widget-view+json": {
       "model_id": "c2be456e147c43a1835a894d7c2ec10c",
       "version_major": 2,
       "version_minor": 0
      },
      "text/plain": [
       "VBox(children=(Output(), RadioButtons(options=(('5', 0), ('True', 1), ('13', 2), ('False', 3)), value=0), Butt…"
      ]
     },
     "metadata": {},
     "output_type": "display_data"
    },
    {
     "data": {
      "application/vnd.jupyter.widget-view+json": {
       "model_id": "0dfa44a55997439fb0e1a73c534ba895",
       "version_major": 2,
       "version_minor": 0
      },
      "text/plain": [
       "VBox(children=(Output(), RadioButtons(options=(('[Lisa,Joerg]', 0), ('An Error', 1), ('5', 2), ('LisaJoerg', 3…"
      ]
     },
     "metadata": {},
     "output_type": "display_data"
    },
    {
     "data": {
      "application/vnd.jupyter.widget-view+json": {
       "model_id": "3efb0e4901a444d1a6c3d52701121904",
       "version_major": 2,
       "version_minor": 0
      },
      "text/plain": [
       "VBox(children=(Output(), RadioButtons(options=(('[Lisa,Joerg]', 0), ('An Error', 1), ('5', 2), ('LisaJoerg', 3…"
      ]
     },
     "metadata": {},
     "output_type": "display_data"
    },
    {
     "data": {
      "application/vnd.jupyter.widget-view+json": {
       "model_id": "d9d0667d42e44b7d8ade1725b41c091e",
       "version_major": 2,
       "version_minor": 0
      },
      "text/plain": [
       "VBox(children=(Output(), RadioButtons(options=(('int', 0), ('double', 1), ('string', 2), ('float', 3)), value=…"
      ]
     },
     "metadata": {},
     "output_type": "display_data"
    }
   ],
   "source": [
    "from questionsE import *\n",
    "\n",
    "Q1 = create_multipleChoice_widget_new(\"What is the output of the following code segment?\",\"a = 2\\nb = 3\\nprint(a*2+3*b)\",\n",
    "                                      ['5','True','13','False'],'13', 0)\n",
    "Q2 = create_multipleChoice_widget_new(\"What is the output of the following code segment?\",\n",
    "                                      \"a = Lisa\\nb = Joerg\\nprint(a+b)\",\n",
    "                                      ['[Lisa,Joerg]','An Error','5','LisaJoerg'],'An Error', 0)\n",
    "Q3 = create_multipleChoice_widget_new(\"What is the output of the following code segment??\",\n",
    "                                      \"a = 'Lisa'\\nb = 'Joerg'\\nprint(a+b)\",\n",
    "                                      ['[Lisa,Joerg]','An Error','5','LisaJoerg'],'LisaJoerg', 0)\n",
    "Q4 = create_multipleChoice_widget_new(\"What is the data type of variable `x` after executing the following statement?\",\n",
    "                                      \"x = input('Please input your age ')\",\n",
    "                                      ['int', 'double', 'string', 'float'],'string', 1)\n",
    "\n",
    "\n",
    "display(Q1)\n",
    "display(Q2)\n",
    "display(Q3)\n",
    "display(Q4)\n",
    "\n"
   ]
  },
  {
   "cell_type": "code",
   "execution_count": null,
   "metadata": {},
   "outputs": [],
   "source": []
  }
 ],
 "metadata": {
  "kernelspec": {
   "display_name": "Python 3 (ipykernel)",
   "language": "python",
   "name": "python3"
  },
  "language_info": {
   "codemirror_mode": {
    "name": "ipython",
    "version": 3
   },
   "file_extension": ".py",
   "mimetype": "text/x-python",
   "name": "python",
   "nbconvert_exporter": "python",
   "pygments_lexer": "ipython3",
   "version": "3.10.9"
  }
 },
 "nbformat": 4,
 "nbformat_minor": 4
}
