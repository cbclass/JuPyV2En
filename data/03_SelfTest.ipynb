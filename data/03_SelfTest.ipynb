{
 "cells": [
  {
   "cell_type": "code",
   "execution_count": 1,
   "metadata": {},
   "outputs": [
    {
     "data": {
      "application/vnd.jupyter.widget-view+json": {
       "model_id": "c2d3f77efef043fc9fc54aa960fec218",
       "version_major": 2,
       "version_minor": 0
      },
      "text/plain": [
       "VBox(children=(Output(), RadioButtons(options=(('5', 0), ('True', 1), ('13', 2), ('False', 3)), value=0), Butt…"
      ]
     },
     "metadata": {},
     "output_type": "display_data"
    },
    {
     "data": {
      "application/vnd.jupyter.widget-view+json": {
       "model_id": "c1d526f4202a4da685d7f094f2827131",
       "version_major": 2,
       "version_minor": 0
      },
      "text/plain": [
       "VBox(children=(Output(), RadioButtons(options=(('[Lisa,Joerg]', 0), ('An Error', 1), ('5', 2), ('LisaJoerg', 3…"
      ]
     },
     "metadata": {},
     "output_type": "display_data"
    },
    {
     "data": {
      "application/vnd.jupyter.widget-view+json": {
       "model_id": "dd70d22c4cbe42b8a357e831ef5aee22",
       "version_major": 2,
       "version_minor": 0
      },
      "text/plain": [
       "VBox(children=(Output(), RadioButtons(options=(('[Lisa,Joerg]', 0), ('An Error', 1), ('5', 2), ('LisaJoerg', 3…"
      ]
     },
     "metadata": {},
     "output_type": "display_data"
    },
    {
     "data": {
      "application/vnd.jupyter.widget-view+json": {
       "model_id": "1e9c362cbc7d4c1ba43fa7cd195a1630",
       "version_major": 2,
       "version_minor": 0
      },
      "text/plain": [
       "VBox(children=(Output(), RadioButtons(options=(('int', 0), ('double', 1), ('string', 2), ('float', 3)), value=…"
      ]
     },
     "metadata": {},
     "output_type": "display_data"
    }
   ],
   "source": [
    "from questionsE import *\n",
    "\n",
    "Q1 = create_multipleChoice_widget_new(\"What is the output of the following code segment?\",\"a = 2\\nb = 3\\nprint(a*2+3*b)\",\n",
    "                                      ['5','True','13','False'],'13', 0)\n",
    "Q2 = create_multipleChoice_widget_new(\"What is the output of the following code segment?\",\n",
    "                                      \"a = Lisa\\nb = Joerg\\nprint(a+b)\",\n",
    "                                      ['[Lisa,Joerg]','An Error','5','LisaJoerg'],'An Error', 0)\n",
    "Q3 = create_multipleChoice_widget_new(\"What is the output of the following code segment??\",\n",
    "                                      \"a = 'Lisa'\\nb = 'Joerg'\\nprint(a+b)\",\n",
    "                                      ['[Lisa,Joerg]','An Error','5','LisaJoerg'],'LisaJoerg', 0)\n",
    "Q4 = create_multipleChoice_widget_new(\"What is the data type of variable `x` after executing the following statement?\",\n",
    "                                      \"x = input('Please input your age ')\",\n",
    "                                      ['int', 'double', 'string', 'float'],'string', 1)\n",
    "\n",
    "\n",
    "display(Q1)\n",
    "display(Q2)\n",
    "display(Q3)\n",
    "display(Q4)\n",
    "\n"
   ]
  },
  {
   "cell_type": "code",
   "execution_count": null,
   "metadata": {},
   "outputs": [],
   "source": []
  }
 ],
 "metadata": {
  "kernelspec": {
   "display_name": "Python 3 (ipykernel)",
   "language": "python",
   "name": "python3"
  },
  "language_info": {
   "codemirror_mode": {
    "name": "ipython",
    "version": 3
   },
   "file_extension": ".py",
   "mimetype": "text/x-python",
   "name": "python",
   "nbconvert_exporter": "python",
   "pygments_lexer": "ipython3",
   "version": "3.9.7"
  }
 },
 "nbformat": 4,
 "nbformat_minor": 4
}
