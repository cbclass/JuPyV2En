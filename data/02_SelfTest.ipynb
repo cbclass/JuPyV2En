{
 "cells": [
  {
   "cell_type": "code",
   "execution_count": 1,
   "metadata": {},
   "outputs": [
    {
     "data": {
      "application/vnd.jupyter.widget-view+json": {
       "model_id": "7c0e1bb12ac543ceab34e3ce522da071",
       "version_major": 2,
       "version_minor": 0
      },
      "text/plain": [
       "VBox(children=(Output(), RadioButtons(options=(('int', 0), ('float', 1), ('bool', 2), ('different data type or…"
      ]
     },
     "metadata": {},
     "output_type": "display_data"
    },
    {
     "data": {
      "application/vnd.jupyter.widget-view+json": {
       "model_id": "014d6a1a4e8543659722e4591165b903",
       "version_major": 2,
       "version_minor": 0
      },
      "text/plain": [
       "VBox(children=(Output(), RadioButtons(options=(('int', 0), ('float', 1), ('bool', 2), ('different data type or…"
      ]
     },
     "metadata": {},
     "output_type": "display_data"
    },
    {
     "data": {
      "application/vnd.jupyter.widget-view+json": {
       "model_id": "0538de1d24594c47b6ddc8ebbd789039",
       "version_major": 2,
       "version_minor": 0
      },
      "text/plain": [
       "VBox(children=(Output(), RadioButtons(options=(('int', 0), ('float', 1), ('bool', 2), ('different data type or…"
      ]
     },
     "metadata": {},
     "output_type": "display_data"
    },
    {
     "data": {
      "application/vnd.jupyter.widget-view+json": {
       "model_id": "7b74b0b4e08947c9905955764597738a",
       "version_major": 2,
       "version_minor": 0
      },
      "text/plain": [
       "VBox(children=(Output(), RadioButtons(options=(('int', 0), ('float', 1), ('bool', 2), ('different data type or…"
      ]
     },
     "metadata": {},
     "output_type": "display_data"
    },
    {
     "data": {
      "application/vnd.jupyter.widget-view+json": {
       "model_id": "df8ffd2aab084f1b89f2e399a1d577b3",
       "version_major": 2,
       "version_minor": 0
      },
      "text/plain": [
       "VBox(children=(Output(), RadioButtons(options=(('int', 0), ('float', 1), ('bool', 2), ('different data type or…"
      ]
     },
     "metadata": {},
     "output_type": "display_data"
    },
    {
     "data": {
      "application/vnd.jupyter.widget-view+json": {
       "model_id": "8ca78523797a458ea6fa7703fbb42ea9",
       "version_major": 2,
       "version_minor": 0
      },
      "text/plain": [
       "VBox(children=(Output(), RadioButtons(options=(('int', 0), ('float', 1), ('bool', 2), ('different data type or…"
      ]
     },
     "metadata": {},
     "output_type": "display_data"
    }
   ],
   "source": [
    "from questionsE import *\n",
    "\n",
    "Q1 = create_multipleChoice_widget_new(\"What is the data type of?\",'1+3',['int','float', 'bool', 'different data type or wrong expression'],'int')\n",
    "Q2 = create_multipleChoice_widget_new(\"What is the data type of?\",'2,3',['int','float', 'bool', 'different data type or wrong expression'],'different data type or wrong expression')\n",
    "Q3 = create_multipleChoice_widget_new(\"What is the data type of?\",'True+2',['int','float', 'bool', 'different data type or wrong expression'],'int')\n",
    "Q4 = create_multipleChoice_widget_new(\"What is the data type of?\",'3.1',['int','float', 'bool', 'different data type or wrong expression'],'float')\n",
    "Q5 = create_multipleChoice_widget_new(\"What is the data type of?\",'-1.3e-10',['int','float', 'bool', 'different data type or wrong expression'],'float')\n",
    "Q6 = create_multipleChoice_widget_new(\"What is the data type of?\",'4<0.3',['int','float', 'bool', 'different data type or wrong expression'],'bool')\n",
    "\n",
    "display(Q1)\n",
    "display(Q2)\n",
    "display(Q3)\n",
    "display(Q4)\n",
    "display(Q5)\n",
    "display(Q6)\n"
   ]
  },
  {
   "cell_type": "code",
   "execution_count": null,
   "metadata": {},
   "outputs": [],
   "source": []
  }
 ],
 "metadata": {
  "kernelspec": {
   "display_name": "Python 3 (ipykernel)",
   "language": "python",
   "name": "python3"
  },
  "language_info": {
   "codemirror_mode": {
    "name": "ipython",
    "version": 3
   },
   "file_extension": ".py",
   "mimetype": "text/x-python",
   "name": "python",
   "nbconvert_exporter": "python",
   "pygments_lexer": "ipython3",
   "version": "3.9.7"
  }
 },
 "nbformat": 4,
 "nbformat_minor": 4
}
