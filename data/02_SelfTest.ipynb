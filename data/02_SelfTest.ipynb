{
 "cells": [
  {
   "cell_type": "code",
   "execution_count": 1,
   "metadata": {},
   "outputs": [
    {
     "data": {
      "application/vnd.jupyter.widget-view+json": {
       "model_id": "f566ff1f10fb4a91bc7cb2d276791d4b",
       "version_major": 2,
       "version_minor": 0
      },
      "text/plain": [
       "VBox(children=(Output(), RadioButtons(options=(('int', 0), ('float', 1), ('bool', 2), ('different data type or…"
      ]
     },
     "metadata": {},
     "output_type": "display_data"
    },
    {
     "data": {
      "application/vnd.jupyter.widget-view+json": {
       "model_id": "e05a857a17764b10b2509fc61d7dd7e3",
       "version_major": 2,
       "version_minor": 0
      },
      "text/plain": [
       "VBox(children=(Output(), RadioButtons(options=(('int', 0), ('float', 1), ('bool', 2), ('different data type or…"
      ]
     },
     "metadata": {},
     "output_type": "display_data"
    },
    {
     "data": {
      "application/vnd.jupyter.widget-view+json": {
       "model_id": "2f33d15b9b404705b7b98831303a9d60",
       "version_major": 2,
       "version_minor": 0
      },
      "text/plain": [
       "VBox(children=(Output(), RadioButtons(options=(('int', 0), ('float', 1), ('bool', 2), ('different data type or…"
      ]
     },
     "metadata": {},
     "output_type": "display_data"
    },
    {
     "data": {
      "application/vnd.jupyter.widget-view+json": {
       "model_id": "5c596a580ab442f786f56778d7401c20",
       "version_major": 2,
       "version_minor": 0
      },
      "text/plain": [
       "VBox(children=(Output(), RadioButtons(options=(('int', 0), ('float', 1), ('bool', 2), ('different data type or…"
      ]
     },
     "metadata": {},
     "output_type": "display_data"
    },
    {
     "data": {
      "application/vnd.jupyter.widget-view+json": {
       "model_id": "703562c7a6b34f77a65184d1b91d9862",
       "version_major": 2,
       "version_minor": 0
      },
      "text/plain": [
       "VBox(children=(Output(), RadioButtons(options=(('int', 0), ('float', 1), ('bool', 2), ('different data type or…"
      ]
     },
     "metadata": {},
     "output_type": "display_data"
    },
    {
     "data": {
      "application/vnd.jupyter.widget-view+json": {
       "model_id": "11ec555e0b6243ffa6986af8dacb0c9a",
       "version_major": 2,
       "version_minor": 0
      },
      "text/plain": [
       "VBox(children=(Output(), RadioButtons(options=(('int', 0), ('float', 1), ('bool', 2), ('different data type or…"
      ]
     },
     "metadata": {},
     "output_type": "display_data"
    }
   ],
   "source": [
    "from questionsE import *\n",
    "\n",
    "Q1 = create_multipleChoice_widget_new(\"What is the data type of?\",'1+3',['int','float', 'bool', 'different data type or wrong expression'],'int',0)\n",
    "Q2 = create_multipleChoice_widget_new(\"What is the data type of?\",'2,3',['int','float', 'bool', 'different data type or wrong expression'],'different data type or wrong expression',0)\n",
    "Q3 = create_multipleChoice_widget_new(\"What is the data type of?\",'True+2',['int','float', 'bool', 'different data type or wrong expression'],'int',0)\n",
    "Q4 = create_multipleChoice_widget_new(\"What is the data type of?\",'3.1',['int','float', 'bool', 'different data type or wrong expression'],'float',0)\n",
    "Q5 = create_multipleChoice_widget_new(\"What is the data type of?\",'-1.3e-10',['int','float', 'bool', 'different data type or wrong expression'],'float',0)\n",
    "Q6 = create_multipleChoice_widget_new(\"What is the data type of?\",'4<0.3',['int','float', 'bool', 'different data type or wrong expression'],'bool',1)\n",
    "\n",
    "display(Q1)\n",
    "display(Q2)\n",
    "display(Q3)\n",
    "display(Q4)\n",
    "display(Q5)\n",
    "display(Q6)\n"
   ]
  },
  {
   "cell_type": "code",
   "execution_count": null,
   "metadata": {},
   "outputs": [],
   "source": []
  }
 ],
 "metadata": {
  "kernelspec": {
   "display_name": "Python 3 (ipykernel)",
   "language": "python",
   "name": "python3"
  },
  "language_info": {
   "codemirror_mode": {
    "name": "ipython",
    "version": 3
   },
   "file_extension": ".py",
   "mimetype": "text/x-python",
   "name": "python",
   "nbconvert_exporter": "python",
   "pygments_lexer": "ipython3",
   "version": "3.10.9"
  }
 },
 "nbformat": 4,
 "nbformat_minor": 4
}
