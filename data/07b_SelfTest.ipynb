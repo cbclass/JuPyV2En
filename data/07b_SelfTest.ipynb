{
 "cells": [
  {
   "cell_type": "code",
   "execution_count": 1,
   "metadata": {},
   "outputs": [
    {
     "data": {
      "application/vnd.jupyter.widget-view+json": {
       "model_id": "2155929de2e64c35bd2d5320d251eacd",
       "version_major": 2,
       "version_minor": 0
      },
      "text/plain": [
       "VBox(children=(Output(), IntText(value=0, description='Value:'), Button(description='check', style=ButtonStyle…"
      ]
     },
     "metadata": {},
     "output_type": "display_data"
    }
   ],
   "source": [
    "# JuPy Python Course by EAH Jena (www.eah-jena.de) is licensed under a \n",
    "# Creative Commons Attribution-NonCommercial-NoDerivatives 4.0 International License (http://creativecommons.org/licenses/by-nc-nd/4.0/).\n",
    "\n",
    "from questionsE import *\n",
    "\n",
    "Q1 = create_int_input_widget(\"What is the output of the follwoing code segment?\",\n",
    "'''i=1 \n",
    "counter=0 \n",
    "while i<=10:     \n",
    "    i+=1     \n",
    "    if i==5:         \n",
    "        break     \n",
    "    counter+=1 \n",
    "print(counter)''',\n",
    "3,1)\n",
    "\n",
    "display(Q1)"
   ]
  },
  {
   "cell_type": "code",
   "execution_count": null,
   "metadata": {},
   "outputs": [],
   "source": []
  }
 ],
 "metadata": {
  "kernelspec": {
   "display_name": "Python 3 (ipykernel)",
   "language": "python",
   "name": "python3"
  },
  "language_info": {
   "codemirror_mode": {
    "name": "ipython",
    "version": 3
   },
   "file_extension": ".py",
   "mimetype": "text/x-python",
   "name": "python",
   "nbconvert_exporter": "python",
   "pygments_lexer": "ipython3",
   "version": "3.10.8"
  }
 },
 "nbformat": 4,
 "nbformat_minor": 4
}
