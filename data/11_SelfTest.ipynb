{
 "cells": [
  {
   "cell_type": "code",
   "execution_count": 1,
   "metadata": {},
   "outputs": [
    {
     "data": {
      "application/vnd.jupyter.widget-view+json": {
       "model_id": "ef405ed17129497f8aa2814a3ab1cac7",
       "version_major": 2,
       "version_minor": 0
      },
      "text/plain": [
       "VBox(children=(Output(), RadioButtons(options=(('plt.label()', 0), ('plt.xlabel()', 1), ('plt.labelx()', 2), (…"
      ]
     },
     "metadata": {},
     "output_type": "display_data"
    },
    {
     "data": {
      "application/vnd.jupyter.widget-view+json": {
       "model_id": "caeba096c6814166b386c8f548b9c4bb",
       "version_major": 2,
       "version_minor": 0
      },
      "text/plain": [
       "VBox(children=(Output(), RadioButtons(options=(('black-', 0), ('k--', 1), ('key--', 2), ('b--', 3)), value=0),…"
      ]
     },
     "metadata": {},
     "output_type": "display_data"
    },
    {
     "data": {
      "application/vnd.jupyter.widget-view+json": {
       "model_id": "9ce8b1ed5afd4b4a9a41caf12b31c042",
       "version_major": 2,
       "version_minor": 0
      },
      "text/plain": [
       "VBox(children=(Output(), RadioButtons(options=(('(1,3,2)', 0), ('(3,1,2)', 1), ('(2,3,1)', 2), ('(3,2,1)', 3),…"
      ]
     },
     "metadata": {},
     "output_type": "display_data"
    },
    {
     "data": {
      "application/vnd.jupyter.widget-view+json": {
       "model_id": "2154db6bb9464dccb874619dbffc9ec1",
       "version_major": 2,
       "version_minor": 0
      },
      "text/plain": [
       "VBox(children=(Output(), RadioButtons(options=(('plt.achse([-2,2])', 0), ('plt.axis(-2,2)', 1), ('plt.axis([-2…"
      ]
     },
     "metadata": {},
     "output_type": "display_data"
    }
   ],
   "source": [
    "from questionsE import *\n",
    "\n",
    "Q1 = create_multipleChoice_widget_new('Which function is used to modify the label on the x-axis?','',\n",
    "                                      ['plt.label()','plt.xlabel()', 'plt.labelx()', 'plt.LabelX()'],'plt.xlabel()')\n",
    "Q2 = create_multipleChoice_widget_new('What is the style specification of a dashed black line?','',\n",
    "                                      ['black-','k--', 'key--', 'b--'],'k--')\n",
    "Q3 = create_multipleChoice_widget_new('You want to display three stacked plots. What are the parameter values for the `subplot()` function call for the plot in the middle?','',\n",
    "                                      ['(1,3,2)','(3,1,2)', '(2,3,1)', '(3,2,1)','(1,1,2)'],'(3,1,2)')\n",
    "Q4 = create_multipleChoice_widget_new('What is the correct command to display the x axis in the range of -2 to +2 darstellen.','',\n",
    "                                      ['plt.achse([-2,2])','plt.axis(-2,2)', 'plt.axis([-2,2])', 'plt.a(-2,2)','plt.achse(-2,2)'],'plt.axis([-2,2])')\n",
    "\n",
    "\n",
    "display(Q1)\n",
    "display(Q2)\n",
    "display(Q3)\n",
    "display(Q4)\n",
    "\n"
   ]
  },
  {
   "cell_type": "code",
   "execution_count": null,
   "metadata": {},
   "outputs": [],
   "source": []
  }
 ],
 "metadata": {
  "kernelspec": {
   "display_name": "Python 3 (ipykernel)",
   "language": "python",
   "name": "python3"
  },
  "language_info": {
   "codemirror_mode": {
    "name": "ipython",
    "version": 3
   },
   "file_extension": ".py",
   "mimetype": "text/x-python",
   "name": "python",
   "nbconvert_exporter": "python",
   "pygments_lexer": "ipython3",
   "version": "3.9.7"
  }
 },
 "nbformat": 4,
 "nbformat_minor": 4
}
