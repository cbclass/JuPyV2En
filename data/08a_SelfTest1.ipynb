{
 "cells": [
  {
   "cell_type": "code",
   "execution_count": 1,
   "metadata": {},
   "outputs": [
    {
     "data": {
      "application/vnd.jupyter.widget-view+json": {
       "model_id": "f102b723df5b43bc85b701a3f5cb8fbe",
       "version_major": 2,
       "version_minor": 0
      },
      "text/plain": [
       "VBox(children=(Output(), RadioButtons(options=(('oneFunction', 0), ('one Function', 1), ('onefunction', 2), ('…"
      ]
     },
     "metadata": {},
     "output_type": "display_data"
    },
    {
     "data": {
      "application/vnd.jupyter.widget-view+json": {
       "model_id": "f0eff8e3d17d4305aa606882001cd444",
       "version_major": 2,
       "version_minor": 0
      },
      "text/plain": [
       "VBox(children=(Output(), RadioButtons(options=(('0', 0), ('1', 1), ('2', 2), ('3', 3)), value=0), Button(descr…"
      ]
     },
     "metadata": {},
     "output_type": "display_data"
    },
    {
     "data": {
      "application/vnd.jupyter.widget-view+json": {
       "model_id": "27ae1ba6a32f45c89b7c707c287542f5",
       "version_major": 2,
       "version_minor": 0
      },
      "text/plain": [
       "VBox(children=(Output(), RadioButtons(options=(('oneFunction()', 0), ('one Function()', 1), ('oneFunction', 2)…"
      ]
     },
     "metadata": {},
     "output_type": "display_data"
    },
    {
     "data": {
      "application/vnd.jupyter.widget-view+json": {
       "model_id": "3555101d52014a1e8f1953504eb6d1b5",
       "version_major": 2,
       "version_minor": 0
      },
      "text/plain": [
       "VBox(children=(Output(), RadioButtons(options=((\"1. don't procrastinate!  2. open YouTube\", 0), (\"1. open YouT…"
      ]
     },
     "metadata": {},
     "output_type": "display_data"
    }
   ],
   "source": [
    "\n",
    "from questionsE import *\n",
    "\n",
    "Q1 = create_multipleChoice_widget_new('''What is the name of the function?''','',\n",
    "                                      ['oneFunction', 'one Function', 'onefunction',  'def'],'oneFunction', 0)\n",
    "Q2 = create_multipleChoice_widget_new('''How many statements does the function code have?''','',\n",
    "                                      ['0','1','2','3'],'1', 0)\n",
    "Q3 = create_multipleChoice_widget_new('''How is the function called?''','',\n",
    "                                      ['oneFunction()','one Function()','oneFunction','onefunction()'],\n",
    "                                      'oneFunction()', 0)\n",
    "Q4 = create_multipleChoice_widget_new('''What is the order of the output of above code segment?''','',\n",
    "                                      [\"1. don't procrastinate!  2. open YouTube\", \n",
    "                                       \"1. open YouTube 2. don't procrastinate!\", \n",
    "                                       'There will be an error'],\"1. open YouTube 2. don't procrastinate!\", 0)\n",
    "\n",
    "\n",
    "\n",
    "\n",
    "display(Q1)\n",
    "display(Q2)\n",
    "display(Q3)\n",
    "display(Q4)"
   ]
  },
  {
   "cell_type": "code",
   "execution_count": null,
   "metadata": {},
   "outputs": [],
   "source": []
  }
 ],
 "metadata": {
  "kernelspec": {
   "display_name": "Python 3 (ipykernel)",
   "language": "python",
   "name": "python3"
  },
  "language_info": {
   "codemirror_mode": {
    "name": "ipython",
    "version": 3
   },
   "file_extension": ".py",
   "mimetype": "text/x-python",
   "name": "python",
   "nbconvert_exporter": "python",
   "pygments_lexer": "ipython3",
   "version": "3.9.7"
  }
 },
 "nbformat": 4,
 "nbformat_minor": 4
}
