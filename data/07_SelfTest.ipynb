{
 "cells": [
  {
   "cell_type": "code",
   "execution_count": 1,
   "metadata": {},
   "outputs": [
    {
     "data": {
      "application/vnd.jupyter.widget-view+json": {
       "model_id": "e519ea00b99a45d79cc04dfe6a42ddca",
       "version_major": 2,
       "version_minor": 0
      },
      "text/plain": [
       "VBox(children=(Output(), RadioButtons(options=(('0', 0), ('3', 1), ('5', 2), ('6', 3), ('Error', 4)), value=0)…"
      ]
     },
     "metadata": {},
     "output_type": "display_data"
    },
    {
     "data": {
      "application/vnd.jupyter.widget-view+json": {
       "model_id": "eb6dad7be63045ef9e8f5cd86ed91412",
       "version_major": 2,
       "version_minor": 0
      },
      "text/plain": [
       "VBox(children=(Output(), RadioButtons(options=(('0', 0), ('3', 1), ('5', 2), ('6', 3), ('Error', 4)), value=0)…"
      ]
     },
     "metadata": {},
     "output_type": "display_data"
    },
    {
     "data": {
      "application/vnd.jupyter.widget-view+json": {
       "model_id": "d0280f53356c4d7397dec11bbb249a2d",
       "version_major": 2,
       "version_minor": 0
      },
      "text/plain": [
       "VBox(children=(Output(), RadioButtons(options=(('0', 0), ('3', 1), ('5', 2), ('6', 3), ('Error', 4)), value=0)…"
      ]
     },
     "metadata": {},
     "output_type": "display_data"
    },
    {
     "data": {
      "application/vnd.jupyter.widget-view+json": {
       "model_id": "19d59cc03e3346ee8dbec8719e989756",
       "version_major": 2,
       "version_minor": 0
      },
      "text/plain": [
       "VBox(children=(Output(), RadioButtons(options=(('0', 0), ('3', 1), ('5', 2), ('6', 3), ('Error', 4)), value=0)…"
      ]
     },
     "metadata": {},
     "output_type": "display_data"
    },
    {
     "data": {
      "application/vnd.jupyter.widget-view+json": {
       "model_id": "c3ccad87494540ef8ce31669d3fe8ed0",
       "version_major": 2,
       "version_minor": 0
      },
      "text/plain": [
       "VBox(children=(Output(), RadioButtons(options=(('0', 0), ('3', 1), ('5', 2), ('6', 3), ('Error', 4)), value=0)…"
      ]
     },
     "metadata": {},
     "output_type": "display_data"
    }
   ],
   "source": [
    "from questionsE import *\n",
    "\n",
    "Q1 = create_multipleChoice_widget_new(\"What is the output of the following code segment?\",'''i=0\n",
    "counter=0\n",
    "while i<=5:\n",
    "    counter=counter+1\n",
    "    i=i+1\n",
    "print(counter)''',['0','3','5','6','Error'],'6')\n",
    "\n",
    "Q2 = create_multipleChoice_widget_new(\"What is the output of the following code segment?\",'''i=1\n",
    "counter=0\n",
    "while i<=5:\n",
    "    counter+=1\n",
    "    i=i+1\n",
    "print(counter)''',['0','3','5','6','Error'],'5',0)\n",
    "\n",
    "Q3 = create_multipleChoice_widget_new(\"What is the output of the following code segment?\",'''i=0\n",
    "counter=0\n",
    "while i>0 and counter<5:\n",
    "    counter+=1\n",
    "    i=i+1\n",
    "print(counter)''',['0','3','5','6','Error'],'0',0)\n",
    "\n",
    "Q4 = create_multipleChoice_widget_new(\"What is the output of the following code segment?\",'''i=0\n",
    "counter=0\n",
    "while i<3 and counter<5:\n",
    "    counter=counter+i\n",
    "    i=i+1\n",
    "print(counter)''',['0','3','5','6','Error'],'3',0)\n",
    "\n",
    "Q5 = create_multipleChoice_widget_new(\"What is the output of the following code segment?\",'''i=0\n",
    "counter=0\n",
    "while i<3 or counter<5:\n",
    "    counter=counter+i\n",
    "    i=i+1\n",
    "print(counter)''',['0','3','5','6','Error'],'5',0)\n",
    "\n",
    "\n",
    "display(Q1)\n",
    "display(Q2)\n",
    "display(Q3)\n",
    "display(Q4)\n",
    "display(Q5)\n",
    "\n"
   ]
  },
  {
   "cell_type": "code",
   "execution_count": null,
   "metadata": {},
   "outputs": [],
   "source": []
  }
 ],
 "metadata": {
  "kernelspec": {
   "display_name": "Python 3 (ipykernel)",
   "language": "python",
   "name": "python3"
  },
  "language_info": {
   "codemirror_mode": {
    "name": "ipython",
    "version": 3
   },
   "file_extension": ".py",
   "mimetype": "text/x-python",
   "name": "python",
   "nbconvert_exporter": "python",
   "pygments_lexer": "ipython3",
   "version": "3.9.7"
  }
 },
 "nbformat": 4,
 "nbformat_minor": 4
}
