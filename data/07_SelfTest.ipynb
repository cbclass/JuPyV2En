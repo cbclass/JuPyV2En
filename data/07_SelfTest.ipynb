{
 "cells": [
  {
   "cell_type": "code",
   "execution_count": 1,
   "metadata": {},
   "outputs": [
    {
     "data": {
      "application/vnd.jupyter.widget-view+json": {
       "model_id": "3049ece2507b4cd188f40e33528251c8",
       "version_major": 2,
       "version_minor": 0
      },
      "text/plain": [
       "VBox(children=(Output(), RadioButtons(options=(('0', 0), ('3', 1), ('5', 2), ('6', 3), ('Error', 4)), value=0)…"
      ]
     },
     "metadata": {},
     "output_type": "display_data"
    },
    {
     "data": {
      "application/vnd.jupyter.widget-view+json": {
       "model_id": "442687d643b0442cbb705eb3dd2852c4",
       "version_major": 2,
       "version_minor": 0
      },
      "text/plain": [
       "VBox(children=(Output(), RadioButtons(options=(('0', 0), ('3', 1), ('5', 2), ('6', 3), ('Error', 4)), value=0)…"
      ]
     },
     "metadata": {},
     "output_type": "display_data"
    },
    {
     "data": {
      "application/vnd.jupyter.widget-view+json": {
       "model_id": "782f69fd9877470ebcf20a37685635f8",
       "version_major": 2,
       "version_minor": 0
      },
      "text/plain": [
       "VBox(children=(Output(), RadioButtons(options=(('0', 0), ('3', 1), ('5', 2), ('6', 3), ('Error', 4)), value=0)…"
      ]
     },
     "metadata": {},
     "output_type": "display_data"
    },
    {
     "data": {
      "application/vnd.jupyter.widget-view+json": {
       "model_id": "3fb26a9cc6734aff861156e28c9ccc93",
       "version_major": 2,
       "version_minor": 0
      },
      "text/plain": [
       "VBox(children=(Output(), RadioButtons(options=(('0', 0), ('3', 1), ('5', 2), ('6', 3), ('Error', 4)), value=0)…"
      ]
     },
     "metadata": {},
     "output_type": "display_data"
    },
    {
     "data": {
      "application/vnd.jupyter.widget-view+json": {
       "model_id": "9b71634fbc2d45d992170de9541fbfb8",
       "version_major": 2,
       "version_minor": 0
      },
      "text/plain": [
       "VBox(children=(Output(), RadioButtons(options=(('0', 0), ('3', 1), ('5', 2), ('6', 3), ('Error', 4)), value=0)…"
      ]
     },
     "metadata": {},
     "output_type": "display_data"
    }
   ],
   "source": [
    "# JuPy Python Course by EAH Jena (www.eah-jena.de) is licensed under a \n",
    "# Creative Commons Attribution-NonCommercial-NoDerivatives 4.0 International License (http://creativecommons.org/licenses/by-nc-nd/4.0/).\n",
    "\n",
    "from questionsE import *\n",
    "\n",
    "Q1 = create_multipleChoice_widget_new(\"What is the output of the following code segment?\",'''i=0\n",
    "counter=0\n",
    "while i<=5:\n",
    "    counter=counter+1\n",
    "    i=i+1\n",
    "print(counter)''',['0','3','5','6','Error'],'6',0)\n",
    "\n",
    "Q2 = create_multipleChoice_widget_new(\"What is the output of the following code segment?\",'''i=1\n",
    "counter=0\n",
    "while i<=5:\n",
    "    counter+=1\n",
    "    i=i+1\n",
    "print(counter)''',['0','3','5','6','Error'],'5',0)\n",
    "\n",
    "Q3 = create_multipleChoice_widget_new(\"What is the output of the following code segment?\",'''i=0\n",
    "counter=0\n",
    "while i>0 and counter<5:\n",
    "    counter+=1\n",
    "    i=i+1\n",
    "print(counter)''',['0','3','5','6','Error'],'0',0)\n",
    "\n",
    "Q4 = create_multipleChoice_widget_new(\"What is the output of the following code segment?\",'''i=0\n",
    "counter=0\n",
    "while i<3 and counter<5:\n",
    "    counter=counter+i\n",
    "    i=i+1\n",
    "print(counter)''',['0','3','5','6','Error'],'3',0)\n",
    "\n",
    "Q5 = create_multipleChoice_widget_new(\"What is the output of the following code segment?\",'''i=0\n",
    "counter=0\n",
    "while i<3 or counter<5:\n",
    "    counter=counter+i\n",
    "    i=i+1\n",
    "print(counter)''',['0','3','5','6','Error'],'6',1)\n",
    "\n",
    "\n",
    "display(Q1)\n",
    "display(Q2)\n",
    "display(Q3)\n",
    "display(Q4)\n",
    "display(Q5)\n",
    "\n"
   ]
  },
  {
   "cell_type": "code",
   "execution_count": null,
   "metadata": {},
   "outputs": [],
   "source": []
  }
 ],
 "metadata": {
  "kernelspec": {
   "display_name": "Python 3 (ipykernel)",
   "language": "python",
   "name": "python3"
  },
  "language_info": {
   "codemirror_mode": {
    "name": "ipython",
    "version": 3
   },
   "file_extension": ".py",
   "mimetype": "text/x-python",
   "name": "python",
   "nbconvert_exporter": "python",
   "pygments_lexer": "ipython3",
   "version": "3.10.8"
  }
 },
 "nbformat": 4,
 "nbformat_minor": 4
}
