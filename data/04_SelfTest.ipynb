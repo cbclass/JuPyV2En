{
 "cells": [
  {
   "cell_type": "code",
   "execution_count": 1,
   "metadata": {},
   "outputs": [
    {
     "data": {
      "application/vnd.jupyter.widget-view+json": {
       "model_id": "5850fa9a2da047a7ab9fa605fa88391d",
       "version_major": 2,
       "version_minor": 0
      },
      "text/plain": [
       "VBox(children=(Output(), RadioButtons(options=(('1', 0), ('-1', 1), ('-2', 2), ('An error occurs', 3)), value=…"
      ]
     },
     "metadata": {},
     "output_type": "display_data"
    },
    {
     "data": {
      "application/vnd.jupyter.widget-view+json": {
       "model_id": "60ed323754b94de48f19b5ae66d33530",
       "version_major": 2,
       "version_minor": 0
      },
      "text/plain": [
       "VBox(children=(Output(), RadioButtons(options=(('-3', 0), ('1', 1), ('9', 2), ('True', 3)), value=0), Button(d…"
      ]
     },
     "metadata": {},
     "output_type": "display_data"
    },
    {
     "data": {
      "application/vnd.jupyter.widget-view+json": {
       "model_id": "4a9723c92b9b4a94a335a1959ca0b7f8",
       "version_major": 2,
       "version_minor": 0
      },
      "text/plain": [
       "VBox(children=(Output(), RadioButtons(options=(('0', 0), ('16', 1), ('32', 2), ('64', 3)), value=0), Button(de…"
      ]
     },
     "metadata": {},
     "output_type": "display_data"
    },
    {
     "data": {
      "application/vnd.jupyter.widget-view+json": {
       "model_id": "c9e004991c894e69bfdf620fed87a53c",
       "version_major": 2,
       "version_minor": 0
      },
      "text/plain": [
       "VBox(children=(Output(), RadioButtons(options=(('True', 0), ('true', 1), ('False', 2), ('false', 3), ('An erro…"
      ]
     },
     "metadata": {},
     "output_type": "display_data"
    },
    {
     "data": {
      "application/vnd.jupyter.widget-view+json": {
       "model_id": "27d9ffbac2b84f5fb0c8123a0a5e000c",
       "version_major": 2,
       "version_minor": 0
      },
      "text/plain": [
       "VBox(children=(Output(), RadioButtons(options=(('x > y but x < z', 0), ('x > y and y < z', 1), ('x > y and x <…"
      ]
     },
     "metadata": {},
     "output_type": "display_data"
    },
    {
     "data": {
      "application/vnd.jupyter.widget-view+json": {
       "model_id": "b26d29d88c664d70941005924dc970ed",
       "version_major": 2,
       "version_minor": 0
      },
      "text/plain": [
       "VBox(children=(Output(), RadioButtons(options=(('True', 0), ('False', 1), ('An error occurs', 2)), value=0), B…"
      ]
     },
     "metadata": {},
     "output_type": "display_data"
    }
   ],
   "source": [
    "from questionsE import *\n",
    "\n",
    "Q1 = create_multipleChoice_widget_new(\"Determine the output of the following code segment\",\n",
    "                                      \"x = 1\\nx = 1-2*2\\nx = x+1\\nprint(x)\",['1','-1', '-2', 'An error occurs'],'-2')\n",
    "Q2 = create_multipleChoice_widget_new(\"Determine the output of the following code segment\",\n",
    "                                      \"a = 17\\nb = 18\\nprint(a//10 + b%10)\",\n",
    "                                      ['-3','1','9','True'],'9')\n",
    "Q3 = create_multipleChoice_widget_new(\"Determine the output of the following code segment\",\n",
    "                                      \"a = 2\\nb = 1\\nprint(a**(b+a*2))\",\n",
    "                                      ['0','16','32','64'],'32')\n",
    "Q4 = create_multipleChoice_widget_new(\"Determine the output of the following code segment\",\n",
    "                                      'print(\"haLlo\" == \"hallo\")',['True','true', 'False', 'false', 'An error occurs'],'False')\n",
    "Q5 = create_multipleChoice_widget_new(\"Which Python expression expresses the following? <br>'x is greater than y but less than z'\",\"\",\n",
    "                                  ['x > y but x < z', 'x > y and y < z', 'x > y and x < z'],'x > y and x < z')\n",
    "Q6 = create_multipleChoice_widget_new(\"Determine the output of the following code segment\",\n",
    "                                      \"a = 10\\nb = '10'\\nprint(a == b)\",['True', 'False', 'An error occurs'],'False')\n",
    "\n",
    "\n",
    "\n",
    "display(Q1)\n",
    "display(Q2)\n",
    "display(Q3)\n",
    "display(Q4)\n",
    "display(Q5)\n",
    "display(Q6)"
   ]
  },
  {
   "cell_type": "code",
   "execution_count": null,
   "metadata": {},
   "outputs": [],
   "source": []
  }
 ],
 "metadata": {
  "kernelspec": {
   "display_name": "Python 3 (ipykernel)",
   "language": "python",
   "name": "python3"
  },
  "language_info": {
   "codemirror_mode": {
    "name": "ipython",
    "version": 3
   },
   "file_extension": ".py",
   "mimetype": "text/x-python",
   "name": "python",
   "nbconvert_exporter": "python",
   "pygments_lexer": "ipython3",
   "version": "3.9.7"
  },
  "toc-autonumbering": true,
  "toc-showcode": true
 },
 "nbformat": 4,
 "nbformat_minor": 4
}
