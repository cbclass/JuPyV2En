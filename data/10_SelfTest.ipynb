{
 "cells": [
  {
   "cell_type": "code",
   "execution_count": 5,
   "metadata": {},
   "outputs": [
    {
     "data": {
      "application/vnd.jupyter.widget-view+json": {
       "model_id": "952e0aa4ac8b48aa9f4216d3d722bc0a",
       "version_major": 2,
       "version_minor": 0
      },
      "text/plain": [
       "VBox(children=(Output(), RadioButtons(options=(('[0 3 6 9]', 0), ('[1 4 7 10]', 1), ('[0 3 6 9 12]', 2)), valu…"
      ]
     },
     "metadata": {},
     "output_type": "display_data"
    },
    {
     "data": {
      "application/vnd.jupyter.widget-view+json": {
       "model_id": "c92368541d564526b06f56733c0f1782",
       "version_major": 2,
       "version_minor": 0
      },
      "text/plain": [
       "VBox(children=(Output(), RadioButtons(options=(('[1 3 5]', 0), ('[1 2 3 4 5]', 1), ('[1.  1.5 2.  2.5 3. ]', 2…"
      ]
     },
     "metadata": {},
     "output_type": "display_data"
    },
    {
     "data": {
      "application/vnd.jupyter.widget-view+json": {
       "model_id": "21c2ebcd2b6c44719225e497aadae9e8",
       "version_major": 2,
       "version_minor": 0
      },
      "text/plain": [
       "VBox(children=(Output(), RadioButtons(options=(('3', 0), ('5', 1), ('9', 2), ('impossible', 3)), value=0), But…"
      ]
     },
     "metadata": {},
     "output_type": "display_data"
    },
    {
     "data": {
      "application/vnd.jupyter.widget-view+json": {
       "model_id": "3e3f862f029c445d98e64e545427a1a8",
       "version_major": 2,
       "version_minor": 0
      },
      "text/plain": [
       "VBox(children=(Output(), RadioButtons(options=(('np.arange()', 0), ('np.eye()', 1), ('np.zeros()', 2), ('np.li…"
      ]
     },
     "metadata": {},
     "output_type": "display_data"
    },
    {
     "data": {
      "application/vnd.jupyter.widget-view+json": {
       "model_id": "1856ab215cb2490bb9a1ade130a633d2",
       "version_major": 2,
       "version_minor": 0
      },
      "text/plain": [
       "VBox(children=(Output(), RadioButtons(options=(('1', 0), ('5', 1), ('7', 2), ('Error', 3)), value=0), Button(d…"
      ]
     },
     "metadata": {},
     "output_type": "display_data"
    },
    {
     "data": {
      "application/vnd.jupyter.widget-view+json": {
       "model_id": "bc5e7d7f02a94550ac145e50ee941a9a",
       "version_major": 2,
       "version_minor": 0
      },
      "text/plain": [
       "VBox(children=(Output(), RadioButtons(options=(('[2 3]', 0), ('[5 6]', 1), ('[7 8]', 2), ('[8 9]', 3), ('[4 5 …"
      ]
     },
     "metadata": {},
     "output_type": "display_data"
    }
   ],
   "source": [
    "from questionsE import *\n",
    "Q1 = create_multipleChoice_widget_new('''What ist the output of the following code segment?''',\n",
    "'''print(np.arange(0, 10, 3))''',['[0 3 6 9]','[1 4 7 10]','[0 3 6 9 12]'],'[0 3 6 9]')\n",
    "\n",
    "Q2 = create_multipleChoice_widget_new('''What ist the output of the following code segment?''',\n",
    "                                      '''print(np.linspace(1, 3, 5))''',\n",
    "                                      ['[1 3 5]','[1 2 3 4 5]','[1.  1.5 2.  2.5 3. ]','Error'],\n",
    "                                      '[1.  1.5 2.  2.5 3. ]')\n",
    "\n",
    "Q3 = create_multipleChoice_widget_new( '''What value must `x` have to produce a valid output?''', \n",
    "'''matrix1 = np.zeros(9, dtype = 'int')\n",
    "print(matrix1.reshape(1,x))\n",
    "''',['3','5','9','impossible'],'9')\n",
    "\n",
    "Q4 = create_multipleChoice_widget_new('''Which function of `numpy` can be used to easily create the identity matrix? ''','',\n",
    "                                           ['np.arange()','np.eye()','np.zeros()','np.linspace()'],'np.eye()')\n",
    "\n",
    "Q5 = create_multipleChoice_widget_new('''What ist the output of the following code segment?''', \n",
    "'''array = np.array([[4,5,6],\n",
    "                  [1,2,3],\n",
    "                  [7,8,9]])\n",
    "print(array[2,0])''',['1','5', '7', 'Error'],'7')\n",
    "\n",
    "Q6 = create_multipleChoice_widget_new('''What ist the output of the following code segment?''', \n",
    "'''array = np.array([[4,5,6],\n",
    "                  [1,2,3],\n",
    "                  [7,8,9]])\n",
    "print(array[1,1:])''',['[2 3]','[5 6]','[7 8]','[8 9]', '[4 5 6]','[7 8 9]'],'[2 3]')\n",
    "\n",
    "display(Q1)\n",
    "display(Q2)\n",
    "display(Q3)\n",
    "display(Q4)\n",
    "display(Q5)\n",
    "display(Q6)"
   ]
  },
  {
   "cell_type": "code",
   "execution_count": null,
   "metadata": {},
   "outputs": [],
   "source": []
  }
 ],
 "metadata": {
  "kernelspec": {
   "display_name": "Python 3 (ipykernel)",
   "language": "python",
   "name": "python3"
  },
  "language_info": {
   "codemirror_mode": {
    "name": "ipython",
    "version": 3
   },
   "file_extension": ".py",
   "mimetype": "text/x-python",
   "name": "python",
   "nbconvert_exporter": "python",
   "pygments_lexer": "ipython3",
   "version": "3.9.7"
  }
 },
 "nbformat": 4,
 "nbformat_minor": 4
}
