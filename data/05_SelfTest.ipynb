{
 "cells": [
  {
   "cell_type": "code",
   "execution_count": 1,
   "metadata": {},
   "outputs": [
    {
     "data": {
      "application/vnd.jupyter.widget-view+json": {
       "model_id": "443153e32c004130b84af987d33e5ea2",
       "version_major": 2,
       "version_minor": 0
      },
      "text/plain": [
       "VBox(children=(Output(), RadioButtons(options=(('1 1 2', 0), ('1 2 2', 1), ('1 2 1', 2), ('1 1 1', 3)), value=…"
      ]
     },
     "metadata": {},
     "output_type": "display_data"
    },
    {
     "data": {
      "application/vnd.jupyter.widget-view+json": {
       "model_id": "8e8d88a0bdcf46d8b471de07235e4900",
       "version_major": 2,
       "version_minor": 0
      },
      "text/plain": [
       "VBox(children=(Output(), RadioButtons(options=(('1 1 2', 0), ('1 2 2', 1), ('1 2 1', 2), ('1 1 1', 3)), value=…"
      ]
     },
     "metadata": {},
     "output_type": "display_data"
    },
    {
     "data": {
      "application/vnd.jupyter.widget-view+json": {
       "model_id": "6b83d18610804c46a2948734942d576c",
       "version_major": 2,
       "version_minor": 0
      },
      "text/plain": [
       "VBox(children=(Output(), RadioButtons(options=(('1 1 2', 0), ('1 2 2', 1), ('1 2 1', 2), ('1 1 1', 3)), value=…"
      ]
     },
     "metadata": {},
     "output_type": "display_data"
    },
    {
     "data": {
      "application/vnd.jupyter.widget-view+json": {
       "model_id": "70c3d6de71594c01b1979281c150aae2",
       "version_major": 2,
       "version_minor": 0
      },
      "text/plain": [
       "VBox(children=(Output(), RadioButtons(options=(('6 2 2', 0), ('1 2 5', 1), ('1 4 3', 2), ('1 6 3', 3)), value=…"
      ]
     },
     "metadata": {},
     "output_type": "display_data"
    },
    {
     "data": {
      "application/vnd.jupyter.widget-view+json": {
       "model_id": "c94dac12abd1486b9f9a91f28447eaf9",
       "version_major": 2,
       "version_minor": 0
      },
      "text/plain": [
       "VBox(children=(Output(), RadioButtons(options=(('1', 0), ('-1', 1), ('Fehler', 2)), value=0), Button(descripti…"
      ]
     },
     "metadata": {},
     "output_type": "display_data"
    },
    {
     "data": {
      "application/vnd.jupyter.widget-view+json": {
       "model_id": "e21e98c3fef34cac868bb3352224b128",
       "version_major": 2,
       "version_minor": 0
      },
      "text/plain": [
       "VBox(children=(Output(), RadioButtons(options=(('1', 0), ('2', 1), ('3', 2), ('4', 3)), value=0), Button(descr…"
      ]
     },
     "metadata": {},
     "output_type": "display_data"
    }
   ],
   "source": [
    "# JuPy Python Course by EAH Jena (www.eah-jena.de) is licensed under a \n",
    "# Creative Commons Attribution-NonCommercial-NoDerivatives 4.0 International License (http://creativecommons.org/licenses/by-nc-nd/4.0/).\n",
    "\n",
    "from questionsE import *\n",
    "\n",
    "\n",
    "Q1 = create_multipleChoice_widget_new('What is the output of the following code segment?',\n",
    "                                      'n = 1\\nk = 2\\nr = n\\nif k < n:\\n    r = k\\nprint(n,k,r)',['1 1 2','1 2 2','1 2 1','1 1 1'],'1 2 1',0)\n",
    "Q2 = create_multipleChoice_widget_new(\"What is the output of the following code segment?\", \n",
    " 'n = 1\\nk = 2\\nif n < k:\\n    r = k\\nelse:\\n    r = k+n\\nprint(n,k,r)',\n",
    " ['1 1 2','1 2 2','1 2 1','1 1 1'],'1 2 2',0)\n",
    "Q3 = create_multipleChoice_widget_new(\"What is the output of the following code segment?\", \n",
    " 'n = 1\\nk = 2\\nr = k\\nif r < k:\\n    n = r\\nelse:\\n    k = n\\nprint(n,k,r)',['1 1 2','1 2 2','1 2 1','1 1 1'],'1 1 2',0)\n",
    "Q4 = create_multipleChoice_widget_new(\"What is the output of the following code segment?\", \n",
    "'n = 1\\nk = 2\\nr = 3\\nif r < n+k:\\n    r = 2*n\\nelse:\\n    k = 2*r\\nprint(n,k,r)',\n",
    "                                      ['6 2 2','1 2 5','1 4 3','1 6 3'],'1 6 3',0)\n",
    "\n",
    "Q5 = create_multipleChoice_widget_new(\"What is the output of the following code segment?\", \n",
    " 'n = 1\\nm = -1\\nif n < -m:\\n    print(n)\\nelse:\\n    print(m)',['1','-1', 'Fehler'],'-1',0)\n",
    "\n",
    "Q6 = create_multipleChoice_widget_new(\"What is the output of the following code segment?\", \n",
    "'''a = 17\n",
    "if a < 10:\n",
    "    print(1)\n",
    "elif a < 20:\n",
    "    print(2)\n",
    "elif a == 17:\n",
    "    print(3)\n",
    "else:\n",
    "    print(4)''',['1','2','3','4'],'2',0)\n",
    "\n",
    "display(Q1)\n",
    "display(Q2)\n",
    "display(Q3)\n",
    "display(Q4)\n",
    "display(Q5)\n",
    "display(Q6)"
   ]
  },
  {
   "cell_type": "code",
   "execution_count": null,
   "metadata": {},
   "outputs": [],
   "source": []
  }
 ],
 "metadata": {
  "kernelspec": {
   "display_name": "Python 3 (ipykernel)",
   "language": "python",
   "name": "python3"
  },
  "language_info": {
   "codemirror_mode": {
    "name": "ipython",
    "version": 3
   },
   "file_extension": ".py",
   "mimetype": "text/x-python",
   "name": "python",
   "nbconvert_exporter": "python",
   "pygments_lexer": "ipython3",
   "version": "3.10.8"
  }
 },
 "nbformat": 4,
 "nbformat_minor": 4
}
