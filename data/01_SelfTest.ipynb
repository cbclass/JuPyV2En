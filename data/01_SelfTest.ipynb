{
 "cells": [
  {
   "cell_type": "code",
   "execution_count": 1,
   "metadata": {},
   "outputs": [
    {
     "data": {
      "application/vnd.jupyter.widget-view+json": {
       "model_id": "fcf6249b957e41a5b44d8075decd67db",
       "version_major": 2,
       "version_minor": 0
      },
      "text/plain": [
       "VBox(children=(Output(), RadioButtons(options=(('True', 0), ('False', 1)), value=0), Button(description='check…"
      ]
     },
     "metadata": {},
     "output_type": "display_data"
    },
    {
     "data": {
      "application/vnd.jupyter.widget-view+json": {
       "model_id": "cd6c1c55a1ae427daa8a2690da953359",
       "version_major": 2,
       "version_minor": 0
      },
      "text/plain": [
       "VBox(children=(Output(), RadioButtons(options=(('True', 0), ('False', 1)), value=0), Button(description='check…"
      ]
     },
     "metadata": {},
     "output_type": "display_data"
    },
    {
     "data": {
      "application/vnd.jupyter.widget-view+json": {
       "model_id": "8d10e7da6a3041adb6062ad8c7d4162c",
       "version_major": 2,
       "version_minor": 0
      },
      "text/plain": [
       "VBox(children=(Output(), RadioButtons(options=(('True', 0), ('False', 1)), value=0), Button(description='check…"
      ]
     },
     "metadata": {},
     "output_type": "display_data"
    },
    {
     "data": {
      "application/vnd.jupyter.widget-view+json": {
       "model_id": "8b5dcc3a764c45e59bbb2c3d2e31e969",
       "version_major": 2,
       "version_minor": 0
      },
      "text/plain": [
       "VBox(children=(Output(), RadioButtons(options=(('True', 0), ('False', 1)), value=0), Button(description='check…"
      ]
     },
     "metadata": {},
     "output_type": "display_data"
    },
    {
     "data": {
      "application/vnd.jupyter.widget-view+json": {
       "model_id": "0cbcf81e4d1a4af9bbe9f5751814c25a",
       "version_major": 2,
       "version_minor": 0
      },
      "text/plain": [
       "VBox(children=(Output(), RadioButtons(options=(('True', 0), ('False', 1)), value=0), Button(description='check…"
      ]
     },
     "metadata": {},
     "output_type": "display_data"
    },
    {
     "data": {
      "application/vnd.jupyter.widget-view+json": {
       "model_id": "9aab70b24ef9402380a18e25be40cab5",
       "version_major": 2,
       "version_minor": 0
      },
      "text/plain": [
       "VBox(children=(Output(), RadioButtons(options=(('True', 0), ('False', 1)), value=0), Button(description='check…"
      ]
     },
     "metadata": {},
     "output_type": "display_data"
    }
   ],
   "source": [
    "from questionsE import *\n",
    "\n",
    "\n",
    "Q1 = create_multipleChoice_widget_new(\"`one23` is a valid variable name.\",'',['True','False'],'True')\n",
    "Q2 = create_multipleChoice_widget_new(\"`1twothree` is a valid variable name.\",'',['True','False'],'False')\n",
    "Q3 = create_multipleChoice_widget_new('`False` is a valid variable name.','',['True','False'],'False')\n",
    "Q4 = create_multipleChoice_widget_new('`false` is a valid variable name.','',['True','False'],'True')\n",
    "Q5 = create_multipleChoice_widget_new('`_onetwothree` is a valid variable name.','',['True','False'],'True')\n",
    "Q6 = create_multipleChoice_widget_new('`one-two` is a valid variable name.','',['True','False'],'False')\n",
    "\n",
    "display(Q1)\n",
    "display(Q2)\n",
    "display(Q3)\n",
    "display(Q4)\n",
    "display(Q5)\n",
    "display(Q6)\n"
   ]
  },
  {
   "cell_type": "code",
   "execution_count": null,
   "metadata": {},
   "outputs": [],
   "source": []
  }
 ],
 "metadata": {
  "kernelspec": {
   "display_name": "Python 3 (ipykernel)",
   "language": "python",
   "name": "python3"
  },
  "language_info": {
   "codemirror_mode": {
    "name": "ipython",
    "version": 3
   },
   "file_extension": ".py",
   "mimetype": "text/x-python",
   "name": "python",
   "nbconvert_exporter": "python",
   "pygments_lexer": "ipython3",
   "version": "3.9.7"
  }
 },
 "nbformat": 4,
 "nbformat_minor": 4
}
