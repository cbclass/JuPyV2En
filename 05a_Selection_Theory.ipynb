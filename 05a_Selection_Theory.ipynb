{
 "cells": [
  {
   "cell_type": "markdown",
   "metadata": {},
   "source": [
    " <img src=\"./data/Lernfortschritt05.PNG\" width=\"1000\">\n",
    " \n",
    " &nbsp;&nbsp;&nbsp;&nbsp;&nbsp;&nbsp;&nbsp;&nbsp;&nbsp;&nbsp;&nbsp;&nbsp;&nbsp;&nbsp;&nbsp;&nbsp;&nbsp;&nbsp;&nbsp;&nbsp;&nbsp;&nbsp;&nbsp;&nbsp;&nbsp;&nbsp;&nbsp;&nbsp;&nbsp;&nbsp;&nbsp;&nbsp;&nbsp;&nbsp;&nbsp;&nbsp;&nbsp;&nbsp;&nbsp;&nbsp;&nbsp;&nbsp;&nbsp;&nbsp;&nbsp;&nbsp;&nbsp;&nbsp;&nbsp;&nbsp;&nbsp;&nbsp;&nbsp;&nbsp; [4. Operators](./04a_Operators_Theory.ipynb) &nbsp;&nbsp;&nbsp;&nbsp; 5. Selection &nbsp;&nbsp;&nbsp;&nbsp; [6. Iteration: `for` Loop](./06a_ForLoop_Theory.ipynb)\n",
    " \n",
    "[JuPy: Table of Contents](00_Introduction.ipynb#TOC)"
   ]
  },
  {
   "cell_type": "markdown",
   "metadata": {},
   "source": [
    "# 5. Selection: The `if` Statement"
   ]
  },
  {
   "cell_type": "markdown",
   "metadata": {},
   "source": [
    "## `if` and `else`: Testing a Condition"
   ]
  },
  {
   "cell_type": "markdown",
   "metadata": {},
   "source": [
    "The `if` statement is used to test conditions and execute specific statements in case the conditions are fulfilled or not. The following simple example illustrates the use of the `if` statement or **selection**.  "
   ]
  },
  {
   "cell_type": "code",
   "execution_count": null,
   "metadata": {},
   "outputs": [],
   "source": [
    "a = 5\n",
    "\n",
    "if a > 3:\n",
    "    print(\"a is greater than 3.\")\n",
    "else:\n",
    "    print(\"a is not greater than 3.\")"
   ]
  },
  {
   "cell_type": "markdown",
   "metadata": {},
   "source": [
    "The variable `a` is initialized with 5. The `if` statement tests, whether `a` is greater than 3 (`a > 3`). If this is the case, the following **indented** block is executed. If the condition is not fulfilled, i.e. `a` is not greater than 3, the excution continues with the `else` branch and the statements in the indented block following the `else` are executed. \n",
    "\n",
    "**Note:** It is not required to specify an `else` branch. \n",
    "\n",
    "Test above code with different values for `a` and observe its behavior. "
   ]
  },
  {
   "cell_type": "markdown",
   "metadata": {},
   "source": [
    "## `elif`: Testing Several Conditions Sequentially "
   ]
  },
  {
   "cell_type": "markdown",
   "metadata": {},
   "source": [
    "`elif` is used to test several conditions sequentially within one `if` statement. In the following code sample it is first tested, whether `a` is equal to 3 ( comparison operator `==`) using the `if`. If this condition is not fulfilled the next condition specified after the `elif` is tested. You may specify as many `elif` blocks as required. As soon as one condition (specified after `if` or `elif`) is fulfilled, the corresponding intended block is executed. If no condition is fulfilled, the `else` branch is executed (if it is specified). \n",
    "\n",
    "\n",
    "Please test below code with different values for `a`. "
   ]
  },
  {
   "cell_type": "code",
   "execution_count": null,
   "metadata": {},
   "outputs": [],
   "source": [
    "a = 6\n",
    "\n",
    "if a == 3:\n",
    "    print(\"a is equal to 3.\")\n",
    "    \n",
    "elif a == 4:\n",
    "    print(\"a is equal to  4.\")\n",
    "    \n",
    "elif a == 6:\n",
    "    print(\"a is equal to  6.\")\n",
    "    \n",
    "else:\n",
    "    print(\"a is neither 3, nor 4, nor 6.\")"
   ]
  },
  {
   "cell_type": "markdown",
   "metadata": {},
   "source": [
    "The following example depicts a slightly modified code. `a` is initialized with 3 and the first `elif` is changed to an `if`. \n",
    "What will be the output when below code is executed? Note down your guess on a paper **before** running the code. Did you make the right guess? "
   ]
  },
  {
   "cell_type": "code",
   "execution_count": null,
   "metadata": {},
   "outputs": [],
   "source": [
    "a = 3\n",
    "\n",
    "if a == 3:\n",
    "    print(\"a is equal to 3.\")\n",
    "    \n",
    "if a == 4:\n",
    "    print(\"a is equal to 4.\")\n",
    "    \n",
    "elif a == 6:\n",
    "    print(\"a is equal to 6.\")\n",
    "    \n",
    "else:\n",
    "    print(\"a is neither 3, nor 4, nor 6.\")"
   ]
  },
  {
   "cell_type": "markdown",
   "metadata": {},
   "source": [
    "The code correctly outputs \"a is equal to 3.\" But it equally outputs \"incorrectly\" that \"a is neither 3, nor 4, nor 6.\"\n",
    "This is due to the fact that each `if` starts a new statement.\n",
    "\n",
    "Above code example thus consists of two sequential `if` statements.  \n",
    "\n",
    "1. statement: Is `a` equal to 3? yes.\n",
    "       --> output: a is equal to 3.\n",
    "\n",
    "2. statement: Is `a` equal to 4? no.\n",
    "\n",
    "      Is `a` equal to 6? no.\n",
    "   \n",
    "      as no condition was fulfilled.\n",
    "       --> output: a is neither 3, nor 4, nor 6."
   ]
  },
  {
   "cell_type": "markdown",
   "metadata": {},
   "source": [
    "## Testing Several Conditions Simultaneously"
   ]
  },
  {
   "cell_type": "markdown",
   "metadata": {},
   "source": [
    "How can several conditions be tested for a variable without executing statements after the first condition is fulfilled? This can be achieved using the Boolean operators (see chapter [4. Operators](./04a_Operators_Theory.ipynb)), specifically the `and` operator. \n",
    "\n",
    "The following example tests whether `a` is less than 6 **and** at the same time greater than 2. "
   ]
  },
  {
   "cell_type": "code",
   "execution_count": null,
   "metadata": {},
   "outputs": [],
   "source": [
    "a = 3\n",
    "\n",
    "if a < 6 and a > 2:\n",
    "    print(\"a is less than 6 and greater than 2\")\n",
    "\n",
    "else:\n",
    "    print(\"a is not 'less than 6 and greater than 2'\")"
   ]
  },
  {
   "cell_type": "markdown",
   "metadata": {},
   "source": [
    "Given is the following code sample. Try to understand the code sample and guess the output for the inputs of 1, 5 and 6. Note your guess on a sheet of paper before running the code to check your guess. "
   ]
  },
  {
   "cell_type": "code",
   "execution_count": null,
   "metadata": {},
   "outputs": [],
   "source": [
    "a = 7\n",
    "\n",
    "b = int(input(\"Please enter a value between 1 and 10.\"))\n",
    "\n",
    "if b != a:\n",
    "    x = a + b\n",
    "    print(\"The sum is\",x)\n",
    "else:\n",
    "    x = 2*a\n",
    "    print(\"The sum is\",x)"
   ]
  },
  {
   "cell_type": "markdown",
   "metadata": {},
   "source": [
    "---\n",
    "###  Self test\n",
    "\n",
    "- The following questions aim at testing your knowledge of the chapter.\n",
    "- Please run the following cell and select the appropriate answer.\n",
    "- After correctly answering the questions you may continue with the exercises or the next topic. \n"
   ]
  },
  {
   "cell_type": "code",
   "execution_count": null,
   "metadata": {},
   "outputs": [],
   "source": [
    "%run data/05_SelfTest.ipynb"
   ]
  },
  {
   "cell_type": "markdown",
   "metadata": {},
   "source": [
    "\n",
    "---\n",
    "**Congratulations!** You finished this chapter.\n",
    "\n",
    "Link to the exercises of chapter 5: [A 5. Selection: Exercises](05b_Selection_Exercises.ipynb)"
   ]
  },
  {
   "cell_type": "markdown",
   "metadata": {
    "deletable": false,
    "editable": false,
    "tags": []
   },
   "source": [
    "<a rel=\"license\" href=\"http://creativecommons.org/licenses/by-nc-nd/4.0/\"><img alt=\"Creative Commons License\" style=\"border-width:0\" src=\"https://i.creativecommons.org/l/by-nc-nd/4.0/88x31.png\" /></a><br /><span xmlns:dct=\"http://purl.org/dc/terms/\" property=\"dct:title\">JuPy Python Course</span> by <span xmlns:cc=\"http://creativecommons.org/ns#\" property=\"cc:attributionName\">EAH Jena</span> is licensed under a <a rel=\"license\" href=\"http://creativecommons.org/licenses/by-nc-nd/4.0/\">Creative Commons Attribution-NonCommercial-NoDerivatives 4.0 International License</a>."
   ]
  }
 ],
 "metadata": {
  "kernelspec": {
   "display_name": "Python 3 (ipykernel)",
   "language": "python",
   "name": "python3"
  },
  "language_info": {
   "codemirror_mode": {
    "name": "ipython",
    "version": 3
   },
   "file_extension": ".py",
   "mimetype": "text/x-python",
   "name": "python",
   "nbconvert_exporter": "python",
   "pygments_lexer": "ipython3",
   "version": "3.10.13"
  }
 },
 "nbformat": 4,
 "nbformat_minor": 4
}
