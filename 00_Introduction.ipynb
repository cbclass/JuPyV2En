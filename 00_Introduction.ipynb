{
 "cells": [
  {
   "cell_type": "markdown",
   "metadata": {},
   "source": [
    "<img src=\"./data/Lernfortschritt00.PNG\" width=\"1000\">\n",
    "\n",
    "Introduction   &nbsp;&nbsp;&nbsp;&nbsp;  [1. Variables](01_Variables_Theory.ipynb)\n",
    "\n",
    "[JuPy: Table of Contents](00_Introduction.ipynb#TOC)"
   ]
  },
  {
   "cell_type": "markdown",
   "metadata": {},
   "source": [
    "# JuPy Python Tutorial Overview\n",
    "\n",
    "version 2, subversion 3: 22 April 2024"
   ]
  },
  {
   "cell_type": "markdown",
   "metadata": {},
   "source": [
    "Welcome to the **JuPy Python Tutorial**!</br>\n",
    "\n",
    "This tutorial is organized bottom-up and assumes no previous Python knowledge. \n",
    "\n",
    "In case you already know some Python or want to look up a specific topic, you can directly jump to specific chapters using the [Table of Contents](#TOC) below. Nevertheless, it is advisable to use the self test questions at the end of the chapters before skipping them.\n",
    "</br> "
   ]
  },
  {
   "cell_type": "markdown",
   "metadata": {},
   "source": [
    "<a id='TOC'></a>\n",
    "## Table of Contents\n",
    "1. [Variables](01_Variables_Theory.ipynb) \n",
    "2. [Numeric Data Types](02_NumericDataTypes_Theory.ipynb)\n",
    "3. [Input and Output](03a_InputOutput_Theory.ipynb)\n",
    "    - [Chapters 1-3: Exercises](03b_Basics_Exercises.ipynb)\n",
    "4. [Operators](04a_Operators_Theory.ipynb)\n",
    "    - [Operators: Exercises](04b_Operators_Exercises.ipynb)\n",
    "5. [Selection](05a_Selection_Theory.ipynb)\n",
    "    - [Selection: Exercises](05b_Selection_Exercises.ipynb)\n",
    "6. [Iteration ```for``` Loop](06a_ForLoop_Theory.ipynb)\n",
    "    - [```for``` Loop: Exercises](06b_ForLoop_Exercises.ipynb)\n",
    "7. [Iteration ```while```Loop](07a_WhileLoop_Theory.ipynb)\n",
    "    - [```while``` Loop: Exercises](07b_WhileLoop_Exercises.ipynb)\n",
    "8. [Functions](08a_Functions_Theory.ipynb)\n",
    "    - [Functions: Exercises](08b_Functions_Exercises.ipynb)\n",
    "9. [Sequential Data Types](09a_SeqDataTypes_Theory.ipynb)\n",
    "    - [Sequential Data Types: Exercises](09b_SeqDataTypes_Exercises.ipynb)\n",
    "10. [NumPy Arrays](10a_NumPy_Theory.ipynb)\n",
    "    - [Numpy Arrays: Exercises](10b_NumPy_Exercises.ipynb)\n",
    "11. [Plots](11a_Plots_Theory.ipynb)\n",
    "    - [Plots: Exercises](11b_Plots_Exercises.ipynb)\n",
    "12. [Outlook: Curve Fitting With SciPy](12_SciPy.ipynb)"
   ]
  },
  {
   "cell_type": "markdown",
   "metadata": {
    "deletable": false,
    "editable": false,
    "tags": []
   },
   "source": [
    "<a rel=\"license\" href=\"http://creativecommons.org/licenses/by-nc-nd/4.0/\"><img alt=\"Creative Commons License\" style=\"border-width:0\" src=\"https://i.creativecommons.org/l/by-nc-nd/4.0/88x31.png\" /></a><br /><span xmlns:dct=\"http://purl.org/dc/terms/\" property=\"dct:title\">JuPy Python Course</span> by <span xmlns:cc=\"http://creativecommons.org/ns#\" property=\"cc:attributionName\">EAH Jena</span> is licensed under a <a rel=\"license\" href=\"http://creativecommons.org/licenses/by-nc-nd/4.0/\">Creative Commons Attribution-NonCommercial-NoDerivatives 4.0 International License</a>."
   ]
  }
 ],
 "metadata": {
  "kernelspec": {
   "display_name": "Python 3 (ipykernel)",
   "language": "python",
   "name": "python3"
  },
  "language_info": {
   "codemirror_mode": {
    "name": "ipython",
    "version": 3
   },
   "file_extension": ".py",
   "mimetype": "text/x-python",
   "name": "python",
   "nbconvert_exporter": "python",
   "pygments_lexer": "ipython3",
   "version": "3.10.13"
  }
 },
 "nbformat": 4,
 "nbformat_minor": 4
}
