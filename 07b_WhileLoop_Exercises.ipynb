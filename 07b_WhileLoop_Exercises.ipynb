{
 "cells": [
  {
   "cell_type": "markdown",
   "metadata": {},
   "source": [
    "[JuPy: Table of Contents](00_Introduction.ipynb#TOC)\n",
    "\n",
    "# A 7. Iteration `while` Loop: Exercises "
   ]
  },
  {
   "cell_type": "markdown",
   "metadata": {},
   "source": [
    "---\n",
    "### Exercise 1: Integer Sequence\n",
    "Print the numbers from 0 to 21 with a step size of 3 ($0,3,\\ldots,21$). Use the `while` loop. "
   ]
  },
  {
   "cell_type": "code",
   "execution_count": null,
   "metadata": {},
   "outputs": [],
   "source": [
    "# your solution\n",
    "\n",
    "\n",
    "# end of your solution"
   ]
  },
  {
   "cell_type": "markdown",
   "metadata": {},
   "source": [
    "---\n",
    "### Exercise 2: Endless Loop\n",
    "\n",
    "Print the numbers from 0 to 20 (step size of 1) using an endless loop with `while`, an `if` and a `break` statement. "
   ]
  },
  {
   "cell_type": "code",
   "execution_count": null,
   "metadata": {},
   "outputs": [],
   "source": [
    "# your solution\n",
    "\n",
    "\n",
    "# end of your solution"
   ]
  },
  {
   "cell_type": "markdown",
   "metadata": {},
   "source": [
    "---\n",
    "### Exercise 3: User Input Using the `while` Loop"
   ]
  },
  {
   "cell_type": "markdown",
   "metadata": {},
   "source": [
    "Read text input from the user until he enters the word \"end\". "
   ]
  },
  {
   "cell_type": "code",
   "execution_count": null,
   "metadata": {},
   "outputs": [],
   "source": [
    "# your solution\n",
    "\n",
    "\n",
    "# end of your solution"
   ]
  },
  {
   "cell_type": "markdown",
   "metadata": {},
   "source": [
    "---\n",
    "### Exercise 4: Addition\n",
    "\n",
    "Implement code to add all numbers from 1 to 5 and store the sum in the variable `result`. Use a `while` loop. Output the result. "
   ]
  },
  {
   "cell_type": "code",
   "execution_count": null,
   "metadata": {},
   "outputs": [],
   "source": [
    "# your solution\n",
    "\n",
    "\n",
    "# end of your solution"
   ]
  },
  {
   "cell_type": "markdown",
   "metadata": {},
   "source": [
    "---\n",
    "### Exercise 5: Self Test\n",
    "Run the following cell and answer the question.\n"
   ]
  },
  {
   "cell_type": "code",
   "execution_count": null,
   "metadata": {},
   "outputs": [],
   "source": [
    "%run data/07b_SelfTest.ipynb"
   ]
  },
  {
   "cell_type": "markdown",
   "metadata": {},
   "source": [
    "# `while`Loop: Supplementary Exercises "
   ]
  },
  {
   "cell_type": "markdown",
   "metadata": {},
   "source": [
    "---\n",
    "### Suplementary Exercise 1: Aggregate State of Water "
   ]
  },
  {
   "cell_type": "markdown",
   "metadata": {},
   "source": [
    "#### Part A: Selection: Repetion\n",
    "\n",
    "Write a program that outputs the aggregate state of water after the user entered the temperature. Use an `if` statement and the following information:\n",
    "\n",
    "| | |\n",
    "| - | :-: |\n",
    "| __solid__ | `temperature <= 0` |\n",
    "| __liquid__ | `0 < temperature < 100` |\n",
    "| __gaseous__ | `temperature >= 100` |\n",
    "\n",
    "**Hint:** In case this exercise looks familiar:  [Selection: Exercise 1](05b_Selection_Exercises.ipynb#aggregateStateIf)."
   ]
  },
  {
   "cell_type": "code",
   "execution_count": null,
   "metadata": {},
   "outputs": [],
   "source": [
    "# your solution\n",
    "\n",
    "\n",
    "# end of your solution"
   ]
  },
  {
   "cell_type": "markdown",
   "metadata": {},
   "source": [
    "#### Part B\n",
    "\n",
    "Extend you program: use a `while` loop and ask the user after each output of the aggregate state whether (s)he wants to input another temperature. "
   ]
  },
  {
   "cell_type": "code",
   "execution_count": null,
   "metadata": {},
   "outputs": [],
   "source": [
    "# your solution\n",
    "\n",
    "\n",
    "# end of your solution"
   ]
  },
  {
   "cell_type": "markdown",
   "metadata": {
    "tags": []
   },
   "source": [
    "---\n",
    "### Suplementary Exercise 2: Thermometer\n",
    "\n",
    "Simulate a simple thermometer. The user enters values (the measurement values). As soon as the difference of two successive values is below a specified threshold (use a variable) the input is finished and the endtemperature is output. \n",
    "\n",
    "Example using the threshold 0.2: \n",
    "\n",
    "Input: 5,7,8,8.5,8.4 <br>\n",
    "Output: 8.4 as end temperature\n"
   ]
  },
  {
   "cell_type": "code",
   "execution_count": null,
   "metadata": {},
   "outputs": [],
   "source": [
    "# your solution\n",
    "\n",
    "\n",
    "# end of your solution"
   ]
  },
  {
   "cell_type": "markdown",
   "metadata": {},
   "source": [
    "\n",
    "---\n",
    "**Congratulations!**  You finished the supplementary exercises of this chapter.\n",
    "\n",
    "Link to the next chapter: [8. Functions](./08a_Functions_Theory.ipynb)"
   ]
  },
  {
   "cell_type": "markdown",
   "metadata": {
    "deletable": false,
    "editable": false,
    "tags": []
   },
   "source": [
    "<a rel=\"license\" href=\"http://creativecommons.org/licenses/by-nc-nd/4.0/\"><img alt=\"Creative Commons License\" style=\"border-width:0\" src=\"https://i.creativecommons.org/l/by-nc-nd/4.0/88x31.png\" /></a><br /><span xmlns:dct=\"http://purl.org/dc/terms/\" property=\"dct:title\">JuPy Python Course</span> by <span xmlns:cc=\"http://creativecommons.org/ns#\" property=\"cc:attributionName\">EAH Jena</span> is licensed under a <a rel=\"license\" href=\"http://creativecommons.org/licenses/by-nc-nd/4.0/\">Creative Commons Attribution-NonCommercial-NoDerivatives 4.0 International License</a>."
   ]
  }
 ],
 "metadata": {
  "kernelspec": {
   "display_name": "Python 3 (ipykernel)",
   "language": "python",
   "name": "python3"
  },
  "language_info": {
   "codemirror_mode": {
    "name": "ipython",
    "version": 3
   },
   "file_extension": ".py",
   "mimetype": "text/x-python",
   "name": "python",
   "nbconvert_exporter": "python",
   "pygments_lexer": "ipython3",
   "version": "3.10.8"
  }
 },
 "nbformat": 4,
 "nbformat_minor": 4
}
