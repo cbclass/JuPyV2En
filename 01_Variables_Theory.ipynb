{
 "cells": [
  {
   "cell_type": "markdown",
   "metadata": {},
   "source": [
    "<img src=\"data/Lernfortschritt01.PNG\" width=\"1000\" alt = \"progressbar\">\n",
    "\n",
    "&nbsp; 1. Variables   &nbsp;&nbsp;&nbsp;&nbsp;  [2. Numeric Data Types](./02_NumericDataTypes_Theory.ipynb)\n",
    "\n",
    "[JuPy: Table of Contents](00_Introduction.ipynb#TOC)"
   ]
  },
  {
   "cell_type": "markdown",
   "metadata": {},
   "source": [
    "# 1. Variables\n",
    "\n",
    "A **Variable** allows for storing and accessing a value using a name. The term variable indicates that the stored value can be modified, is variable. "
   ]
  },
  {
   "cell_type": "markdown",
   "metadata": {},
   "source": [
    "---\n",
    "### Example 1"
   ]
  },
  {
   "cell_type": "code",
   "execution_count": null,
   "metadata": {},
   "outputs": [],
   "source": [
    "x = 1\n",
    "y = 2"
   ]
  },
  {
   "cell_type": "markdown",
   "metadata": {},
   "source": [
    "In above example the value `1` is assigned to variable `x` und the value `2` to variable `y`. The assigned value must be placed at the right side of the **assignment operator**  `=`. The blanks before and after the operator `=` in above example were placed for stylistic reasons. They can be removed without changing the correctness or meaning of the Python code. "
   ]
  },
  {
   "cell_type": "markdown",
   "metadata": {},
   "source": [
    "---\n",
    "<a id='strings'></a>\n",
    "### Example 2\n",
    "\n",
    "The same assignment operator is used for **strings / character sequenses**: "
   ]
  },
  {
   "cell_type": "code",
   "execution_count": null,
   "metadata": {},
   "outputs": [],
   "source": [
    "z = \"Example\""
   ]
  },
  {
   "cell_type": "markdown",
   "metadata": {},
   "source": [
    "Note: Strings must always be put inside quotation marks that denote the beginning and end of the string: either `\"double quotation marks\"` or `'single quotation marks'`. The other quotation mark may be used inside the string. e.g. `\"His name is 'Peter'.\"`"
   ]
  },
  {
   "cell_type": "markdown",
   "metadata": {},
   "source": [
    "<a id='variableNames'></a>\n",
    "**Rules for Variable Names**\n",
    "\n",
    "The rules for **identifiers** including variable names are as follows: \"the uppercase and lowercase letters `A` through `Z`, the underscore `_` and, except for the first character, the digits `0` through `)`. [...] Identifiers are unlimited in length. Case is significant.\" (https://docs.python.org/3/reference/lexical_analysis.html#identifiers) \n",
    "\n",
    "Additionally some specific identifers (keyword) are reserved and may not be used as ordinary identifiers including variable names:  (https://docs.python.org/3/reference/lexical_analysis.html#keywords) "
   ]
  },
  {
   "cell_type": "markdown",
   "metadata": {},
   "source": [
    "`False`, `await`, `else`, `import`, `pass`, `None`, `break`, `except`, `in`, `raise`, `True`, `class`, `finally`, `is`, `return`, `and`, `continue`, `for`, `lambda`, `try`, `as`, `def`, `from`, `nonlocal`, `while`, `assert`, `del`, `global`, `not`, `with`, `async`, `elif`, `if`, `or`, `yield`\n",
    "    "
   ]
  },
  {
   "cell_type": "markdown",
   "metadata": {},
   "source": [
    "---\n",
    "### Example 3\n",
    "\n",
    "Some correct variable assignments:"
   ]
  },
  {
   "cell_type": "code",
   "execution_count": null,
   "metadata": {},
   "outputs": [],
   "source": [
    "xy = 3\n",
    "name = 'John Doe'\n",
    "myName = 'John'\n",
    "my_name = \"Doe\"\n",
    "x1 = 4\n",
    "y1 = 5"
   ]
  },
  {
   "cell_type": "markdown",
   "metadata": {},
   "source": [
    "---\n",
    "### Example 4\n",
    "\n",
    "Some incorrect variable assignments:"
   ]
  },
  {
   "cell_type": "code",
   "execution_count": null,
   "metadata": {},
   "outputs": [],
   "source": [
    "1x = 4"
   ]
  },
  {
   "cell_type": "code",
   "execution_count": null,
   "metadata": {},
   "outputs": [],
   "source": [
    "1 = 4"
   ]
  },
  {
   "cell_type": "code",
   "execution_count": null,
   "metadata": {},
   "outputs": [],
   "source": [
    "break = 4"
   ]
  },
  {
   "cell_type": "code",
   "execution_count": null,
   "metadata": {},
   "outputs": [],
   "source": [
    "4 = x"
   ]
  },
  {
   "cell_type": "markdown",
   "metadata": {},
   "source": [
    "---\n",
    "### Self test\n",
    "\n",
    "- The following questions aim at testing your knowledge of the chapter.\n",
    "- Please run the following cell and select the appropriate answer.\n",
    "- After correctly answering the questions you may continue with the exercises or the next topic. \n"
   ]
  },
  {
   "cell_type": "code",
   "execution_count": null,
   "metadata": {},
   "outputs": [],
   "source": [
    "%run data/01_SelfTest.ipynb"
   ]
  },
  {
   "cell_type": "markdown",
   "metadata": {},
   "source": [
    "\n",
    "---\n",
    "**Congratulations!** You finished this chapter.\n",
    "\n",
    "\n",
    "Link to the next chapter: [2. Numeric Data Types](02_NumericDataTypes_Theory.ipynb)"
   ]
  },
  {
   "cell_type": "markdown",
   "metadata": {
    "deletable": false,
    "editable": false
   },
   "source": [
    "<a rel=\"license\" href=\"http://creativecommons.org/licenses/by-nc-nd/4.0/\"><img alt=\"Creative Commons License\" style=\"border-width:0\" src=\"https://i.creativecommons.org/l/by-nc-nd/4.0/88x31.png\" /></a><br /><span xmlns:dct=\"http://purl.org/dc/terms/\" property=\"dct:title\">JuPy Python Course</span> by <span xmlns:cc=\"http://creativecommons.org/ns#\" property=\"cc:attributionName\">EAH Jena</span> is licensed under a <a rel=\"license\" href=\"http://creativecommons.org/licenses/by-nc-nd/4.0/\">Creative Commons Attribution-NonCommercial-NoDerivatives 4.0 International License</a>."
   ]
  }
 ],
 "metadata": {
  "editable": false,
  "kernelspec": {
   "display_name": "Python 3 (ipykernel)",
   "language": "python",
   "name": "python3"
  },
  "language_info": {
   "codemirror_mode": {
    "name": "ipython",
    "version": 3
   },
   "file_extension": ".py",
   "mimetype": "text/x-python",
   "name": "python",
   "nbconvert_exporter": "python",
   "pygments_lexer": "ipython3",
   "version": "3.10.13"
  }
 },
 "nbformat": 4,
 "nbformat_minor": 4
}
