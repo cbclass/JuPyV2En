{
 "cells": [
  {
   "cell_type": "markdown",
   "metadata": {},
   "source": [
    "[JuPy: Table of Contents](00_Introduction.ipynb#TOC)\n",
    "\n",
    "# A 4. Operators: Exercises"
   ]
  },
  {
   "cell_type": "markdown",
   "metadata": {},
   "source": [
    "### Exercise 1"
   ]
  },
  {
   "cell_type": "markdown",
   "metadata": {},
   "source": [
    "Write code to solve the following expressions and print the result. </br>\n",
    "* $ 10 \\cdot 5 $\n",
    "* $ 17 \\cdot 9,4 $\n",
    "* $ 3 + 18 $\n",
    "* $ 19 + 2,7 $\n",
    "* $ 34 - 57 $\n",
    "* $ 28,9 - 10,2 $\n",
    "* $ 49\\div14 $\n",
    "* $ 159\\div-14 $"
   ]
  },
  {
   "cell_type": "code",
   "execution_count": null,
   "metadata": {},
   "outputs": [],
   "source": [
    "# your solution\n",
    "\n",
    "\n",
    "# end of your solution"
   ]
  },
  {
   "cell_type": "markdown",
   "metadata": {},
   "source": [
    "---\n",
    "### Exercise 2"
   ]
  },
  {
   "cell_type": "markdown",
   "metadata": {},
   "source": [
    "Write Python code to calculate the pairwise exponentiation of the following numbers. </br>\n",
    "* $2$\n",
    "* $1.5$\n",
    "* $-3$"
   ]
  },
  {
   "cell_type": "code",
   "execution_count": null,
   "metadata": {},
   "outputs": [],
   "source": [
    "# your solution\n",
    "\n",
    "\n",
    "# end of your solution"
   ]
  },
  {
   "cell_type": "markdown",
   "metadata": {},
   "source": [
    "---\n",
    "### Exercise 3"
   ]
  },
  {
   "cell_type": "markdown",
   "metadata": {},
   "source": [
    "Print the result of the integer division as well as the remainder of the integer division for the following quotients.\n",
    "* $27\\div4$\n",
    "* $42\\div17$\n",
    "* $29\\div3$\n",
    "* $1120\\div35$\n",
    "* $12052\\div465$"
   ]
  },
  {
   "cell_type": "code",
   "execution_count": null,
   "metadata": {},
   "outputs": [],
   "source": [
    "# your solution\n",
    "\n",
    "\n",
    "# end of your solution"
   ]
  },
  {
   "cell_type": "markdown",
   "metadata": {},
   "source": [
    "---\n",
    "### Exercise 4"
   ]
  },
  {
   "cell_type": "markdown",
   "metadata": {},
   "source": [
    "Let the user input 2 integer values, calculate the sum of these two numbers and print the result. "
   ]
  },
  {
   "cell_type": "code",
   "execution_count": null,
   "metadata": {},
   "outputs": [],
   "source": [
    "# your solution\n",
    "\n",
    "\n",
    "# end of your solution"
   ]
  },
  {
   "cell_type": "markdown",
   "metadata": {},
   "source": [
    "---\n",
    "### Exercise 5"
   ]
  },
  {
   "cell_type": "markdown",
   "metadata": {},
   "source": [
    "Let the user input 4 floating point values. Calculate the mean / the average of these four values and output the result.  "
   ]
  },
  {
   "cell_type": "code",
   "execution_count": null,
   "metadata": {},
   "outputs": [],
   "source": [
    "# your solution\n",
    "\n",
    "\n",
    "# end of your solution"
   ]
  },
  {
   "cell_type": "markdown",
   "metadata": {},
   "source": [
    "---\n",
    "### Exercise 6"
   ]
  },
  {
   "cell_type": "markdown",
   "metadata": {},
   "source": [
    "Solve the equation  $x = 3\\cdot14-2^4$ and print the result."
   ]
  },
  {
   "cell_type": "code",
   "execution_count": null,
   "metadata": {},
   "outputs": [],
   "source": [
    "# your solution\n",
    "\n",
    "\n",
    "# end of your solution"
   ]
  },
  {
   "cell_type": "markdown",
   "metadata": {},
   "source": [
    "---\n",
    "### Exercise 7"
   ]
  },
  {
   "cell_type": "markdown",
   "metadata": {},
   "source": [
    "Use one operator to test whether the following two strings are equal. "
   ]
  },
  {
   "cell_type": "code",
   "execution_count": null,
   "metadata": {},
   "outputs": [],
   "source": [
    "a=\"GTCATGCGGTCTGACGCTGAAGTCTGCGGTCATGCGGTCTGACGCTGGAAGTCTGCGGTCATGCGGTCTGACGCTG\"\n",
    "b=\"GTCATGCGGTCTGACGCTGAAGTCTGCGGTCATGCGGTCTGACGCTGGAAGTCTGCGGTCATGCGGTCTGACGCTG\"\n",
    "\n",
    "# your solution\n",
    "\n",
    "\n",
    "# end of your solution"
   ]
  },
  {
   "cell_type": "markdown",
   "metadata": {},
   "source": [
    "---\n",
    "### Exercise 8"
   ]
  },
  {
   "cell_type": "markdown",
   "metadata": {},
   "source": [
    "Write code to test the following conditions for all of the given variables `a`, `b`, `c` and `d`: \n",
    "* greater than 7 or less than 2 \n",
    "* equal to 5 or greater than 9 \n",
    "* less than 7 and equal to 3\n",
    "* between 5 and 10 but not equal to 8 "
   ]
  },
  {
   "cell_type": "code",
   "execution_count": null,
   "metadata": {},
   "outputs": [],
   "source": [
    "a=3\n",
    "b=12\n",
    "c=7\n",
    "d=8\n",
    "\n",
    "# your solution\n",
    "\n",
    "\n",
    "# end of your solution"
   ]
  },
  {
   "cell_type": "markdown",
   "metadata": {},
   "source": [
    "---\n",
    "### Exercise 9"
   ]
  },
  {
   "cell_type": "markdown",
   "metadata": {},
   "source": [
    "Read the net price of a product from the user. Calculate the gross price including 19% VAT and output the result as a full informative sentence."
   ]
  },
  {
   "cell_type": "code",
   "execution_count": null,
   "metadata": {},
   "outputs": [],
   "source": [
    "# your solution\n",
    "\n",
    "\n",
    "# end of your solution"
   ]
  },
  {
   "cell_type": "markdown",
   "metadata": {},
   "source": [
    "---\n",
    "### Exercise 10"
   ]
  },
  {
   "cell_type": "markdown",
   "metadata": {},
   "source": [
    "Ask the user to input length, width and height of a cuboid. Calculate the volume, surface area and spacediagonal and print these values. "
   ]
  },
  {
   "cell_type": "code",
   "execution_count": null,
   "metadata": {},
   "outputs": [],
   "source": [
    "# your solution\n",
    "\n",
    "\n",
    "# end of your solution"
   ]
  },
  {
   "cell_type": "markdown",
   "metadata": {},
   "source": [
    "\n",
    "---\n",
    "**Congratulations!** You finished this chapter.\n",
    "\n",
    "Link to the next chapter: [5. Selection](05a_Selection_Theory.ipynb)"
   ]
  },
  {
   "cell_type": "markdown",
   "metadata": {
    "deletable": false,
    "editable": false,
    "tags": []
   },
   "source": [
    "<a rel=\"license\" href=\"http://creativecommons.org/licenses/by-nc-nd/4.0/\"><img alt=\"Creative Commons License\" style=\"border-width:0\" src=\"https://i.creativecommons.org/l/by-nc-nd/4.0/88x31.png\" /></a><br /><span xmlns:dct=\"http://purl.org/dc/terms/\" property=\"dct:title\">JuPy Python Course</span> by <span xmlns:cc=\"http://creativecommons.org/ns#\" property=\"cc:attributionName\">EAH Jena</span> is licensed under a <a rel=\"license\" href=\"http://creativecommons.org/licenses/by-nc-nd/4.0/\">Creative Commons Attribution-NonCommercial-NoDerivatives 4.0 International License</a>."
   ]
  }
 ],
 "metadata": {
  "kernelspec": {
   "display_name": "Python 3 (ipykernel)",
   "language": "python",
   "name": "python3"
  },
  "language_info": {
   "codemirror_mode": {
    "name": "ipython",
    "version": 3
   },
   "file_extension": ".py",
   "mimetype": "text/x-python",
   "name": "python",
   "nbconvert_exporter": "python",
   "pygments_lexer": "ipython3",
   "version": "3.10.8"
  }
 },
 "nbformat": 4,
 "nbformat_minor": 4
}
