{
 "cells": [
  {
   "cell_type": "markdown",
   "metadata": {},
   "source": [
    "<img src=\"data/Lernfortschritt04.PNG\" width=\"1000\">\n",
    "\n",
    "&nbsp;&nbsp;&nbsp;&nbsp;&nbsp;&nbsp;&nbsp;&nbsp;&nbsp;&nbsp;&nbsp;&nbsp;&nbsp;&nbsp;&nbsp;&nbsp;&nbsp;&nbsp;&nbsp;&nbsp;&nbsp;&nbsp;&nbsp;&nbsp;&nbsp;&nbsp;&nbsp;&nbsp;&nbsp;&nbsp;[3. Input and Output](./03a_InputOutput_Theory.ipynb) &nbsp;&nbsp;&nbsp;&nbsp; 4. Operators    &nbsp;&nbsp;&nbsp;&nbsp; [5. Selection](./05a_Selection_Theory.ipynb)\n",
    "\n",
    "[JuPy: Table of Contents](00_Introduction.ipynb#TOC)"
   ]
  },
  {
   "cell_type": "markdown",
   "metadata": {},
   "source": [
    "# 4. Operators"
   ]
  },
  {
   "cell_type": "markdown",
   "metadata": {},
   "source": [
    "In this chapter the [4.1 Mathematical Operators](#mathOperatoren), [4.2 Comparison Operators](#verglOperatoren) und [4.3 Boolean Operators](#logOperatoren) are introduced. "
   ]
  },
  {
   "cell_type": "markdown",
   "metadata": {
    "tags": []
   },
   "source": [
    "<a id='mathOperatoren'></a>\n",
    "## 4.1 Mathematical Operators\n",
    "The **mathematical operators** are used in Python to perform calculations. The following table displays the mathematical operators: \n",
    "\n",
    "| | |\n",
    "| - | :-: |\n",
    "| __basic arithmetic operators__ | `+ - * /` |\n",
    "| __exponentiation__ | `**` |\n",
    "| __integer division__ |`//` |\n",
    "| __remainder of `x/y`__ | `%` |\n"
   ]
  },
  {
   "cell_type": "markdown",
   "metadata": {},
   "source": [
    "---\n",
    "### Example 1: Basic Arithmetic Operators\n",
    "The basic arithmentic operators implement the sum, difference, product and quotient of two values. Execute the code in the following cell and check the results."
   ]
  },
  {
   "cell_type": "code",
   "execution_count": null,
   "metadata": {},
   "outputs": [],
   "source": [
    "print(3 + 4)\n",
    "print(3 - 4)\n",
    "print(3 * 4)\n",
    "print(3 / 4)"
   ]
  },
  {
   "cell_type": "markdown",
   "metadata": {},
   "source": [
    "---\n",
    "### Example 2: Exponentiation\n",
    "\n",
    "The exponentiation is denoted as:\n",
    "\n",
    "${base}^{exponent}$ \n",
    "\n",
    "The following example calculates $3^4$, i.e. calculates the result of $3$ (base) to the power of $4$ (exponent). \n",
    "\n",
    "Execute the following code and check the result.\n"
   ]
  },
  {
   "cell_type": "code",
   "execution_count": null,
   "metadata": {
    "tags": []
   },
   "outputs": [],
   "source": [
    "print(3**4)"
   ]
  },
  {
   "cell_type": "markdown",
   "metadata": {},
   "source": [
    "---\n",
    "<a id='Ü4.1.3'></a>\n",
    "### Example 3: Integer division\n",
    "The integer division is calculated using the `//` operator. It is defined as the floored quotient. Execute the following code sample and check the result.  "
   ]
  },
  {
   "cell_type": "code",
   "execution_count": null,
   "metadata": {},
   "outputs": [],
   "source": [
    "print(3//4)\n",
    "print(13//5)"
   ]
  },
  {
   "cell_type": "markdown",
   "metadata": {},
   "source": [
    "We can say that `//` tests, how often a given number fits in another number. The 4 does not fit in three, therefore `3//4` is 0. The 5 fits twice in 13 as $5\\cdot2 = 10$, therefore `13//5` is 2.  "
   ]
  },
  {
   "cell_type": "markdown",
   "metadata": {},
   "source": [
    "---\n",
    "### Example 4: Remainder\n",
    "The `%` operator determines the remainder of the integer division. \n",
    "Please execute the following cell and check the result as illustration. "
   ]
  },
  {
   "cell_type": "code",
   "execution_count": null,
   "metadata": {},
   "outputs": [],
   "source": [
    "print(3%4)\n",
    "print(13%5)"
   ]
  },
  {
   "cell_type": "markdown",
   "metadata": {},
   "source": [
    "As discussed in [Example 3](#Ü4.1.3)  4 does not fit in 3, therefore `3//4` is 0. This leaves the remainder of 3. \"3 divided by 4 is 0 with a remainder of 3\". When dividing 13 by 5 we get the floored quotient of 2 with a remainder of 3. \"13 divided by 5 is 2 with a remainder of 3\"."
   ]
  },
  {
   "cell_type": "markdown",
   "metadata": {},
   "source": [
    "---\n",
    "### Example 5: Augmented Assignment \n",
    "\n",
    "In code often assignemts are used that modify the value of a variable using an arithmentic operator. "
   ]
  },
  {
   "cell_type": "code",
   "execution_count": null,
   "metadata": {},
   "outputs": [],
   "source": [
    "x=5\n",
    "x=x+1\n",
    "print(x)\n",
    "x=x%4\n",
    "print(x)\n",
    "x=x*1.5\n",
    "print(x)\n",
    "x=x/2\n",
    "print(x)"
   ]
  },
  {
   "cell_type": "markdown",
   "metadata": {},
   "source": [
    "In this case the so-called **augmented assignment** can be used: `x?=a`\n",
    "\n",
    "`?` stands for an arithmetic operator. First the value of `x?a` is calculated and then this value is assigned to `x`.\n",
    "\n",
    "Execute the following code and compare the results with the ouput of the previous code segment. "
   ]
  },
  {
   "cell_type": "code",
   "execution_count": null,
   "metadata": {},
   "outputs": [],
   "source": [
    "x=5\n",
    "x+=1\n",
    "print(x)\n",
    "x%=4\n",
    "print(x)\n",
    "x*=1.5\n",
    "print(x)\n",
    "x/=2\n",
    "print(x)"
   ]
  },
  {
   "cell_type": "markdown",
   "metadata": {},
   "source": [
    "The augmented assignment ist defined for all arithmetic operators in this chapter:\n",
    "\n",
    "\n",
    "|augmented assignemt|assignment|\n",
    "|-------|--------|\n",
    "|`x+=a` | `x=x+a`|\n",
    "|`x-=a` | `x=x-a`|\n",
    "|`x*=a` | `x=x*a`|\n",
    "|`x/=a` | `x=x/a`|\n",
    "|`x**=a` | `x=x**a`|\n",
    "|`x//=a` | `x=x//a`|\n",
    "|`x%=a` | `x=x%a`|\n",
    "\n"
   ]
  },
  {
   "cell_type": "markdown",
   "metadata": {},
   "source": [
    "## Operator Precedence\n",
    "Operator **precedence** desrcibes the oder in which operators are evaluated. The precedence of arithmetic operators in Python is the same as in mathematics: :\n",
    "\n",
    "1. parenthesized expressions (using `(`and `)`)\n",
    "2. Exponentiation\n",
    "3. Multiplication and division calculation (`* /`)\n",
    "4. Addition and substraction calculation (`+ -`)\n",
    "\n",
    "Parenthesized expressions have the highest precedence and will thus be evaluated first, followed by exponentionen, etc.\n",
    "\n",
    "Operators with the same precedence will be evaluated from left to right with the exception of exponentiation, which is evaluated from right to left. \n",
    "\n",
    "The following examples illustrate operator precedence."
   ]
  },
  {
   "cell_type": "markdown",
   "metadata": {
    "tags": []
   },
   "source": [
    "---\n",
    "### Example 6: Operator Precedence\n",
    "In the first statement without parentheses, 3 is multiplied by and the result is added to 5. In the second statement, using parentheses, 5 is added to 3 and the result is then multiplied by 4. \n",
    "Please execute the following cell and check the result."
   ]
  },
  {
   "cell_type": "code",
   "execution_count": null,
   "metadata": {},
   "outputs": [],
   "source": [
    "print(5 + 3 * 4)\n",
    "print((5 + 3)*4)"
   ]
  },
  {
   "cell_type": "markdown",
   "metadata": {},
   "source": [
    "---\n",
    "### Example 7: Operator Precedence\n",
    "In the first statement without parentheses, 2 to the power of 3 is calculated and the result is multiplied by 3 ($2^3 \\cdot 3$). \n",
    "In the second statement, 2 to the power of 3 times 3 is calculated using parentheses ($2^{3 \\cdot 3}$). \n",
    "Please execute the following cell and check the result."
   ]
  },
  {
   "cell_type": "code",
   "execution_count": null,
   "metadata": {},
   "outputs": [],
   "source": [
    "print(2**3*3)\n",
    "print(2**(3*3))"
   ]
  },
  {
   "cell_type": "markdown",
   "metadata": {},
   "source": [
    "<a id='verglOperatoren'></a>\n",
    "## 4.2 Comparison Operators\n",
    "**Comparison operators** are used in Python to compare two values. The operator retuns `True` or `False`. The following table depicts the comparison operators. \n",
    "\n",
    "| | |\n",
    "| - | :-: |\n",
    "| __Equal__ | `==` |\n",
    "| __Not Equal__ | `!=` |\n",
    "| __Greater than__ | `>` |\n",
    "| __Greater than or equal__ |`>=` |\n",
    "| __Less than__ |`<` |\n",
    "| __Less than or equal__ |`<=` |\n"
   ]
  },
  {
   "cell_type": "markdown",
   "metadata": {},
   "source": [
    "---\n",
    "### Example 8: Comparison Operators\n",
    "The following examples illustrate the use of the comparision operator with concrete values.\n",
    "Please execute the following cell and check the results. "
   ]
  },
  {
   "cell_type": "code",
   "execution_count": null,
   "metadata": {},
   "outputs": [],
   "source": [
    "print(4/2 == 2)\n",
    "print(4/2 != 2)\n",
    "print(4/2 > 2)\n",
    "print(4/2 >= 2)\n",
    "print(4/2 < 2)\n",
    "print(4/2 <= 2)"
   ]
  },
  {
   "cell_type": "markdown",
   "metadata": {},
   "source": [
    "---\n",
    "### Example 9: Comparision of numeric variables\n",
    "Numeric variables can be equally compared. In this case the values are compared. "
   ]
  },
  {
   "cell_type": "code",
   "execution_count": null,
   "metadata": {},
   "outputs": [],
   "source": [
    "a = 4\n",
    "b = 3\n",
    "c = True\n",
    "print(a == b)\n",
    "print(a < b)\n",
    "print(a != c)\n",
    "print(b > c)"
   ]
  },
  {
   "cell_type": "markdown",
   "metadata": {},
   "source": [
    "---\n",
    "### Example 10: Comparison of Strings\n",
    "Strings and string variables can be equally compared. Please pay attention to upper and lower case letters **(case-sensitivity)** and blanks. "
   ]
  },
  {
   "cell_type": "code",
   "execution_count": null,
   "metadata": {},
   "outputs": [],
   "source": [
    "x = input(\"Please enter the string to be compared: \")\n",
    "x == \"hello world\""
   ]
  },
  {
   "cell_type": "markdown",
   "metadata": {},
   "source": [
    "**Information:**\n",
    "Please keep in mind that characters are compared based on their Unicode value. The Unicode value of a character can be retrieved using `ord(\"A\")`. Upper case \"A\" has the value 65, upper case \"B\" the value 66 and lower case \"a\" the value 97. Comparison of character strings in Python is thus not following the lexical order we are used to in e.g. dictionaries.   "
   ]
  },
  {
   "cell_type": "code",
   "execution_count": null,
   "metadata": {},
   "outputs": [],
   "source": [
    "print(\"abc\"<\"def\")\n",
    "print(\"abc\"<\"DEF\")"
   ]
  },
  {
   "cell_type": "markdown",
   "metadata": {},
   "source": [
    "---\n",
    "### Example 11: Comparison of Different Data Types\n",
    "The equality of values of different data types can be checked using `==` and `!=`. "
   ]
  },
  {
   "cell_type": "code",
   "execution_count": null,
   "metadata": {},
   "outputs": [],
   "source": [
    "a = \"3\"\n",
    "b = 3\n",
    "print(a == b)"
   ]
  },
  {
   "cell_type": "markdown",
   "metadata": {},
   "source": [
    "The comparison with respect to ordering, e.g. less than, is not defined for different data types and raises an error."
   ]
  },
  {
   "cell_type": "code",
   "execution_count": null,
   "metadata": {},
   "outputs": [],
   "source": [
    "a = \"3\"\n",
    "b = 3\n",
    "print(a < b)"
   ]
  },
  {
   "cell_type": "markdown",
   "metadata": {
    "tags": []
   },
   "source": [
    "<a id='logOperatoren'></a>\n",
    "## 4.3 Boolean Operators\n",
    "**Boolean operators** are used to negate a condition or to connect several conditions. The evaluation of Boolean operators always returns a Boolean value,  i.e. `True` or `False`.The following table depicts the Boolean operations of Python:  \n",
    "\n",
    "| | |\n",
    "| - | :-: |\n",
    "| __logical AND__ | `and` |\n",
    "| __logical OR__ | `or` |\n",
    "| __logical NOT__ | `not` |\n",
    "\n",
    "The following truth tables describe the evaluation of the Boolean operators.\n",
    "\n",
    "`and` is a binary operator. It is evaluated to `True` if both operands are `True` otherwise it is `False`.  \n",
    "\n",
    "\n",
    "| `x` | `y` | `x and y` |\n",
    "|---|---|---|\n",
    "| False | False | False |\n",
    "| False | True | False |\n",
    "| True | False | False |\n",
    "| True | True |**True** |\n",
    "\n",
    "\n",
    "`or` is a binary operator. It is evaluated to `False` if both operands are `False` otherwise it is `True`. \n",
    "\n",
    "\n",
    "\n",
    "| `x` | `y` | `x and y` |\n",
    "|---|---|---|\n",
    "| False | False | **False** |\n",
    "| False | True | True |\n",
    "| True | False | True |\n",
    "| True | True |True |\n",
    "\n",
    "\n",
    "`not` is a unary operator. It is evaluated to `False` if its operand is `True` and vice versa.  \n",
    "\n",
    "\n",
    "\n",
    "| `x` | `not x` |\n",
    "|---|---|\n",
    "| False | True | \n",
    "| True | False | \n",
    "\n",
    "\n",
    "The precedence of the Boolean operators is:\n",
    "\n",
    "1. parenthized expressions\n",
    "2. `not`\n",
    "3. `and`\n",
    "4. `or`\n",
    "\n",
    "The Boolean operators have a lower precedence than any Non-Boolean operators, i.e. `not a == b` is equal to `not(a == b)`. "
   ]
  },
  {
   "cell_type": "markdown",
   "metadata": {},
   "source": [
    "---\n",
    "### Example 12: Boolean Operators \n",
    "Execute the following code segment and compare the result with the truth tables above."
   ]
  },
  {
   "cell_type": "code",
   "execution_count": null,
   "metadata": {},
   "outputs": [],
   "source": [
    "print(False and True)\n",
    "print(True and True)\n",
    "print(False or True)\n",
    "print(True or True)\n",
    "print(not True)"
   ]
  },
  {
   "cell_type": "markdown",
   "metadata": {},
   "source": [
    "---\n",
    "### Example 13: Using Parenthesis for Better Readability\n",
    "Execute the following code segments and check the result. Add parenthesis to improve the readabiliy of the expressions."
   ]
  },
  {
   "cell_type": "code",
   "execution_count": null,
   "metadata": {},
   "outputs": [],
   "source": [
    "print(2 < 3 or 1 > 0)\n",
    "print(4 == 5 and 7 < 8)"
   ]
  },
  {
   "cell_type": "code",
   "execution_count": null,
   "metadata": {},
   "outputs": [],
   "source": [
    "x=1\n",
    "x=1-2*2\n",
    "x=x+1\n",
    "print(x)"
   ]
  },
  {
   "cell_type": "markdown",
   "metadata": {},
   "source": [
    "---\n",
    "### Example 14: Chained Comparisons"
   ]
  },
  {
   "cell_type": "markdown",
   "metadata": {},
   "source": [
    "In Python the expression `1 <= a <= 10` tests, whether the value of variable `a` is from the intervall `[1,10]`. This expression, a so called **Chained Comparison** is evaluated as expected. \n",
    "\n",
    "Please note that chained comparisons are not supported by all programming languages. Some languages, e.g. Java, do not except such expressions and generate a syntax error. In other languages, e.g. in C, chained comparisons are evaluated differently. In C the expression `1 <= a <= 10` is true for all possible values of `a`.\n",
    "\n",
    "Therefore it is recommended to replace `1 <= a <= 10` with an expression using two comparision and a Boolean operator. "
   ]
  },
  {
   "cell_type": "markdown",
   "metadata": {},
   "source": [
    "Test the following code for different values of `a`. "
   ]
  },
  {
   "cell_type": "code",
   "execution_count": null,
   "metadata": {},
   "outputs": [],
   "source": [
    "a=5\n",
    "print(1 <= a <= 10)\n",
    "print(1 <= a and a <= 10)"
   ]
  },
  {
   "cell_type": "markdown",
   "metadata": {},
   "source": [
    "---\n",
    "<a id='lernkontrolle'></a>\n",
    "## Self test\n",
    "\n",
    "- The following questions aim at testing your knowledge of the chapter.\n",
    "- Please run the following cell and select the appropriate answer.\n",
    "- After correctly answering the questions you may continue with the exercises or the next topic. "
   ]
  },
  {
   "cell_type": "code",
   "execution_count": null,
   "metadata": {},
   "outputs": [],
   "source": [
    "%run data/04_SelfTest.ipynb"
   ]
  },
  {
   "cell_type": "markdown",
   "metadata": {},
   "source": [
    "\n",
    "---\n",
    "**Congratulations!** You finished this chapter.\n",
    "\n",
    "Link to the exercises of chapter 4:\n",
    "[A 4. Operators: Exercises](04b_Operators_Exercises.ipynb)"
   ]
  },
  {
   "cell_type": "markdown",
   "metadata": {
    "deletable": false,
    "editable": false,
    "tags": []
   },
   "source": [
    "<a rel=\"license\" href=\"http://creativecommons.org/licenses/by-nc-nd/4.0/\"><img alt=\"Creative Commons License\" style=\"border-width:0\" src=\"https://i.creativecommons.org/l/by-nc-nd/4.0/88x31.png\" /></a><br /><span xmlns:dct=\"http://purl.org/dc/terms/\" property=\"dct:title\">JuPy Python Course</span> by <span xmlns:cc=\"http://creativecommons.org/ns#\" property=\"cc:attributionName\">EAH Jena</span> is licensed under a <a rel=\"license\" href=\"http://creativecommons.org/licenses/by-nc-nd/4.0/\">Creative Commons Attribution-NonCommercial-NoDerivatives 4.0 International License</a>."
   ]
  }
 ],
 "metadata": {
  "kernelspec": {
   "display_name": "Python 3 (ipykernel)",
   "language": "python",
   "name": "python3"
  },
  "language_info": {
   "codemirror_mode": {
    "name": "ipython",
    "version": 3
   },
   "file_extension": ".py",
   "mimetype": "text/x-python",
   "name": "python",
   "nbconvert_exporter": "python",
   "pygments_lexer": "ipython3",
   "version": "3.10.13"
  }
 },
 "nbformat": 4,
 "nbformat_minor": 4
}
