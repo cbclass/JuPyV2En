{
 "cells": [
  {
   "cell_type": "markdown",
   "metadata": {},
   "source": [
    "<img src=\"./data/Lernfortschritt02.PNG\" width=\"1000\">\n",
    "\n",
    "[1. Variables](./01_Variables_Theory.ipynb)   &nbsp;&nbsp;&nbsp;&nbsp;  2. Numeric Data Types  &nbsp;&nbsp;&nbsp;&nbsp;   [3. Input and Output](./03a_InputOutput_Theory.ipynb)\n",
    "\n",
    "[JuPy: Table of Contents](00_Introduction.ipynb#TOC)"
   ]
  },
  {
   "cell_type": "markdown",
   "metadata": {},
   "source": [
    "# 2. Numeric Data Types\n",
    "\n",
    "There are four different **Numeric Data Types** in Python:\n",
    "\n",
    "* `int` is the type for **integer numbers**, e.g. 1, 2, 10, 100, 505, 0, -1, -505\n",
    "* `float` is the type for **floating point numbers**, e.g. 1.1, 3.14, 9.9999, -0.789, -22.23 (**important:** in Python a point is used as a decimal separator, not a comma as in Germany)\n",
    "* `bool` is the type for **Boolean values**. A Boolean variable can only store two different values: `True` and `False`. Boolean values can be part of arithmetic expressions with `True` corresponding to 1 and `False` corresponding to 0. Numerical values can equally be intereted as Boolean values: 0 is interpreted as `False`, all other values as `True` \n",
    "* `complex` is the type for **complex numbers**, consisting of a real part and an imaginary part. In the context of this introductory course complex numbers are not relevant and will thus not be further looked at.\n",
    "\n",
    "It is not necessary to specify the data type when defining a value. The code `a = 1` defines a variable `a`. As `1` is an integer, Python automatically assigns the data type `int` to variable `a`. When a floating point value is assigned to `a` later in the code, e.g. `a=1.2`, the data type of `a` is set to `float`.\n",
    "\n",
    "In Python the range of numbers is not restricted by the language definition but by the memory. "
   ]
  },
  {
   "cell_type": "markdown",
   "metadata": {},
   "source": [
    "---\n",
    "### Example 1: Integer Variables\n",
    "Examples for the definition of **integer variables** (`int`):"
   ]
  },
  {
   "cell_type": "code",
   "execution_count": null,
   "metadata": {},
   "outputs": [],
   "source": [
    "a = 1 \n",
    "b = -505\n",
    "c = 86686318148080897626778381134791218653354543\n",
    "d = a            # variable d has the same value as variable a\n",
    "a = -23          # the value of variable a was changed and is now -23"
   ]
  },
  {
   "cell_type": "markdown",
   "metadata": {},
   "source": [
    "In Python `#` starts a **comment**. The comment starts with `#` and ends at the end of the lines. Comments are used to explain code segments for the human reader. Comments are ignored by Python. "
   ]
  },
  {
   "cell_type": "markdown",
   "metadata": {},
   "source": [
    "---\n",
    "### Example 2: Floating Point Variables\n",
    "Examples for the definition of **floating point variables** (`float`):"
   ]
  },
  {
   "cell_type": "code",
   "execution_count": null,
   "metadata": {},
   "outputs": [],
   "source": [
    "e1 = 1.1\n",
    "e2 = 1.\n",
    "e3 = .5\n",
    "f = -9.999999\n",
    "g = 2.3e3          # scientific notation: 2.3e3 = 2.3 * 10^3 = 2.3 * 1000 = 2300 "
   ]
  },
  {
   "cell_type": "markdown",
   "metadata": {},
   "source": [
    "---\n",
    "### Example 3: Boolean Variables\n",
    "Examples for the definition of **Boolean variables** (`bool`):"
   ]
  },
  {
   "cell_type": "code",
   "execution_count": null,
   "metadata": {},
   "outputs": [],
   "source": [
    "b1=True\n",
    "b2=False"
   ]
  },
  {
   "cell_type": "markdown",
   "metadata": {},
   "source": [
    "## Inspecting Data Type Information and Typecasting\n",
    "\n",
    "The function `type(x)` returns the data type of variable `x`. It can also be used to retrieve the data type of a numerical value. `isinstance(x,type)` checks, whether `x` is of data type `type` and returns `True` or `False`.\n",
    "\n",
    "`int()`, `bool()`, `float()`, and `complex()` can be used to produce values of a specific type (e.g. `int(5.55)`).\n"
   ]
  },
  {
   "cell_type": "markdown",
   "metadata": {},
   "source": [
    "---\n",
    "### Exercise 4: Retrieving Data Type Information\n",
    "Exceute the following codes samples to retrieve the data types of the numerical values."
   ]
  },
  {
   "cell_type": "code",
   "execution_count": null,
   "metadata": {},
   "outputs": [],
   "source": [
    "type(7)"
   ]
  },
  {
   "cell_type": "code",
   "execution_count": null,
   "metadata": {},
   "outputs": [],
   "source": [
    "type(7.)"
   ]
  },
  {
   "cell_type": "code",
   "execution_count": null,
   "metadata": {},
   "outputs": [],
   "source": [
    "type(0)"
   ]
  },
  {
   "cell_type": "code",
   "execution_count": null,
   "metadata": {},
   "outputs": [],
   "source": [
    "k = -0.65\n",
    "type(k)"
   ]
  },
  {
   "cell_type": "code",
   "execution_count": null,
   "metadata": {},
   "outputs": [],
   "source": [
    "l = 3e2\n",
    "isinstance(l,float)"
   ]
  },
  {
   "cell_type": "markdown",
   "metadata": {},
   "source": [
    "---\n",
    "### Exercise 5: Typecasting\n",
    "Execute the following codes samples, to type cast a value to a sepcific data type, store it into the variable and inspect the data type.  "
   ]
  },
  {
   "cell_type": "code",
   "execution_count": null,
   "metadata": {},
   "outputs": [],
   "source": [
    "m = float(1)\n",
    "type(m)"
   ]
  },
  {
   "cell_type": "code",
   "execution_count": null,
   "metadata": {},
   "outputs": [],
   "source": [
    "n = int(3.14)\n",
    "type(n)"
   ]
  },
  {
   "cell_type": "markdown",
   "metadata": {},
   "source": [
    "---\n",
    "### Self test\n",
    "\n",
    "- The following questions aim at testing your knowledge of the chapter.\n",
    "- Please run the following cell and select the appropriate answer.\n",
    "- After correctly answering the questions you may continue with the exercises or the next topic. \n"
   ]
  },
  {
   "cell_type": "code",
   "execution_count": null,
   "metadata": {},
   "outputs": [],
   "source": [
    "%run data/02_SelfTest.ipynb"
   ]
  },
  {
   "cell_type": "markdown",
   "metadata": {},
   "source": [
    "\n",
    "---\n",
    "**Congratulations!** You finished this chapter.\n",
    "\n",
    "Link to the next chapter: [3. Input and Output](03a_InputOutput_Theory.ipynb)"
   ]
  },
  {
   "cell_type": "markdown",
   "metadata": {
    "deletable": false,
    "editable": false,
    "tags": []
   },
   "source": [
    "<a rel=\"license\" href=\"http://creativecommons.org/licenses/by-nc-nd/4.0/\"><img alt=\"Creative Commons License\" style=\"border-width:0\" src=\"https://i.creativecommons.org/l/by-nc-nd/4.0/88x31.png\" /></a><br /><span xmlns:dct=\"http://purl.org/dc/terms/\" property=\"dct:title\">JuPy Python Course</span> by <span xmlns:cc=\"http://creativecommons.org/ns#\" property=\"cc:attributionName\">EAH Jena</span> is licensed under a <a rel=\"license\" href=\"http://creativecommons.org/licenses/by-nc-nd/4.0/\">Creative Commons Attribution-NonCommercial-NoDerivatives 4.0 International License</a>."
   ]
  }
 ],
 "metadata": {
  "kernelspec": {
   "display_name": "Python 3 (ipykernel)",
   "language": "python",
   "name": "python3"
  },
  "language_info": {
   "codemirror_mode": {
    "name": "ipython",
    "version": 3
   },
   "file_extension": ".py",
   "mimetype": "text/x-python",
   "name": "python",
   "nbconvert_exporter": "python",
   "pygments_lexer": "ipython3",
   "version": "3.10.13"
  }
 },
 "nbformat": 4,
 "nbformat_minor": 4
}
