{
 "cells": [
  {
   "cell_type": "markdown",
   "metadata": {},
   "source": [
    "[JuPy: Table of Contents](00_Introduction.ipynb#TOC)\n",
    "\n",
    "# A.5 Selection: Exercises"
   ]
  },
  {
   "cell_type": "markdown",
   "metadata": {},
   "source": [
    "<a id='aggregateStateIf'></a>\n",
    "### Exercise 1: Aggregate State\n",
    "A variable `temp`  (floating point value) is input by the user. It denotes the temperature of water. Use a selection (`if`, `elif`, `else`) to output the aggregate state of the water (temp$\\leq$0: solid, 0<temp<100: liquid, temp$\\geq$100: gaseous)."
   ]
  },
  {
   "cell_type": "code",
   "execution_count": null,
   "metadata": {},
   "outputs": [],
   "source": [
    "# your solution\n",
    "\n",
    "\n",
    "# end of your solution"
   ]
  },
  {
   "cell_type": "markdown",
   "metadata": {},
   "source": [
    "---\n",
    "### Exercise 2: Guess a Number\n",
    "#### Part A\n",
    "Let the user guess a number from 1 to 10. The computer will generate a random number out of $[1,10]$. Ask the user to input an integer value as a guess and compare it with the random number. Output whether the number was correctly guessed or whether the guess was greater or less than the random number. "
   ]
  },
  {
   "cell_type": "code",
   "execution_count": null,
   "metadata": {},
   "outputs": [],
   "source": [
    "# the module random offer functions to generate a radnom number\n",
    "import random as r\n",
    "\n",
    "# a pseudo random value from [1,10] is generated and assigned to  \n",
    "# the variable number \n",
    "number=r.randint(1,10)\n",
    "\n",
    "# your solution\n",
    "\n",
    "\n",
    "# end of your solution"
   ]
  },
  {
   "cell_type": "markdown",
   "metadata": {},
   "source": [
    "#### Part B\n",
    "Improve your code: test whether the user enters a value inside the interval $[1,10]$. If the value is outside the interval print a message on the screen. In this case, the entered value is not compared with `number`. "
   ]
  },
  {
   "cell_type": "code",
   "execution_count": null,
   "metadata": {},
   "outputs": [],
   "source": [
    "# the module random offer functions to generate a radnom number\n",
    "import random as r\n",
    "\n",
    "# a pseudo random value from [1,10] is generated and assigned to  \n",
    "# number \n",
    "number=r.randint(1,10)\n",
    "\n",
    "# your solution\n",
    "\n",
    "\n",
    "# end of your solution"
   ]
  },
  {
   "cell_type": "markdown",
   "metadata": {},
   "source": [
    "---\n",
    "### Exercise 3: FSK 12\n",
    "FSK stands for Freiwillige Selbstkontrolle, Self-Regulatory Body of the Movie Industry, and is a German motion picture rating system organization (source: https://en.wikipedia.org/wiki/Freiwillige_Selbstkontrolle_der_Filmwirtschaft). FSK 12 means that a movie is unsuitable for children under 12 without parental guidance.\n",
    "\n",
    "Implement code that ensures that children below 12 are not admitted to the movie without the presence of the parents. The code requests two user inputs: the age and the presence of parents (you may use an integer with values of 0 and 1 to encode this). Based on the input the code decides whether the child is admitted to the movie or not. Please output the decision. "
   ]
  },
  {
   "cell_type": "code",
   "execution_count": null,
   "metadata": {},
   "outputs": [],
   "source": [
    "fsk = 12\n",
    "# your solution\n",
    "\n",
    "\n",
    "# end of your solution"
   ]
  },
  {
   "cell_type": "markdown",
   "metadata": {},
   "source": [
    "---\n",
    "### Exercise 4: BMI\n",
    "The body mass index is calculated with the following formula:  $bmi = \\frac{m}{l^2}$ with $m$ the weight / body mass in kg and $l$ the height in m. Implement a BMI calculator. The user inputs height and weight and the program calculates the BMI. Output the BMI as well as the respective weight category (BMI < 18,5: underweight, 18,5 <= BMI <= 25: normal weight, BMI > 25: overweight).\n"
   ]
  },
  {
   "cell_type": "code",
   "execution_count": null,
   "metadata": {},
   "outputs": [],
   "source": [
    "# your solution\n",
    "\n",
    "\n",
    "# end of your solution"
   ]
  },
  {
   "cell_type": "markdown",
   "metadata": {},
   "source": [
    "---\n",
    "### Exercise 5: Professor Grumpy from Unfairtowm\n",
    "Professor Grumpy has a very special grading system: after grading an examination and determining the preliminary results he adds / subtracts points using the following additional checks:  \n",
    "\n",
    "- Haircut of the student: long +5 points, short -5 points\n",
    "- Handwirting of the student: nice +5 points, illegible -5 points\n",
    "- Does the student have tatoos? yes -10 points, no +10 points\n",
    "- How is the weather? good -10 points, bad +5 points\n",
    "- Did he drink beer during grading the examinations? yes +10 points, no -5 points\n",
    "\n",
    "Implement the additional checks for professor Grumpy. He enters the preliminary grade as well as answers to above questions. As each check has only two possiblities the input of the answers shall be simplified to 0 and 1. \n",
    "\n",
    "The examination has in total 100 points. \n",
    "\n",
    "Print the final grade as well as information, whether the examination was passed. The exam is passed if the student achieves at least 50 points.\n"
   ]
  },
  {
   "cell_type": "code",
   "execution_count": null,
   "metadata": {},
   "outputs": [],
   "source": [
    "# your solution\n",
    "\n",
    "\n",
    "# end of your solution"
   ]
  },
  {
   "cell_type": "markdown",
   "metadata": {},
   "source": [
    "### Supplementary Exercise \n",
    "If you are not yet tired you may extend your code and add error messages and end the code as soon as Prof. Grumpy enters a wrong value, i.e. the achieved points are not within $[0,100]$ and the answers to the checks are not 0 or 1. \n",
    "\n",
    "**Note:** This exercise requires many nested `if`-statements (`if` statements inside an `if`, `elif` or `else` block of another `if`-statement). Don't give up even if it takes some time. Afterwards you will surely have understood this chapter! :) "
   ]
  },
  {
   "cell_type": "code",
   "execution_count": null,
   "metadata": {},
   "outputs": [],
   "source": [
    "# your solution\n",
    "\n",
    "\n",
    "# end of your solution"
   ]
  },
  {
   "cell_type": "markdown",
   "metadata": {},
   "source": [
    "\n",
    "---\n",
    "**Congratulations!**  You finished this chapter.\n",
    "\n",
    "Link to the next chapter: [6. Iteration: For](06a_ForLoop_Theory.ipynb)"
   ]
  },
  {
   "cell_type": "markdown",
   "metadata": {
    "deletable": false,
    "editable": false,
    "tags": []
   },
   "source": [
    "<a rel=\"license\" href=\"http://creativecommons.org/licenses/by-nc-nd/4.0/\"><img alt=\"Creative Commons License\" style=\"border-width:0\" src=\"https://i.creativecommons.org/l/by-nc-nd/4.0/88x31.png\" /></a><br /><span xmlns:dct=\"http://purl.org/dc/terms/\" property=\"dct:title\">JuPy Python Course</span> by <span xmlns:cc=\"http://creativecommons.org/ns#\" property=\"cc:attributionName\">EAH Jena</span> is licensed under a <a rel=\"license\" href=\"http://creativecommons.org/licenses/by-nc-nd/4.0/\">Creative Commons Attribution-NonCommercial-NoDerivatives 4.0 International License</a>."
   ]
  }
 ],
 "metadata": {
  "kernelspec": {
   "display_name": "Python 3 (ipykernel)",
   "language": "python",
   "name": "python3"
  },
  "language_info": {
   "codemirror_mode": {
    "name": "ipython",
    "version": 3
   },
   "file_extension": ".py",
   "mimetype": "text/x-python",
   "name": "python",
   "nbconvert_exporter": "python",
   "pygments_lexer": "ipython3",
   "version": "3.10.8"
  }
 },
 "nbformat": 4,
 "nbformat_minor": 4
}
