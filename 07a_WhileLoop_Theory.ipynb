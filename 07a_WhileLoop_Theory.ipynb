{
 "cells": [
  {
   "cell_type": "markdown",
   "metadata": {},
   "source": [
    "<img src=\"./data/Lernfortschritt07.PNG\" width=\"1000\">\n",
    "\n",
    "&nbsp;&nbsp;&nbsp;&nbsp;&nbsp;&nbsp;&nbsp;&nbsp;&nbsp;&nbsp;&nbsp;&nbsp;&nbsp;&nbsp;&nbsp;&nbsp;&nbsp;&nbsp;&nbsp;&nbsp;&nbsp;&nbsp;&nbsp;&nbsp;&nbsp;&nbsp;&nbsp;&nbsp;&nbsp;&nbsp;&nbsp;&nbsp;&nbsp;&nbsp;&nbsp;&nbsp;&nbsp;[6. Iteration: `For` Loop](./06a_ForLoop_Theory.ipynb) &nbsp;&nbsp;&nbsp;&nbsp;  7. Iteration: `while` Loop   &nbsp;&nbsp;&nbsp;&nbsp;  [8. Functions](./08a_Functions_Theory.ipynb)\n",
    "\n",
    "[JuPy: Table of Contents](00_Introduction.ipynb#TOC)"
   ]
  },
  {
   "cell_type": "markdown",
   "metadata": {},
   "source": [
    "# 7. Iteration: `While` Loop"
   ]
  },
  {
   "cell_type": "markdown",
   "metadata": {},
   "source": [
    "The `while` loop is a top driven loop, i.e. the condition is tested before the statements of teh loop body are executed. \n",
    "\n",
    "Its syntax is the following:\n",
    "\n",
    "``` python\n",
    "while condition:\n",
    "    statements\n",
    "```"
   ]
  },
  {
   "cell_type": "markdown",
   "metadata": {},
   "source": [
    "The statements in the loop body are executed depending of a **condition**. After the execution is finished the condition is tested anew, ... The loop body is executed as long as the condition remains true. \n",
    "\n",
    "\n",
    "The **condition** can be defined using comparison and Boolean operators. \n",
    "\n",
    "**Important:** In order for the loop to end it must be guaranteed that the condition becomes false after a finite number of steps. Otherwiese there is an endless loop that can be left using the [`break`](#break) statement. \n"
   ]
  },
  {
   "cell_type": "markdown",
   "metadata": {},
   "source": [
    "The `while` loop can be depicted in a flow chart as follows: \n",
    "\n",
    "![while-loop-pap](data/loops.png)\n",
    "\n",
    "(The flow chart graphics was created using PapDesigner (http://friedrich-folkmann.de/papdesigner/Hauptseite.html).)"
   ]
  },
  {
   "cell_type": "markdown",
   "metadata": {},
   "source": [
    "---\n",
    "### Example 1: Integer Sequence\n",
    "The following code prints all values from 0 to 5. After the loop is finished it outputs `after the loop`. \n",
    "\n",
    "Execute the following code segment and check the output."
   ]
  },
  {
   "cell_type": "code",
   "execution_count": null,
   "metadata": {},
   "outputs": [],
   "source": [
    "value = 0\n",
    "while value <= 5:\n",
    "    print(value)\n",
    "    value = value + 1\n",
    "print('after the loop')"
   ]
  },
  {
   "cell_type": "markdown",
   "metadata": {},
   "source": [
    "What is part of the `while` loop? \n",
    "\n",
    "At first we need a **condition** that determines whether the **loop body** is executed, i.e. whether the iteration continues. In the example above this condition determines that `value` must be less or equal to 5, i.e. `value <= 5`. \n",
    "\n",
    "The loop is executed, that is the statements of the loop body (`print(value)` and `value=value+1`) are executed as long as the condition is fulfilled. \n",
    "\n",
    "If the condition is no longer fulfilled the execution of the prpogram continues with the first statement after the `while` loop, i.e. with `print('after the loop')`. "
   ]
  },
  {
   "cell_type": "markdown",
   "metadata": {},
   "source": [
    "In `while` loops very often the augmented assignment is used. "
   ]
  },
  {
   "cell_type": "code",
   "execution_count": null,
   "metadata": {},
   "outputs": [],
   "source": [
    "value = 0\n",
    "while value <= 5:\n",
    "    print(value)\n",
    "    value += 1\n",
    "print('after the loop')"
   ]
  },
  {
   "cell_type": "markdown",
   "metadata": {},
   "source": [
    "---\n",
    "### Example 2: Integer Sequence\n",
    "\n",
    "Integer sequences can be of varied forms. The following code prints $0,5,10,\\ldots,25,30$.\n",
    "\n",
    "Execute the code and test it."
   ]
  },
  {
   "cell_type": "code",
   "execution_count": null,
   "metadata": {},
   "outputs": [],
   "source": [
    "value=0\n",
    "while value <= 30:\n",
    "    print(value)\n",
    "    value = value + 5\n",
    "print('after the loop')"
   ]
  },
  {
   "cell_type": "markdown",
   "metadata": {},
   "source": [
    "Depending on the comparison operator used and and the position of the `print()` statement the first and last values of the output vary.\n",
    "\n",
    "Look at the following two code segments. What will be the output? Write down your guess and execute the code to check your guess."
   ]
  },
  {
   "cell_type": "code",
   "execution_count": null,
   "metadata": {},
   "outputs": [],
   "source": [
    "# Code Segment 1\n",
    "value = 0\n",
    "while value < 30:\n",
    "    print(value)\n",
    "    value = value + 5\n",
    "print('after the loop')"
   ]
  },
  {
   "cell_type": "code",
   "execution_count": null,
   "metadata": {},
   "outputs": [],
   "source": [
    "# Code Segment 2\n",
    "value = 0\n",
    "while value <= 30:\n",
    "    value = value + 5\n",
    "    print(value)\n",
    "print('after the loop')"
   ]
  },
  {
   "cell_type": "markdown",
   "metadata": {},
   "source": [
    "---\n",
    "### Example 3: `while` Loop for Data Input\n",
    "\n",
    "Loops can equally be used to make sure a user input fulfills specific conditions. The user input will thus be repeated as long as the specific condition is not yet fulfilled. \n",
    "\n",
    "In below example the user shall input the specific name `Peter`. If the user input differs, the user input is repeated. \n",
    "\n",
    "**Information:**\n",
    "\n",
    "In this example we have two conditions. One condition is application specific. The user shall input the name \"Peter\", i.e. the condition \"the name is 'Peter'\" shall be fulfilled.  \n",
    "\n",
    "The loop must therefore be repeated as long as the condition \"the name is 'Peter'\" is **not** fulfilled. In Python the `while` loop is executed as long as a condition is fulfilled. This is the condition of the program code. This condition states that the name is not \"Peter\", i.e. `name!='Peter'`. "
   ]
  },
  {
   "cell_type": "code",
   "execution_count": null,
   "metadata": {},
   "outputs": [],
   "source": [
    "name = input(\"Please input your name.\")\n",
    "\n",
    "while name != \"Peter\":\n",
    "    print(\"Access is only allowed for Peter.\")\n",
    "    name = input(\"Please input your name.\")\n",
    "\n",
    "print(\"Hallo Peter.\")"
   ]
  },
  {
   "cell_type": "markdown",
   "metadata": {},
   "source": [
    "---\n",
    "### Example 4: Endless Loop\n",
    "It is important to correctly indent the code of the loop body of a `while` loop.\n",
    "\n",
    "The following example illustrates what may happen if code is indented incorrectly: the first `print()` statement is part of the loop, whereas the new `input()` statement is not part of the loop due to its indention level. I.e. the second `input()` is executed after the loop, therefore `name` is not modified and remains different from Peter, if a different name was entered first. The loop will thus go on printing \"Access is only allowed for Peter.\". This can only be stopped by **interrupting the kernel**. Please click on the square in the toolbar to do so. \n",
    "\n",
    "Please test this by running below code. First enter \"Peter\". Then run the code again and start the **endless loop** by entering something different from \"Peter\". Please interrupt the kernel to stop execution and continue with the notebook.\n",
    "\n",
    "After interrupting the kernel you may clear the output by clicking on the code ell using the right mouse button and selecting \"Clear Outputs\". "
   ]
  },
  {
   "cell_type": "code",
   "execution_count": null,
   "metadata": {},
   "outputs": [],
   "source": [
    "name = input(\"Please input your name.\")\n",
    "\n",
    "while name != \"Peter\":\n",
    "    print(\"Access is only allowed for Peter.\")\n",
    "name = input(\"Please input your name.\")\n",
    "print(\"Hallo Peter.\")"
   ]
  },
  {
   "cell_type": "markdown",
   "metadata": {},
   "source": [
    "## `break`\n",
    "<a id='break'></a>"
   ]
  },
  {
   "cell_type": "markdown",
   "metadata": {},
   "source": [
    "The `break` statement stops the execution of the loop instantaneously. The program execution continues with the first statement after the loop. `break` is usually used when specific conditions are fulfilled, i.e. in combination with an `if` statement. \n",
    "\n",
    "---\n",
    "### Example 5: `break`\n",
    "The following example illustrates the use of break. \n",
    "\n",
    "The user inputs integer numbers. These values are added. As soon as a 0 is input the input is stopped and the sum is printed. The code uses an endless loop with `True` as well as an `if` statement with `break`. "
   ]
  },
  {
   "cell_type": "code",
   "execution_count": null,
   "metadata": {},
   "outputs": [],
   "source": [
    "result=0\n",
    "while True:\n",
    "    value=int(input(\"Please enter a number (End with 0):\"))\n",
    "    if value==0:\n",
    "        break\n",
    "    result=result+value\n",
    "print(result)"
   ]
  },
  {
   "cell_type": "markdown",
   "metadata": {},
   "source": [
    "---\n",
    "## Self Test\n",
    "\n",
    "- The following questions aim at testing your knowledge of the chapter.\n",
    "- Please run the following cell and select the appropriate answer.\n",
    "- After correctly answering the questions you may continue with the exercises or the next topic. "
   ]
  },
  {
   "cell_type": "code",
   "execution_count": null,
   "metadata": {},
   "outputs": [],
   "source": [
    "%run data/07_SelfTest.ipynb"
   ]
  },
  {
   "cell_type": "markdown",
   "metadata": {},
   "source": [
    "\n",
    "---\n",
    "**Congratulations!** You finished this chapter.\n",
    "\n",
    "Link to the exercises of chapter 7: [A 7. Iteration: `while` Loop: Exercises](07b_WhileLoop_Exercises.ipynb)"
   ]
  },
  {
   "cell_type": "markdown",
   "metadata": {
    "deletable": false,
    "editable": false,
    "tags": []
   },
   "source": [
    "<a rel=\"license\" href=\"http://creativecommons.org/licenses/by-nc-nd/4.0/\"><img alt=\"Creative Commons License\" style=\"border-width:0\" src=\"https://i.creativecommons.org/l/by-nc-nd/4.0/88x31.png\" /></a><br /><span xmlns:dct=\"http://purl.org/dc/terms/\" property=\"dct:title\">JuPy Python Course</span> by <span xmlns:cc=\"http://creativecommons.org/ns#\" property=\"cc:attributionName\">EAH Jena</span> is licensed under a <a rel=\"license\" href=\"http://creativecommons.org/licenses/by-nc-nd/4.0/\">Creative Commons Attribution-NonCommercial-NoDerivatives 4.0 International License</a>."
   ]
  }
 ],
 "metadata": {
  "kernelspec": {
   "display_name": "Python 3 (ipykernel)",
   "language": "python",
   "name": "python3"
  },
  "language_info": {
   "codemirror_mode": {
    "name": "ipython",
    "version": 3
   },
   "file_extension": ".py",
   "mimetype": "text/x-python",
   "name": "python",
   "nbconvert_exporter": "python",
   "pygments_lexer": "ipython3",
   "version": "3.10.13"
  }
 },
 "nbformat": 4,
 "nbformat_minor": 4
}
