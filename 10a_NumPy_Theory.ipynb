{
 "cells": [
  {
   "cell_type": "markdown",
   "metadata": {},
   "source": [
    "<img src=\"./data/Lernfortschritt10.PNG\" width=\"1000\">\n",
    "\n",
    "&nbsp;&nbsp;&nbsp;&nbsp;&nbsp;&nbsp;&nbsp;&nbsp;&nbsp;&nbsp;&nbsp;&nbsp;&nbsp;&nbsp;&nbsp;&nbsp;&nbsp;&nbsp;&nbsp;&nbsp;&nbsp;&nbsp;&nbsp;&nbsp;&nbsp;&nbsp;&nbsp;&nbsp;&nbsp;&nbsp;&nbsp;&nbsp;&nbsp;&nbsp;&nbsp;&nbsp;&nbsp;&nbsp;&nbsp;&nbsp;&nbsp;&nbsp;&nbsp;&nbsp;&nbsp;&nbsp;&nbsp;&nbsp;&nbsp;&nbsp;&nbsp;&nbsp;&nbsp;&nbsp;&nbsp;&nbsp;&nbsp;&nbsp;&nbsp;&nbsp;&nbsp;&nbsp;&nbsp;&nbsp;&nbsp;&nbsp;&nbsp;&nbsp;&nbsp;&nbsp;&nbsp;&nbsp;&nbsp;&nbsp;&nbsp;&nbsp;&nbsp;&nbsp;&nbsp;&nbsp;&nbsp;&nbsp;&nbsp;&nbsp;&nbsp;&nbsp;&nbsp;&nbsp;&nbsp;&nbsp;&nbsp;&nbsp;&nbsp;&nbsp;&nbsp;&nbsp;&nbsp;&nbsp;&nbsp;&nbsp;&nbsp;&nbsp;&nbsp;&nbsp;&nbsp;&nbsp;&nbsp;&nbsp;&nbsp;&nbsp;&nbsp;&nbsp;&nbsp;&nbsp;&nbsp;&nbsp;&nbsp;&nbsp;&nbsp;&nbsp;&nbsp;&nbsp;[9. Sequential Data Types](./09a_SeqDataTypes_Theory.ipynb) &nbsp;&nbsp;&nbsp;&nbsp;  10. NumPy Arrays   &nbsp;&nbsp;&nbsp;&nbsp;  [11. Plots](./11a_Plots_Theory.ipynb)\n",
    "\n",
    "[JuPy: Table of Contents](00_Introduction.ipynb#TOC)"
   ]
  },
  {
   "cell_type": "markdown",
   "metadata": {},
   "source": [
    "# 10. NumPy - Using Arrays"
   ]
  },
  {
   "cell_type": "markdown",
   "metadata": {},
   "source": [
    "The library NumPy (`numpy`) provides numerous possibilities to use vectors and matrices. In this tutorial we will only give a very short introduction. "
   ]
  },
  {
   "cell_type": "markdown",
   "metadata": {},
   "source": [
    "### Importing the Library"
   ]
  },
  {
   "cell_type": "markdown",
   "metadata": {},
   "source": [
    "In order to use NumPy the library must be imported. A common statement is `import numpy as np` which allows to access `numpy` using the identifier `np`, i.e. constants and functions can be accessed using  `np.identifier`.\n",
    "\n",
    "**Hint:** The following cell must be executed before any other cell in this chapter.  "
   ]
  },
  {
   "cell_type": "code",
   "execution_count": null,
   "metadata": {},
   "outputs": [],
   "source": [
    "import numpy as np"
   ]
  },
  {
   "cell_type": "markdown",
   "metadata": {},
   "source": [
    "---\n",
    "### Example 1: Creating an Array From a List"
   ]
  },
  {
   "cell_type": "markdown",
   "metadata": {},
   "source": [
    "In the following code sample a list with the values from 1 to 10 is defined. Then a `numpy` array `array1` is created with these list values using the function `array()`."
   ]
  },
  {
   "cell_type": "code",
   "execution_count": null,
   "metadata": {},
   "outputs": [],
   "source": [
    "theList = [1,2,3,4,5,6,7,8,9,10]\n",
    "\n",
    "array1 = np.array(theList)\n",
    "print(array1, type(array1))"
   ]
  },
  {
   "cell_type": "markdown",
   "metadata": {},
   "source": [
    "The resulting data type is `ndarray`. In our case it is a one-dimensional array, a vector. We can use this array in calculations and use mathematical operations. Take a look at below lines of code. What will be the output? Make a guess and note it on paper before removing the comments and checking your guess. "
   ]
  },
  {
   "cell_type": "code",
   "execution_count": null,
   "metadata": {},
   "outputs": [],
   "source": [
    "# print('array1+2:',array1+2)\n",
    "# print('array1-2:',array1-2)\n",
    "# print('array1*2:',array1*2)\n",
    "# print('array1/2:',array1/2)"
   ]
  },
  {
   "cell_type": "markdown",
   "metadata": {},
   "source": [
    "Arithmetic and comparison operations on `numpy` arrays are defined as element-wise operations."
   ]
  },
  {
   "cell_type": "markdown",
   "metadata": {},
   "source": [
    "**Hint:** Please note that the size of `numpy` arrays cannot be modified. Values can be modified but the size of an array is determined at its generation and immutable. The data type of arrays is equally determined at generation time. "
   ]
  },
  {
   "cell_type": "code",
   "execution_count": null,
   "metadata": {},
   "outputs": [],
   "source": [
    "theArray=np.array([2,3,4,5,6,7,8])\n",
    "print(theArray)\n",
    "theArray[0]=theArray[0]/2\n",
    "print(theArray)\n",
    "theArray[1]=theArray[1]/2\n",
    "print(theArray)"
   ]
  },
  {
   "cell_type": "markdown",
   "metadata": {},
   "source": [
    "---\n",
    "### Example 2: Creating Specific Vectors"
   ]
  },
  {
   "cell_type": "markdown",
   "metadata": {},
   "source": [
    "`numpy` provides numerous useful functions. Selected functions are presented in this tutorial. "
   ]
  },
  {
   "cell_type": "markdown",
   "metadata": {},
   "source": [
    "The `arange()` function is used to create one-dimensional arrays with a number sequence from a specified interval. e.g  $[0,20)$ (a half-open interval includig 0 and excluding 20) and a specified step size. If no step size is specified it defaults to one. "
   ]
  },
  {
   "cell_type": "code",
   "execution_count": null,
   "metadata": {},
   "outputs": [],
   "source": [
    "lower = 0\n",
    "upper = 20\n",
    "stepsize = 3\n",
    "print(np.arange(lower, upper, stepsize))"
   ]
  },
  {
   "cell_type": "markdown",
   "metadata": {},
   "source": [
    "The function `linspace()` creates arrays with equidistant values from a closed interval. \n",
    "<a id='linspace'></a>"
   ]
  },
  {
   "cell_type": "code",
   "execution_count": null,
   "metadata": {},
   "outputs": [],
   "source": [
    "start = 0\n",
    "end = 20\n",
    "print(np.linspace(start, end, end+1))"
   ]
  },
  {
   "cell_type": "markdown",
   "metadata": {},
   "source": [
    "The third parameter `end+1` denotes the number of values to be created from the interval. In order to generate values with a step size of one, the number of values must be determined by $u-l+1$ where $u$ is the upper endpoint and $l$ the lower endpoint of the interval. "
   ]
  },
  {
   "cell_type": "markdown",
   "metadata": {},
   "source": [
    "---\n",
    "### Example 3: Using `linspace()` for Plots"
   ]
  },
  {
   "cell_type": "markdown",
   "metadata": {},
   "source": [
    "`linspace()` is often used to create $x$ values for plots. Plots are introduced in chapter [11. Plots](11a_Plots_Theory.ipynb)."
   ]
  },
  {
   "cell_type": "code",
   "execution_count": null,
   "metadata": {},
   "outputs": [],
   "source": [
    "import matplotlib.pyplot as plt\n",
    "Y = [5,10,33,4]\n",
    "X = np.linspace(0,len(Y),len(Y))\n",
    "plt.plot(X,Y,'*')\n",
    "plt.show()"
   ]
  },
  {
   "cell_type": "markdown",
   "metadata": {},
   "source": [
    "Take a look at above code to generate the `X` array. Why did we not add 1 as discussed above? What is the interval for the $x$ values? "
   ]
  },
  {
   "cell_type": "markdown",
   "metadata": {},
   "source": [
    "---\n",
    "### Example 4: Creating Matrices"
   ]
  },
  {
   "cell_type": "markdown",
   "metadata": {},
   "source": [
    "Using `numpy` methods $n \\times n$ matrices can be equally generated. \n",
    "\n",
    "The following examples illustrate the creation of the identity matrix and a matrix filled with zeros. It is equally illustrated how the shape of a matrix can be modified. \n",
    "\n",
    "\n",
    "**Hint**: Please check out the documentation (https://numpy.org/doc/stable/reference/routines.array-creation.html) of the functions and their parameters to be able to use them in the future.\n",
    "\n",
    "The following example creates the identity matrix with integer values."
   ]
  },
  {
   "cell_type": "code",
   "execution_count": null,
   "metadata": {},
   "outputs": [],
   "source": [
    "identityMatrix = np.eye(5, dtype = 'int')\n",
    "print(identityMatrix)"
   ]
  },
  {
   "cell_type": "markdown",
   "metadata": {},
   "source": [
    "Without the type specification (`dtype='int'`) a matrix with `float` values is created."
   ]
  },
  {
   "cell_type": "code",
   "execution_count": null,
   "metadata": {},
   "outputs": [],
   "source": [
    "matrixWithZeros = np.zeros((10,2))\n",
    "print(matrixWithZeros)"
   ]
  },
  {
   "cell_type": "markdown",
   "metadata": {},
   "source": [
    "The shape of the matrix is modified using `reshape()`. "
   ]
  },
  {
   "cell_type": "code",
   "execution_count": null,
   "metadata": {},
   "outputs": [],
   "source": [
    "print(matrixWithZeros.reshape(2,10))"
   ]
  },
  {
   "cell_type": "code",
   "execution_count": null,
   "metadata": {},
   "outputs": [],
   "source": [
    "print(matrixWithZeros.reshape(4,5))"
   ]
  },
  {
   "cell_type": "markdown",
   "metadata": {},
   "source": [
    "---\n",
    "### Example 5: Indexing"
   ]
  },
  {
   "cell_type": "markdown",
   "metadata": {},
   "source": [
    "The direct access to elements of the array is similar to sequential data types. The first element has the index 0.\n",
    "\n",
    "Individual elements of a one-dimensional array are accessed like elements of sequential data types. "
   ]
  },
  {
   "cell_type": "code",
   "execution_count": null,
   "metadata": {},
   "outputs": [],
   "source": [
    "start = 0\n",
    "stop = 20\n",
    "array1 = np.arange(start,stop+1, 2)\n",
    "print(array1[1])            # 2nd element of array1\n",
    "print(array1[3])            # 4th element of array1\n",
    "print(array1[-1])           # last element of array1"
   ]
  },
  {
   "cell_type": "markdown",
   "metadata": {},
   "source": [
    "Accessing individual elements in two-dimensional arrays requires the specification of the row and the column index separated by a comma `,`. "
   ]
  },
  {
   "cell_type": "code",
   "execution_count": null,
   "metadata": {},
   "outputs": [],
   "source": [
    "array2 = np.array([[4,5,6],\n",
    "                  [1,2,3],\n",
    "                  [7,8,9]])\n",
    "# first element of first row\n",
    "print(array2[0, 0])\n",
    "# element in the second row and third column\n",
    "print(array2[1, 2])\n",
    "# last element\n",
    "print(array2[-1, -1])"
   ]
  },
  {
   "cell_type": "markdown",
   "metadata": {},
   "source": [
    "---\n",
    "### Example 6: Slicing"
   ]
  },
  {
   "cell_type": "markdown",
   "metadata": {},
   "source": [
    "Slicing (siehe chapter [9. Sequential Data Types](09a_SeqDataTypes_Theory.ipynb#slicing))  can equally be applied with `numpy` arrays.\n",
    "\n",
    "In case of one-dimensional arrays the syntax is the same as with sequential data types. "
   ]
  },
  {
   "cell_type": "code",
   "execution_count": null,
   "metadata": {},
   "outputs": [],
   "source": [
    "array3 = np.linspace(0, 20, 21) \n",
    "\n",
    "print(array3[:4])    # printing the first 4 values\n",
    "print(array3[5:11])  # printing value 5 to 11\n",
    "print(array3[7:])    # printing all values starting with the 8th value\n",
    "print(array3[7::2])  # printing every second value starting with the 8th value"
   ]
  },
  {
   "cell_type": "markdown",
   "metadata": {},
   "source": [
    "The following examples illustrate the use of slicing in two-dimensional arrays. "
   ]
  },
  {
   "cell_type": "code",
   "execution_count": null,
   "metadata": {},
   "outputs": [],
   "source": [
    "array4 = np.arange(25)\n",
    "array4 = array4.reshape(5,5)\n",
    "print(\"matrix 1\")\n",
    "print(array4)             # printing the 5x5 matrix\n",
    "print(\"\\nmatrix 2\")\n",
    "print(array4[:3, 2:])     # output of the columns from index 2 to the last index of the rows with index 0 to 2\n",
    "                          # i.e. a 3x3 matrix\n",
    "print(\"\\nmatrix 3\")\n",
    "print(array4[3:, :])      # output of all columns for the 4th (index 3) onwards \n",
    "                          # i.e. a 3x5 matrix\n",
    "print(\"\\nmatrix 4\")\n",
    "print(array4[:, 4:])      # output of the fith column (index 4) of all rows\n",
    "                          # i.e. a 5x1 matrix"
   ]
  },
  {
   "cell_type": "markdown",
   "metadata": {},
   "source": [
    "---\n",
    "## Self Test\n",
    "\n",
    "- The following questions aim at testing your knowlegde of the chapter.\n",
    "- Please run the following cell and select the appropriate answer.\n",
    "- After correctly answering the questions you may continue with the exercises or the next topic. \n"
   ]
  },
  {
   "cell_type": "code",
   "execution_count": 1,
   "metadata": {},
   "outputs": [
    {
     "data": {
      "application/vnd.jupyter.widget-view+json": {
       "model_id": "384727c8a87e4f38a16df5c810102b51",
       "version_major": 2,
       "version_minor": 0
      },
      "text/plain": [
       "VBox(children=(Output(), RadioButtons(options=(('[0 3 6 9]', 0), ('[1 4 7 10]', 1), ('[0 3 6 9 12]', 2)), valu…"
      ]
     },
     "metadata": {},
     "output_type": "display_data"
    },
    {
     "data": {
      "application/vnd.jupyter.widget-view+json": {
       "model_id": "91086ac02f4d4b2e980df9b1f05c9c7d",
       "version_major": 2,
       "version_minor": 0
      },
      "text/plain": [
       "VBox(children=(Output(), RadioButtons(options=(('[1 3 5]', 0), ('[1 2 3 4 5]', 1), ('[1.  1.5 2.  2.5 3. ]', 2…"
      ]
     },
     "metadata": {},
     "output_type": "display_data"
    },
    {
     "data": {
      "application/vnd.jupyter.widget-view+json": {
       "model_id": "06225281ba58418089db66b73e9a07b4",
       "version_major": 2,
       "version_minor": 0
      },
      "text/plain": [
       "VBox(children=(Output(), RadioButtons(options=(('3', 0), ('5', 1), ('9', 2), ('impossible', 3)), value=0), But…"
      ]
     },
     "metadata": {},
     "output_type": "display_data"
    },
    {
     "data": {
      "application/vnd.jupyter.widget-view+json": {
       "model_id": "63c8c8a245fb4386be6c363cacc1e61f",
       "version_major": 2,
       "version_minor": 0
      },
      "text/plain": [
       "VBox(children=(Output(), RadioButtons(options=(('np.arange()', 0), ('np.eye()', 1), ('np.zeros()', 2), ('np.li…"
      ]
     },
     "metadata": {},
     "output_type": "display_data"
    },
    {
     "data": {
      "application/vnd.jupyter.widget-view+json": {
       "model_id": "fd9e3e699ac046ecaa0b71d16a452bab",
       "version_major": 2,
       "version_minor": 0
      },
      "text/plain": [
       "VBox(children=(Output(), RadioButtons(options=(('1', 0), ('5', 1), ('7', 2), ('Error', 3)), value=0), Button(d…"
      ]
     },
     "metadata": {},
     "output_type": "display_data"
    },
    {
     "data": {
      "application/vnd.jupyter.widget-view+json": {
       "model_id": "bae23add85f542d9a5337703649d5511",
       "version_major": 2,
       "version_minor": 0
      },
      "text/plain": [
       "VBox(children=(Output(), RadioButtons(options=(('[2 3]', 0), ('[5 6]', 1), ('[7 8]', 2), ('[8 9]', 3), ('[4 5 …"
      ]
     },
     "metadata": {},
     "output_type": "display_data"
    }
   ],
   "source": [
    "%run data/10_SelfTest.ipynb"
   ]
  },
  {
   "cell_type": "markdown",
   "metadata": {},
   "source": [
    "\n",
    "---\n",
    "**Congratulations!**  You finished this chapter.\n",
    "\n",
    "Link to the exercises of chapter 10: [A 10. NumPy: Exercises](10b_NumPy_Exercises.ipynb)"
   ]
  },
  {
   "cell_type": "markdown",
   "metadata": {
    "deletable": false,
    "editable": false,
    "tags": []
   },
   "source": [
    "<a rel=\"license\" href=\"http://creativecommons.org/licenses/by-nc-nd/4.0/\"><img alt=\"Creative Commons License\" style=\"border-width:0\" src=\"https://i.creativecommons.org/l/by-nc-nd/4.0/88x31.png\" /></a><br /><span xmlns:dct=\"http://purl.org/dc/terms/\" property=\"dct:title\">JuPy Python Course</span> by <span xmlns:cc=\"http://creativecommons.org/ns#\" property=\"cc:attributionName\">EAH Jena</span> is licensed under a <a rel=\"license\" href=\"http://creativecommons.org/licenses/by-nc-nd/4.0/\">Creative Commons Attribution-NonCommercial-NoDerivatives 4.0 International License</a>."
   ]
  }
 ],
 "metadata": {
  "kernelspec": {
   "display_name": "Python 3 (ipykernel)",
   "language": "python",
   "name": "python3"
  },
  "language_info": {
   "codemirror_mode": {
    "name": "ipython",
    "version": 3
   },
   "file_extension": ".py",
   "mimetype": "text/x-python",
   "name": "python",
   "nbconvert_exporter": "python",
   "pygments_lexer": "ipython3",
   "version": "3.10.8"
  }
 },
 "nbformat": 4,
 "nbformat_minor": 4
}
